{
 "cells": [
  {
   "cell_type": "markdown",
   "metadata": {
    "id": "mTt7qGUTCcFs"
   },
   "source": [
    "# 직원 이직 분석"
   ]
  },
  {
   "cell_type": "markdown",
   "metadata": {
    "id": "t42CZ_o2iHvT"
   },
   "source": [
    "* 직원의 이직여부과 관련해서 분석을 하려고 한다.\n",
    "* 최근 이직율이 증가하는 것에 대해, 이직여부에 영향을 주는 요인에 대해 분석하여, 직원들이 회사를 떠나지 않도록 인사 프로그램을 준비하려고 합니다."
   ]
  },
  {
   "cell_type": "markdown",
   "metadata": {
    "id": "0wuYJKZHjA3d"
   },
   "source": [
    "![](https://adoptostaging.blob.core.windows.net/media/employee-attrition-reasons-9LIqMv.jpg)"
   ]
  },
  {
   "cell_type": "markdown",
   "metadata": {
    "id": "AHmt88Q5EVsj"
   },
   "source": [
    "## 0.환경설정"
   ]
  },
  {
   "cell_type": "markdown",
   "metadata": {
    "id": "KnzVh2LmkLDU"
   },
   "source": [
    "### 1) 라이브러리 로딩"
   ]
  },
  {
   "cell_type": "code",
   "execution_count": 70,
   "metadata": {
    "id": "3rsQerEaELwI"
   },
   "outputs": [],
   "source": [
    "import pandas as pd\n",
    "import numpy as np\n",
    "import matplotlib.pyplot as plt\n",
    "import seaborn as sns\n",
    "\n",
    "from statsmodels.graphics.mosaicplot import mosaic\n",
    "from scipy import stats as spst\n",
    "import statsmodels.api as sm\n",
    "import warnings\n",
    "warnings.filterwarnings('ignore')"
   ]
  },
  {
   "cell_type": "markdown",
   "metadata": {
    "id": "5Qh5KYWokO_N"
   },
   "source": [
    "### 2) 데이터 로딩"
   ]
  },
  {
   "cell_type": "code",
   "execution_count": 71,
   "metadata": {},
   "outputs": [
    {
     "data": {
      "text/html": [
       "<div>\n",
       "<style scoped>\n",
       "    .dataframe tbody tr th:only-of-type {\n",
       "        vertical-align: middle;\n",
       "    }\n",
       "\n",
       "    .dataframe tbody tr th {\n",
       "        vertical-align: top;\n",
       "    }\n",
       "\n",
       "    .dataframe thead th {\n",
       "        text-align: right;\n",
       "    }\n",
       "</style>\n",
       "<table border=\"1\" class=\"dataframe\">\n",
       "  <thead>\n",
       "    <tr style=\"text-align: right;\">\n",
       "      <th></th>\n",
       "      <th>Attrition</th>\n",
       "      <th>Age</th>\n",
       "      <th>BusinessTravel</th>\n",
       "      <th>Department</th>\n",
       "      <th>DistanceFromHome</th>\n",
       "      <th>Education</th>\n",
       "      <th>EducationField</th>\n",
       "      <th>EmployeeNumber</th>\n",
       "      <th>EnvironmentSatisfaction</th>\n",
       "      <th>Gender</th>\n",
       "      <th>...</th>\n",
       "      <th>OverTime</th>\n",
       "      <th>PercentSalaryHike</th>\n",
       "      <th>RelationshipSatisfaction</th>\n",
       "      <th>StockOptionLevel</th>\n",
       "      <th>TotalWorkingYears</th>\n",
       "      <th>TrainingTimesLastYear</th>\n",
       "      <th>WorkLifeBalance</th>\n",
       "      <th>YearsAtCompany</th>\n",
       "      <th>YearsInCurrentRole</th>\n",
       "      <th>YearsWithCurrManager</th>\n",
       "    </tr>\n",
       "  </thead>\n",
       "  <tbody>\n",
       "    <tr>\n",
       "      <th>1240</th>\n",
       "      <td>0</td>\n",
       "      <td>32</td>\n",
       "      <td>Travel_Rarely</td>\n",
       "      <td>Research &amp; Development</td>\n",
       "      <td>6.0</td>\n",
       "      <td>5</td>\n",
       "      <td>Life Sciences</td>\n",
       "      <td>231</td>\n",
       "      <td>3</td>\n",
       "      <td>Male</td>\n",
       "      <td>...</td>\n",
       "      <td>No</td>\n",
       "      <td>20</td>\n",
       "      <td>1</td>\n",
       "      <td>0</td>\n",
       "      <td>8</td>\n",
       "      <td>2</td>\n",
       "      <td>3</td>\n",
       "      <td>5</td>\n",
       "      <td>4</td>\n",
       "      <td>4</td>\n",
       "    </tr>\n",
       "    <tr>\n",
       "      <th>1241</th>\n",
       "      <td>0</td>\n",
       "      <td>29</td>\n",
       "      <td>Travel_Rarely</td>\n",
       "      <td>Sales</td>\n",
       "      <td>19.0</td>\n",
       "      <td>3</td>\n",
       "      <td>Life Sciences</td>\n",
       "      <td>1497</td>\n",
       "      <td>3</td>\n",
       "      <td>Male</td>\n",
       "      <td>...</td>\n",
       "      <td>No</td>\n",
       "      <td>14</td>\n",
       "      <td>3</td>\n",
       "      <td>2</td>\n",
       "      <td>10</td>\n",
       "      <td>3</td>\n",
       "      <td>3</td>\n",
       "      <td>10</td>\n",
       "      <td>7</td>\n",
       "      <td>4</td>\n",
       "    </tr>\n",
       "    <tr>\n",
       "      <th>1242</th>\n",
       "      <td>0</td>\n",
       "      <td>31</td>\n",
       "      <td>Non-Travel</td>\n",
       "      <td>Research &amp; Development</td>\n",
       "      <td>1.0</td>\n",
       "      <td>4</td>\n",
       "      <td>Medical</td>\n",
       "      <td>308</td>\n",
       "      <td>3</td>\n",
       "      <td>Male</td>\n",
       "      <td>...</td>\n",
       "      <td>No</td>\n",
       "      <td>12</td>\n",
       "      <td>4</td>\n",
       "      <td>1</td>\n",
       "      <td>6</td>\n",
       "      <td>2</td>\n",
       "      <td>3</td>\n",
       "      <td>5</td>\n",
       "      <td>4</td>\n",
       "      <td>4</td>\n",
       "    </tr>\n",
       "    <tr>\n",
       "      <th>1243</th>\n",
       "      <td>0</td>\n",
       "      <td>27</td>\n",
       "      <td>Travel_Rarely</td>\n",
       "      <td>Research &amp; Development</td>\n",
       "      <td>5.0</td>\n",
       "      <td>1</td>\n",
       "      <td>Technical Degree</td>\n",
       "      <td>844</td>\n",
       "      <td>3</td>\n",
       "      <td>Male</td>\n",
       "      <td>...</td>\n",
       "      <td>Yes</td>\n",
       "      <td>16</td>\n",
       "      <td>2</td>\n",
       "      <td>1</td>\n",
       "      <td>9</td>\n",
       "      <td>3</td>\n",
       "      <td>3</td>\n",
       "      <td>9</td>\n",
       "      <td>8</td>\n",
       "      <td>8</td>\n",
       "    </tr>\n",
       "    <tr>\n",
       "      <th>1244</th>\n",
       "      <td>0</td>\n",
       "      <td>32</td>\n",
       "      <td>Travel_Rarely</td>\n",
       "      <td>Research &amp; Development</td>\n",
       "      <td>5.0</td>\n",
       "      <td>2</td>\n",
       "      <td>Life Sciences</td>\n",
       "      <td>1555</td>\n",
       "      <td>4</td>\n",
       "      <td>Female</td>\n",
       "      <td>...</td>\n",
       "      <td>No</td>\n",
       "      <td>12</td>\n",
       "      <td>1</td>\n",
       "      <td>1</td>\n",
       "      <td>12</td>\n",
       "      <td>2</td>\n",
       "      <td>3</td>\n",
       "      <td>7</td>\n",
       "      <td>1</td>\n",
       "      <td>5</td>\n",
       "    </tr>\n",
       "    <tr>\n",
       "      <th>1245</th>\n",
       "      <td>0</td>\n",
       "      <td>27</td>\n",
       "      <td>Travel_Rarely</td>\n",
       "      <td>Research &amp; Development</td>\n",
       "      <td>19.0</td>\n",
       "      <td>3</td>\n",
       "      <td>Other</td>\n",
       "      <td>1619</td>\n",
       "      <td>4</td>\n",
       "      <td>Male</td>\n",
       "      <td>...</td>\n",
       "      <td>No</td>\n",
       "      <td>11</td>\n",
       "      <td>1</td>\n",
       "      <td>2</td>\n",
       "      <td>7</td>\n",
       "      <td>3</td>\n",
       "      <td>3</td>\n",
       "      <td>7</td>\n",
       "      <td>7</td>\n",
       "      <td>7</td>\n",
       "    </tr>\n",
       "    <tr>\n",
       "      <th>1246</th>\n",
       "      <td>0</td>\n",
       "      <td>29</td>\n",
       "      <td>Travel_Rarely</td>\n",
       "      <td>Research &amp; Development</td>\n",
       "      <td>9.0</td>\n",
       "      <td>3</td>\n",
       "      <td>Life Sciences</td>\n",
       "      <td>1558</td>\n",
       "      <td>3</td>\n",
       "      <td>Male</td>\n",
       "      <td>...</td>\n",
       "      <td>No</td>\n",
       "      <td>18</td>\n",
       "      <td>1</td>\n",
       "      <td>2</td>\n",
       "      <td>5</td>\n",
       "      <td>2</td>\n",
       "      <td>2</td>\n",
       "      <td>1</td>\n",
       "      <td>0</td>\n",
       "      <td>0</td>\n",
       "    </tr>\n",
       "    <tr>\n",
       "      <th>1247</th>\n",
       "      <td>0</td>\n",
       "      <td>29</td>\n",
       "      <td>Non-Travel</td>\n",
       "      <td>Sales</td>\n",
       "      <td>2.0</td>\n",
       "      <td>3</td>\n",
       "      <td>Life Sciences</td>\n",
       "      <td>469</td>\n",
       "      <td>4</td>\n",
       "      <td>Male</td>\n",
       "      <td>...</td>\n",
       "      <td>No</td>\n",
       "      <td>14</td>\n",
       "      <td>1</td>\n",
       "      <td>1</td>\n",
       "      <td>4</td>\n",
       "      <td>3</td>\n",
       "      <td>2</td>\n",
       "      <td>4</td>\n",
       "      <td>3</td>\n",
       "      <td>2</td>\n",
       "    </tr>\n",
       "    <tr>\n",
       "      <th>1248</th>\n",
       "      <td>0</td>\n",
       "      <td>43</td>\n",
       "      <td>Travel_Rarely</td>\n",
       "      <td>Sales</td>\n",
       "      <td>16.0</td>\n",
       "      <td>3</td>\n",
       "      <td>Marketing</td>\n",
       "      <td>327</td>\n",
       "      <td>4</td>\n",
       "      <td>Female</td>\n",
       "      <td>...</td>\n",
       "      <td>Yes</td>\n",
       "      <td>22</td>\n",
       "      <td>3</td>\n",
       "      <td>1</td>\n",
       "      <td>22</td>\n",
       "      <td>3</td>\n",
       "      <td>3</td>\n",
       "      <td>17</td>\n",
       "      <td>13</td>\n",
       "      <td>9</td>\n",
       "    </tr>\n",
       "    <tr>\n",
       "      <th>1249</th>\n",
       "      <td>0</td>\n",
       "      <td>26</td>\n",
       "      <td>Travel_Rarely</td>\n",
       "      <td>Research &amp; Development</td>\n",
       "      <td>NaN</td>\n",
       "      <td>4</td>\n",
       "      <td>Medical</td>\n",
       "      <td>1177</td>\n",
       "      <td>1</td>\n",
       "      <td>Male</td>\n",
       "      <td>...</td>\n",
       "      <td>No</td>\n",
       "      <td>22</td>\n",
       "      <td>2</td>\n",
       "      <td>1</td>\n",
       "      <td>8</td>\n",
       "      <td>2</td>\n",
       "      <td>3</td>\n",
       "      <td>8</td>\n",
       "      <td>7</td>\n",
       "      <td>7</td>\n",
       "    </tr>\n",
       "  </tbody>\n",
       "</table>\n",
       "<p>10 rows × 26 columns</p>\n",
       "</div>"
      ],
      "text/plain": [
       "      Attrition  Age BusinessTravel              Department  DistanceFromHome  \\\n",
       "1240          0   32  Travel_Rarely  Research & Development               6.0   \n",
       "1241          0   29  Travel_Rarely                   Sales              19.0   \n",
       "1242          0   31     Non-Travel  Research & Development               1.0   \n",
       "1243          0   27  Travel_Rarely  Research & Development               5.0   \n",
       "1244          0   32  Travel_Rarely  Research & Development               5.0   \n",
       "1245          0   27  Travel_Rarely  Research & Development              19.0   \n",
       "1246          0   29  Travel_Rarely  Research & Development               9.0   \n",
       "1247          0   29     Non-Travel                   Sales               2.0   \n",
       "1248          0   43  Travel_Rarely                   Sales              16.0   \n",
       "1249          0   26  Travel_Rarely  Research & Development               NaN   \n",
       "\n",
       "      Education    EducationField  EmployeeNumber  EnvironmentSatisfaction  \\\n",
       "1240          5     Life Sciences             231                        3   \n",
       "1241          3     Life Sciences            1497                        3   \n",
       "1242          4           Medical             308                        3   \n",
       "1243          1  Technical Degree             844                        3   \n",
       "1244          2     Life Sciences            1555                        4   \n",
       "1245          3             Other            1619                        4   \n",
       "1246          3     Life Sciences            1558                        3   \n",
       "1247          3     Life Sciences             469                        4   \n",
       "1248          3         Marketing             327                        4   \n",
       "1249          4           Medical            1177                        1   \n",
       "\n",
       "      Gender  ...  OverTime PercentSalaryHike  RelationshipSatisfaction  \\\n",
       "1240    Male  ...        No                20                         1   \n",
       "1241    Male  ...        No                14                         3   \n",
       "1242    Male  ...        No                12                         4   \n",
       "1243    Male  ...       Yes                16                         2   \n",
       "1244  Female  ...        No                12                         1   \n",
       "1245    Male  ...        No                11                         1   \n",
       "1246    Male  ...        No                18                         1   \n",
       "1247    Male  ...        No                14                         1   \n",
       "1248  Female  ...       Yes                22                         3   \n",
       "1249    Male  ...        No                22                         2   \n",
       "\n",
       "     StockOptionLevel  TotalWorkingYears  TrainingTimesLastYear  \\\n",
       "1240                0                  8                      2   \n",
       "1241                2                 10                      3   \n",
       "1242                1                  6                      2   \n",
       "1243                1                  9                      3   \n",
       "1244                1                 12                      2   \n",
       "1245                2                  7                      3   \n",
       "1246                2                  5                      2   \n",
       "1247                1                  4                      3   \n",
       "1248                1                 22                      3   \n",
       "1249                1                  8                      2   \n",
       "\n",
       "     WorkLifeBalance  YearsAtCompany  YearsInCurrentRole  YearsWithCurrManager  \n",
       "1240               3               5                   4                     4  \n",
       "1241               3              10                   7                     4  \n",
       "1242               3               5                   4                     4  \n",
       "1243               3               9                   8                     8  \n",
       "1244               3               7                   1                     5  \n",
       "1245               3               7                   7                     7  \n",
       "1246               2               1                   0                     0  \n",
       "1247               2               4                   3                     2  \n",
       "1248               3              17                  13                     9  \n",
       "1249               3               8                   7                     7  \n",
       "\n",
       "[10 rows x 26 columns]"
      ]
     },
     "execution_count": 71,
     "metadata": {},
     "output_type": "execute_result"
    }
   ],
   "source": [
    "# data data\n",
    "path = \"https://raw.githubusercontent.com/DA4BAM/dataset/master/Attrition_NA.CSV\"\n",
    "data = pd.read_csv(path)\n",
    "data['Attrition'] = np.where(data['Attrition']=='Yes', 1, 0)\n",
    "data.tail(10)"
   ]
  },
  {
   "cell_type": "markdown",
   "metadata": {
    "id": "v50TP8BhMJKx"
   },
   "source": [
    "|\t변수 명\t|\t내용\t|\t구분\t|\n",
    "|\t----\t|\t----\t|\t----\t|\n",
    "|\t**Attrition**\t|\t이직여부, Yes = 1 , No = 0\t|\t**Target**\t|\n",
    "|\tAge\t|\t나이\t|\t숫자\t|\n",
    "|\tBusinessTravel\t|\t출장 빈도(범주)\t|\t\t|\n",
    "|\tDepartment\t|\t현 부서\t|\t\t|\n",
    "|\tDistanceFromHome\t|\t집-직장 거리(마일)\t|\t숫자\t|\n",
    "|\tEducation\t|\t교육수준(범주)\t|\t1 Below College, 2 College, 3 Bachelor, 4 Master, 5 Doctor\t|\n",
    "|\tEducationField\t|\t전공\t|\t\t|\n",
    "|\tEmployeeNumber\t|\t사번\t|\t\t|\n",
    "|\tEnvironmentSatisfaction\t|\t근무환경에 대한 만족도(범주)\t|\t1 Low, 2 Good, 3 Excellent, 4 Outstanding\t|\n",
    "|\tGender\t|\t성별\t|\t\t|\n",
    "|\tJobInvolvement\t|\t직무 적극성(참여도)\t|\t1 Low, 2 Medium, 3 High, 4 Very High\t|\n",
    "|\tJobRole\t|\t직무\t|\t\t|\n",
    "|\tJobSatisfaction\t|\t직무 만족도\t|\t1 Low, 2 Medium, 3 High, 4 Very High\t|\n",
    "|\tMaritalStatus\t|\t결혼상태\t|\t\t|\n",
    "|\tMonthlyIncome\t|\t월급\t|\t숫자\t|\n",
    "|\tNumCompaniesWorked\t|\t현재까지 근무한 회사 수\t|\t숫자\t|\n",
    "|\tOverTime\t|\t야근여부\t|\t범주\t|\n",
    "|\tPercentSalaryHike\t|\t전년대비 급여인상율(%)\t|\t숫자\t|\n",
    "|\tRelationshipSatisfaction\t|\t동료와의 관계 만족도\t|\t1 Low, 2 Medium, 3 High, 4 Very High\t|\n",
    "|\tStockOptionLevel\t|\t스톡옵션 수준 0~3\t|\t범주\t|\n",
    "|\tTotalWorkingYears\t|\t총 근무 연수\t|\t숫자\t|\n",
    "|\tTrainingTimesLastYear\t|\t전년 교육훈련 횟수\t|\t숫자\t|\n",
    "|\tWorkLifeBalance\t|\t워라밸. 일-삶 균형도\t|\t1 Bad, 2 Good, 3 Better, 4 Best\t|\n",
    "|\tYearsAtCompany\t|\t현직장 근무 연수\t|\t숫자\t|\n",
    "|\tYearsInCurrentRole\t|\t현직무 연수\t|\t숫자\t|\n",
    "|\tYearsWithCurrManager\t|\t현 팀장과 근무한 연수\t|\t숫자\t|\n"
   ]
  },
  {
   "cell_type": "markdown",
   "metadata": {},
   "source": [
    "26개의 columns, 1250의 rows"
   ]
  },
  {
   "cell_type": "markdown",
   "metadata": {
    "id": "bKimk8qVm8oC"
   },
   "source": [
    "----"
   ]
  },
  {
   "cell_type": "markdown",
   "metadata": {
    "id": "0bouXLxGkSSd"
   },
   "source": [
    "## 1. 데이터 탐색"
   ]
  },
  {
   "cell_type": "code",
   "execution_count": 3,
   "metadata": {},
   "outputs": [
    {
     "name": "stdout",
     "output_type": "stream",
     "text": [
      "<class 'pandas.core.frame.DataFrame'>\n",
      "RangeIndex: 1250 entries, 0 to 1249\n",
      "Data columns (total 26 columns):\n",
      " #   Column                    Non-Null Count  Dtype  \n",
      "---  ------                    --------------  -----  \n",
      " 0   Attrition                 1250 non-null   int32  \n",
      " 1   Age                       1250 non-null   int64  \n",
      " 2   BusinessTravel            1250 non-null   object \n",
      " 3   Department                1250 non-null   object \n",
      " 4   DistanceFromHome          1196 non-null   float64\n",
      " 5   Education                 1250 non-null   int64  \n",
      " 6   EducationField            1250 non-null   object \n",
      " 7   EmployeeNumber            1250 non-null   int64  \n",
      " 8   EnvironmentSatisfaction   1250 non-null   int64  \n",
      " 9   Gender                    1250 non-null   object \n",
      " 10  JobInvolvement            1250 non-null   int64  \n",
      " 11  JobRole                   1250 non-null   object \n",
      " 12  JobSatisfaction           1250 non-null   int64  \n",
      " 13  MaritalStatus             1250 non-null   object \n",
      " 14  MonthlyIncome             1250 non-null   int64  \n",
      " 15  NumCompaniesWorked        1229 non-null   float64\n",
      " 16  OverTime                  1250 non-null   object \n",
      " 17  PercentSalaryHike         1250 non-null   int64  \n",
      " 18  RelationshipSatisfaction  1250 non-null   int64  \n",
      " 19  StockOptionLevel          1250 non-null   int64  \n",
      " 20  TotalWorkingYears         1250 non-null   int64  \n",
      " 21  TrainingTimesLastYear     1250 non-null   int64  \n",
      " 22  WorkLifeBalance           1250 non-null   int64  \n",
      " 23  YearsAtCompany            1250 non-null   int64  \n",
      " 24  YearsInCurrentRole        1250 non-null   int64  \n",
      " 25  YearsWithCurrManager      1250 non-null   int64  \n",
      "dtypes: float64(2), int32(1), int64(16), object(7)\n",
      "memory usage: 249.1+ KB\n"
     ]
    }
   ],
   "source": [
    "data.info()"
   ]
  },
  {
   "cell_type": "markdown",
   "metadata": {
    "id": "82xzJIZhnAaX"
   },
   "source": [
    "----"
   ]
  },
  {
   "cell_type": "markdown",
   "metadata": {
    "id": "ZghJJ7yLEpDA"
   },
   "source": [
    "## 1-1.이변량 분석 "
   ]
  },
  {
   "cell_type": "code",
   "execution_count": 72,
   "metadata": {
    "id": "tUUucWz3AuhR"
   },
   "outputs": [],
   "source": [
    "target='Attrition'"
   ]
  },
  {
   "cell_type": "markdown",
   "metadata": {
    "id": "fap08wfEMqtY"
   },
   "source": [
    "### (1) 범주형 Feature --> Target"
   ]
  },
  {
   "cell_type": "markdown",
   "metadata": {
    "id": "6G2XVI7sklqQ"
   },
   "source": [
    "#### 1) Gender --> Attrition"
   ]
  },
  {
   "cell_type": "code",
   "execution_count": 5,
   "metadata": {
    "id": "EWXtZEr_X0ok"
   },
   "outputs": [],
   "source": [
    "feature = 'Gender'"
   ]
  },
  {
   "cell_type": "markdown",
   "metadata": {
    "id": "sq4qjPyrXkS3"
   },
   "source": [
    "① 교차표(pd.crosstab())"
   ]
  },
  {
   "cell_type": "code",
   "execution_count": 6,
   "metadata": {
    "id": "qkS8v_BxX3Gk"
   },
   "outputs": [
    {
     "data": {
      "text/html": [
       "<div>\n",
       "<style scoped>\n",
       "    .dataframe tbody tr th:only-of-type {\n",
       "        vertical-align: middle;\n",
       "    }\n",
       "\n",
       "    .dataframe tbody tr th {\n",
       "        vertical-align: top;\n",
       "    }\n",
       "\n",
       "    .dataframe thead th {\n",
       "        text-align: right;\n",
       "    }\n",
       "</style>\n",
       "<table border=\"1\" class=\"dataframe\">\n",
       "  <thead>\n",
       "    <tr style=\"text-align: right;\">\n",
       "      <th>Gender</th>\n",
       "      <th>Female</th>\n",
       "      <th>Male</th>\n",
       "    </tr>\n",
       "    <tr>\n",
       "      <th>Attrition</th>\n",
       "      <th></th>\n",
       "      <th></th>\n",
       "    </tr>\n",
       "  </thead>\n",
       "  <tbody>\n",
       "    <tr>\n",
       "      <th>0</th>\n",
       "      <td>0.859184</td>\n",
       "      <td>0.827632</td>\n",
       "    </tr>\n",
       "    <tr>\n",
       "      <th>1</th>\n",
       "      <td>0.140816</td>\n",
       "      <td>0.172368</td>\n",
       "    </tr>\n",
       "  </tbody>\n",
       "</table>\n",
       "</div>"
      ],
      "text/plain": [
       "Gender       Female      Male\n",
       "Attrition                    \n",
       "0          0.859184  0.827632\n",
       "1          0.140816  0.172368"
      ]
     },
     "execution_count": 6,
     "metadata": {},
     "output_type": "execute_result"
    }
   ],
   "source": [
    "pd.crosstab(data[target], data[feature], normalize='columns')"
   ]
  },
  {
   "cell_type": "markdown",
   "metadata": {
    "id": "s2QiOyPmZ1Sy"
   },
   "source": [
    "② 시각화( Stacked Bar, Mosaic)"
   ]
  },
  {
   "cell_type": "code",
   "execution_count": 7,
   "metadata": {
    "id": "eLZgTrQqYciB"
   },
   "outputs": [
    {
     "data": {
      "image/png": "[encoded data removed]",
      "text/plain": [
       "<Figure size 432x288 with 1 Axes>"
      ]
     },
     "metadata": {
      "needs_background": "light"
     },
     "output_type": "display_data"
    }
   ],
   "source": [
    "target_mean=data[target].mean()\n",
    "temp = pd.crosstab(data[feature], data[target], normalize = 'index') #집계\n",
    "temp.plot.bar(stacked=True)\n",
    "plt.axhline(1-target_mean, color = 'r')\n",
    "plt.show()"
   ]
  },
  {
   "cell_type": "code",
   "execution_count": 17,
   "metadata": {
    "id": "RVjIC6RsaQfv"
   },
   "outputs": [
    {
     "data": {
      "image/png": "[encoded data removed]",
      "text/plain": [
       "<Figure size 432x288 with 3 Axes>"
      ]
     },
     "metadata": {
      "needs_background": "light"
     },
     "output_type": "display_data"
    }
   ],
   "source": [
    "mosaic(data, [ feature, target])\n",
    "plt.axhline(1- target_mean, color = 'r')\n",
    "plt.show()"
   ]
  },
  {
   "cell_type": "markdown",
   "metadata": {
    "id": "V1pyYZ3ibCyO"
   },
   "source": [
    "시각화를 통해 파악한 내용을 적어 봅시다."
   ]
  },
  {
   "cell_type": "markdown",
   "metadata": {
    "id": "ACUmG-fj_k9m"
   },
   "source": [
    "* 여자와 남자의 이직률이 거의 비슷하고 평균과 큰 차이가 없다"
   ]
  },
  {
   "cell_type": "markdown",
   "metadata": {
    "id": "8MX4b9jZbGal"
   },
   "source": [
    "③ 가설검정(카이제곱검정)"
   ]
  },
  {
   "cell_type": "code",
   "execution_count": 19,
   "metadata": {
    "id": "ZIhdTgsSnE_P"
   },
   "outputs": [
    {
     "name": "stdout",
     "output_type": "stream",
     "text": [
      "교차표\n",
      " Gender     Female  Male\n",
      "Attrition              \n",
      "0             421   629\n",
      "1              69   131\n",
      "----------------------------------------------------------------------------------------------------\n",
      "카이제곱통계량 1.9782495940105371\n",
      "p-value 0.15957492990528155\n",
      "자유도 1\n"
     ]
    }
   ],
   "source": [
    "kai=pd.crosstab(data[target], data[feature])\n",
    "print('교차표\\n', kai)\n",
    "print('-' * 100)\n",
    "\n",
    "result = spst.chi2_contingency(kai)\n",
    "print('카이제곱통계량', result[0])\n",
    "print('p-value', result[1])\n",
    "print('자유도', result[2])"
   ]
  },
  {
   "cell_type": "markdown",
   "metadata": {
    "id": "wuH_fPA6bTE1"
   },
   "source": [
    "④ 시각화와 가설검정을 통해서 파악한 내용을 적어 봅시다."
   ]
  },
  {
   "cell_type": "markdown",
   "metadata": {
    "id": "w0z8Jopd_neN"
   },
   "source": [
    "* 가설검정\n",
    "    * 카이제곱통계량이 자유도의 2배가 안됨\n",
    "    * p-value가 0.05보다 큼\n",
    "    >성별과 이직율은 상관관계가 없다"
   ]
  },
  {
   "cell_type": "markdown",
   "metadata": {
    "id": "Dh2UW7_S-yoq"
   },
   "source": [
    "#### 2) MaritalStatus --> Attrtion"
   ]
  },
  {
   "cell_type": "code",
   "execution_count": 22,
   "metadata": {
    "id": "f1VqOTCI_r5B"
   },
   "outputs": [],
   "source": [
    "feature='MaritalStatus'"
   ]
  },
  {
   "cell_type": "markdown",
   "metadata": {
    "id": "_pZCSo7a_r5B"
   },
   "source": [
    "① 교차표(pd.crosstab())"
   ]
  },
  {
   "cell_type": "code",
   "execution_count": 23,
   "metadata": {
    "id": "cxeF94rX_r5B"
   },
   "outputs": [
    {
     "data": {
      "text/html": [
       "<div>\n",
       "<style scoped>\n",
       "    .dataframe tbody tr th:only-of-type {\n",
       "        vertical-align: middle;\n",
       "    }\n",
       "\n",
       "    .dataframe tbody tr th {\n",
       "        vertical-align: top;\n",
       "    }\n",
       "\n",
       "    .dataframe thead th {\n",
       "        text-align: right;\n",
       "    }\n",
       "</style>\n",
       "<table border=\"1\" class=\"dataframe\">\n",
       "  <thead>\n",
       "    <tr style=\"text-align: right;\">\n",
       "      <th>MaritalStatus</th>\n",
       "      <th>Divorced</th>\n",
       "      <th>Married</th>\n",
       "      <th>Single</th>\n",
       "    </tr>\n",
       "    <tr>\n",
       "      <th>Attrition</th>\n",
       "      <th></th>\n",
       "      <th></th>\n",
       "      <th></th>\n",
       "    </tr>\n",
       "  </thead>\n",
       "  <tbody>\n",
       "    <tr>\n",
       "      <th>0</th>\n",
       "      <td>0.916667</td>\n",
       "      <td>0.878947</td>\n",
       "      <td>0.732673</td>\n",
       "    </tr>\n",
       "    <tr>\n",
       "      <th>1</th>\n",
       "      <td>0.083333</td>\n",
       "      <td>0.121053</td>\n",
       "      <td>0.267327</td>\n",
       "    </tr>\n",
       "  </tbody>\n",
       "</table>\n",
       "</div>"
      ],
      "text/plain": [
       "MaritalStatus  Divorced   Married    Single\n",
       "Attrition                                  \n",
       "0              0.916667  0.878947  0.732673\n",
       "1              0.083333  0.121053  0.267327"
      ]
     },
     "execution_count": 23,
     "metadata": {},
     "output_type": "execute_result"
    }
   ],
   "source": [
    "pd.crosstab(data[target], data[feature], normalize='columns')"
   ]
  },
  {
   "cell_type": "markdown",
   "metadata": {
    "id": "inJiW9SV_r5B"
   },
   "source": [
    "② 시각화( Stacked Bar, Mosaic)"
   ]
  },
  {
   "cell_type": "code",
   "execution_count": 34,
   "metadata": {
    "id": "6kNlRTmg_r5B"
   },
   "outputs": [
    {
     "data": {
      "image/png": "[encoded data removed]",
      "text/plain": [
       "<Figure size 432x288 with 1 Axes>"
      ]
     },
     "metadata": {
      "needs_background": "light"
     },
     "output_type": "display_data"
    }
   ],
   "source": [
    "temp = pd.crosstab(data[feature], data[target], normalize = 'index') #집계\n",
    "temp.plot.bar(stacked=True)\n",
    "plt.axhline(1-target_mean, color = 'r')\n",
    "plt.show()"
   ]
  },
  {
   "cell_type": "code",
   "execution_count": 36,
   "metadata": {
    "id": "Ao19t9rI_r5C"
   },
   "outputs": [
    {
     "data": {
      "image/png": "[encoded data removed]",
      "text/plain": [
       "<Figure size 432x288 with 3 Axes>"
      ]
     },
     "metadata": {
      "needs_background": "light"
     },
     "output_type": "display_data"
    }
   ],
   "source": [
    "mosaic(data, [ feature, target])\n",
    "plt.axhline(1- target_mean, color = 'r')\n",
    "plt.show()"
   ]
  },
  {
   "cell_type": "markdown",
   "metadata": {
    "id": "IERZck_i_r5C"
   },
   "source": [
    "시각화를 통해 파악한 내용을 적어 봅시다."
   ]
  },
  {
   "cell_type": "markdown",
   "metadata": {
    "id": "8qA_MXni_r5C"
   },
   "source": [
    "MaritalStatus(결혼상태)에 대한 고유값들이 영향이 있음\n",
    "\n",
    "'single','Divorced','Married' 순으로 차이가남"
   ]
  },
  {
   "cell_type": "markdown",
   "metadata": {
    "id": "PHuRBzO-_r5C"
   },
   "source": [
    "③ 가설검정(카이제곱검정)"
   ]
  },
  {
   "cell_type": "code",
   "execution_count": 37,
   "metadata": {
    "id": "a8M7jekD_r5C"
   },
   "outputs": [
    {
     "name": "stdout",
     "output_type": "stream",
     "text": [
      "교차표\n",
      " MaritalStatus  Divorced  Married  Single\n",
      "Attrition                               \n",
      "0                   253      501     296\n",
      "1                    23       69     108\n",
      "----------------------------------------------------------------------------------------------------\n",
      "카이제곱통계량 53.12935546374186\n",
      "p-value 2.9047385436211595e-12\n",
      "자유도 2\n"
     ]
    }
   ],
   "source": [
    "kai=pd.crosstab(data[target], data[feature])\n",
    "print('교차표\\n', kai)\n",
    "print('-' * 100)\n",
    "\n",
    "result = spst.chi2_contingency(kai)\n",
    "print('카이제곱통계량', result[0])\n",
    "print('p-value', result[1])\n",
    "print('자유도', result[2])"
   ]
  },
  {
   "cell_type": "markdown",
   "metadata": {
    "id": "bti4jVny_r5C"
   },
   "source": [
    "④ 시각화와 가설검정을 통해서 파악한 내용을 적어 봅시다."
   ]
  },
  {
   "cell_type": "markdown",
   "metadata": {
    "id": "jhaf5V6u_r5C"
   },
   "source": [
    "* 가설검정\n",
    "    * 카이제곱통계량이 크다\n",
    "    * p-value가 0.05보다 작음\n",
    "    >결혼상태과 이직율은 상관관계가 있다\n",
    "    (중간?강한관계)"
   ]
  },
  {
   "cell_type": "markdown",
   "metadata": {},
   "source": [
    "- p_value가 5%보다 작은 것으로 보아 결혼의 유무는 이직에 영향을 주는것으로 보임\n",
    "- 기혼자가 이직률이 낮은 이유에 대해서는 책임질 가정이 있기 때문인것으로 보임\n",
    "- 반대로 싱글의 경우 본인만 책임지면 되기때문에 상대적으로 이직률이 높은것으로 보임"
   ]
  },
  {
   "cell_type": "markdown",
   "metadata": {
    "id": "4UMjF0sTkr-4"
   },
   "source": [
    "#### 3) JobSatisfaction --> Attrtion"
   ]
  },
  {
   "cell_type": "code",
   "execution_count": 38,
   "metadata": {
    "id": "_peBfhAt_yBV"
   },
   "outputs": [],
   "source": [
    "feature='JobSatisfaction'"
   ]
  },
  {
   "cell_type": "markdown",
   "metadata": {
    "id": "_qfv5Ezt_yBV"
   },
   "source": [
    "① 교차표(pd.crosstab())"
   ]
  },
  {
   "cell_type": "code",
   "execution_count": 39,
   "metadata": {
    "id": "9yW_UhAh_yBV"
   },
   "outputs": [
    {
     "data": {
      "text/html": [
       "<div>\n",
       "<style scoped>\n",
       "    .dataframe tbody tr th:only-of-type {\n",
       "        vertical-align: middle;\n",
       "    }\n",
       "\n",
       "    .dataframe tbody tr th {\n",
       "        vertical-align: top;\n",
       "    }\n",
       "\n",
       "    .dataframe thead th {\n",
       "        text-align: right;\n",
       "    }\n",
       "</style>\n",
       "<table border=\"1\" class=\"dataframe\">\n",
       "  <thead>\n",
       "    <tr style=\"text-align: right;\">\n",
       "      <th>JobSatisfaction</th>\n",
       "      <th>1</th>\n",
       "      <th>2</th>\n",
       "      <th>3</th>\n",
       "      <th>4</th>\n",
       "    </tr>\n",
       "    <tr>\n",
       "      <th>Attrition</th>\n",
       "      <th></th>\n",
       "      <th></th>\n",
       "      <th></th>\n",
       "      <th></th>\n",
       "    </tr>\n",
       "  </thead>\n",
       "  <tbody>\n",
       "    <tr>\n",
       "      <th>0</th>\n",
       "      <td>0.788</td>\n",
       "      <td>0.834043</td>\n",
       "      <td>0.836957</td>\n",
       "      <td>0.879093</td>\n",
       "    </tr>\n",
       "    <tr>\n",
       "      <th>1</th>\n",
       "      <td>0.212</td>\n",
       "      <td>0.165957</td>\n",
       "      <td>0.163043</td>\n",
       "      <td>0.120907</td>\n",
       "    </tr>\n",
       "  </tbody>\n",
       "</table>\n",
       "</div>"
      ],
      "text/plain": [
       "JobSatisfaction      1         2         3         4\n",
       "Attrition                                           \n",
       "0                0.788  0.834043  0.836957  0.879093\n",
       "1                0.212  0.165957  0.163043  0.120907"
      ]
     },
     "execution_count": 39,
     "metadata": {},
     "output_type": "execute_result"
    }
   ],
   "source": [
    "pd.crosstab(data[target], data[feature], normalize='columns')"
   ]
  },
  {
   "cell_type": "markdown",
   "metadata": {
    "id": "XvueCs4A_yBV"
   },
   "source": [
    "② 시각화( Stacked Bar, Mosaic)"
   ]
  },
  {
   "cell_type": "code",
   "execution_count": 40,
   "metadata": {
    "id": "80mI_jTj_yBV"
   },
   "outputs": [
    {
     "data": {
      "image/png": "[encoded data removed]",
      "text/plain": [
       "<Figure size 432x288 with 1 Axes>"
      ]
     },
     "metadata": {
      "needs_background": "light"
     },
     "output_type": "display_data"
    }
   ],
   "source": [
    "temp = pd.crosstab(data[feature], data[target], normalize = 'index') #집계\n",
    "temp.plot.bar(stacked=True)\n",
    "plt.axhline(1-target_mean, color = 'r')\n",
    "plt.show()"
   ]
  },
  {
   "cell_type": "code",
   "execution_count": 41,
   "metadata": {
    "id": "FGoJyvWe_yBV"
   },
   "outputs": [
    {
     "data": {
      "image/png": "[encoded data removed]",
      "text/plain": [
       "<Figure size 432x288 with 3 Axes>"
      ]
     },
     "metadata": {
      "needs_background": "light"
     },
     "output_type": "display_data"
    }
   ],
   "source": [
    "mosaic(data, [ feature, target])\n",
    "plt.axhline(1- target_mean, color = 'r')\n",
    "plt.show()"
   ]
  },
  {
   "cell_type": "markdown",
   "metadata": {
    "id": "Kw-ymp-A_yBV"
   },
   "source": [
    "* 직업만족도의 '1'만 차이가 있음\n",
    "다른 값은 평균과 거의 일치 > 차이가 없어보임"
   ]
  },
  {
   "cell_type": "markdown",
   "metadata": {
    "id": "Hf0uQHFM_yBW"
   },
   "source": [
    "③ 가설검정(카이제곱검정)"
   ]
  },
  {
   "cell_type": "code",
   "execution_count": null,
   "metadata": {
    "id": "fXelPXVx_yBW"
   },
   "outputs": [],
   "source": [
    "kai=pd.crosstab(data[target], data[feature])\n",
    "print('교차표\\n', kai)\n",
    "print('-' * 100)\n",
    "\n",
    "result = spst.chi2_contingency(kai)\n",
    "print('카이제곱통계량', result[0])\n",
    "print('p-value', result[1])\n",
    "print('자유도', result[2])"
   ]
  },
  {
   "cell_type": "markdown",
   "metadata": {},
   "source": [
    "시각화\n",
    "- 본인의 직무에 아주 만족하지 못하는 1 그룹의 경우 이직률이 평균보다 높다\n",
    "- 반대로 본인의 직무에 아주 만족하는 4그룹의 경우 이직률이 평균보다 낮음\n",
    "- 상대적으로 만족도가 보통인 그룹의 경우 이직률이 평균과 거의 동일함\n",
    "\n",
    "\n",
    "- 직무만족도가 이직에 영향을 미치긴하지만 크지는 않은것으로 보임\n",
    "- 상대적으로 직무만족도가 보통인 그룹만 봐도 이직률이 평균과 동일한것으로보아 이것 외에 다른 이유가 있을것으로 보임"
   ]
  },
  {
   "cell_type": "markdown",
   "metadata": {},
   "source": [
    "추가분석 : 1만 떼어서 얼마나 더 관련있는가 분석"
   ]
  },
  {
   "cell_type": "markdown",
   "metadata": {
    "id": "zpSXwBg5_yBW"
   },
   "source": [
    "④ 시각화와 가설검정을 통해서 파악한 내용을 적어 봅시다."
   ]
  },
  {
   "cell_type": "markdown",
   "metadata": {
    "id": "lhX0s1u6_yBW"
   },
   "source": [
    "* 카이제곱통계량이 자유도의 2~3배와 같음 하지만 엄청 크지 않아서 약한 관계일것\n",
    "* p-value 는 0.05보다 작지만 많이 작지 않음\n",
    "    > 약한관계"
   ]
  },
  {
   "cell_type": "markdown",
   "metadata": {
    "id": "lUsQ0iBHMqte"
   },
   "source": [
    "### (2) 숫자형 Feature --> target\n",
    "\n",
    "* 숫자형 Feature에 대해서 Y와 비교하여 차트를 그리고 수치화 하시오.  \n",
    "    ① 그래프 : histogram, densityplot   \n",
    "    ② 수치화 : 로지스틱회귀"
   ]
  },
  {
   "cell_type": "markdown",
   "metadata": {
    "id": "F_Mugk3f_y3X"
   },
   "source": [
    "#### 1) Age --> Attrtion\n"
   ]
  },
  {
   "cell_type": "code",
   "execution_count": 50,
   "metadata": {
    "id": "8ROLKtUueHSn"
   },
   "outputs": [],
   "source": [
    "feature = 'Age'"
   ]
  },
  {
   "cell_type": "markdown",
   "metadata": {
    "id": "iZwchGY8eRH_"
   },
   "source": [
    "① 그래프 : histogram, densityplot"
   ]
  },
  {
   "cell_type": "code",
   "execution_count": 63,
   "metadata": {
    "id": "Kdch3Zm-Mqtg"
   },
   "outputs": [
    {
     "data": {
      "image/png": "[encoded data removed]",
      "text/plain": [
       "<Figure size 432x288 with 1 Axes>"
      ]
     },
     "metadata": {
      "needs_background": "light"
     },
     "output_type": "display_data"
    }
   ],
   "source": [
    "sns.histplot(x=feature, data = data, hue = target, multiple = 'fill', bins = 21)\n",
    "#한칸 = 2\n",
    "plt.axhline(target_mean, color = 'r')\n",
    "plt.show()"
   ]
  },
  {
   "cell_type": "code",
   "execution_count": 52,
   "metadata": {
    "id": "NFpqDUZEemhq"
   },
   "outputs": [
    {
     "data": {
      "image/png": "[encoded data removed]",
      "text/plain": [
       "<Figure size 432x288 with 1 Axes>"
      ]
     },
     "metadata": {
      "needs_background": "light"
     },
     "output_type": "display_data"
    }
   ],
   "source": [
    "sns.kdeplot(x=feature, data = data, hue =target, common_norm=False)\n",
    "plt.show()"
   ]
  },
  {
   "cell_type": "markdown",
   "metadata": {
    "id": "62LpmfYBfADw"
   },
   "source": [
    "시각화를 통해 파악한 내용을 적어 봅시다."
   ]
  },
  {
   "cell_type": "markdown",
   "metadata": {
    "id": "rPbprP0NfADx"
   },
   "source": [
    "> 34세이하는 이직률이 평균보다 높고, 50세때 살짝 높아진다 ->50대때 이유조사"
   ]
  },
  {
   "cell_type": "markdown",
   "metadata": {
    "id": "AMOh1uw2fVoO"
   },
   "source": [
    "② 수치화 : 로지스틱회귀"
   ]
  },
  {
   "cell_type": "code",
   "execution_count": 64,
   "metadata": {
    "id": "B-kCeQE5G_NU"
   },
   "outputs": [
    {
     "name": "stdout",
     "output_type": "stream",
     "text": [
      "Optimization terminated successfully.\n",
      "         Current function value: 0.424660\n",
      "         Iterations 5\n",
      "Age    4.667821e-100\n",
      "dtype: float64\n"
     ]
    }
   ],
   "source": [
    "temp = data.loc[data[feature].notnull()]\n",
    "\n",
    "model = sm.Logit(temp[target], temp[feature])\n",
    "result = model.fit()\n",
    "print(result.pvalues)"
   ]
  },
  {
   "cell_type": "markdown",
   "metadata": {
    "id": "1QGY11sufcJ1"
   },
   "source": [
    "③ 시각화와 수치화를 통해 파악한 내용을 적어 봅시다."
   ]
  },
  {
   "cell_type": "markdown",
   "metadata": {
    "id": "iRgq5a36fhGD"
   },
   "source": [
    "* 그래프 \n",
    "    * 그래프가 겹치는 부분(34세정도)에서 이직률이 반전됨\n",
    "* 로지스틱회귀\n",
    "    * p-value가 매우작음 \n",
    "    > 강한관계"
   ]
  },
  {
   "cell_type": "markdown",
   "metadata": {},
   "source": [
    "- 나이가 이직에 영향이 큰것으로 보임\n",
    "- 상대적으로 20대 초반의 직원들의 이직률이 높은것으로 보아 회사의 만족도가 상대적으로 낮은것으로 보임\n",
    "- 반대로 50대의 경우 이직률이 평균보다 높은것을 볼수있는데 승진이 안되거나 명퇴를 한 인원들이 있는것으로 보임"
   ]
  },
  {
   "cell_type": "markdown",
   "metadata": {
    "id": "UVjP9xEt2pVn"
   },
   "source": [
    "#### 2) DistanceFromHome --> Attrtion\n"
   ]
  },
  {
   "cell_type": "code",
   "execution_count": 65,
   "metadata": {
    "id": "2cSWvoFm2pVn"
   },
   "outputs": [],
   "source": [
    "feature = 'DistanceFromHome'"
   ]
  },
  {
   "cell_type": "markdown",
   "metadata": {
    "id": "12AvE3o22pVn"
   },
   "source": [
    "① 그래프 : histogram, densityplot"
   ]
  },
  {
   "cell_type": "code",
   "execution_count": 72,
   "metadata": {
    "id": "ae6yrGJm2pVn"
   },
   "outputs": [
    {
     "data": {
      "image/png": "[encoded data removed]",
      "text/plain": [
       "<Figure size 432x288 with 1 Axes>"
      ]
     },
     "metadata": {
      "needs_background": "light"
     },
     "output_type": "display_data"
    }
   ],
   "source": [
    "#한 구간 = 2\n",
    "sns.histplot(x=feature, data = data, hue = target, multiple = 'fill', bins = 14)\n",
    "plt.axhline(target_mean, color = 'r')\n",
    "plt.show()"
   ]
  },
  {
   "cell_type": "code",
   "execution_count": 68,
   "metadata": {
    "id": "aXAopTJo2pVo"
   },
   "outputs": [
    {
     "data": {
      "image/png": "[encoded data removed]",
      "text/plain": [
       "<Figure size 432x288 with 1 Axes>"
      ]
     },
     "metadata": {
      "needs_background": "light"
     },
     "output_type": "display_data"
    }
   ],
   "source": [
    "sns.kdeplot(x=feature, data = data, hue =target, common_norm=False)\n",
    "plt.show()"
   ]
  },
  {
   "cell_type": "markdown",
   "metadata": {
    "id": "dPYSWkrN2pVo"
   },
   "source": [
    "시각화를 통해 파악한 내용을 적어 봅시다."
   ]
  },
  {
   "cell_type": "markdown",
   "metadata": {
    "id": "2B7I0LWz2pVo"
   },
   "source": [
    "> 11 이후는 19-21 말고는 이직률이 평균보다 높거나 평균과 같다"
   ]
  },
  {
   "cell_type": "markdown",
   "metadata": {
    "id": "HTZsXn1O2pVo"
   },
   "source": [
    "② 수치화 : 로지스틱회귀"
   ]
  },
  {
   "cell_type": "code",
   "execution_count": 77,
   "metadata": {},
   "outputs": [
    {
     "data": {
      "text/plain": [
       "54"
      ]
     },
     "execution_count": 77,
     "metadata": {},
     "output_type": "execute_result"
    }
   ],
   "source": [
    "data[feature].isna().sum()"
   ]
  },
  {
   "cell_type": "code",
   "execution_count": 78,
   "metadata": {
    "id": "DkhOHKkE2pVo"
   },
   "outputs": [
    {
     "name": "stdout",
     "output_type": "stream",
     "text": [
      "Optimization terminated successfully.\n",
      "         Current function value: 0.568793\n",
      "         Iterations 6\n",
      "DistanceFromHome    2.694280e-44\n",
      "dtype: float64\n"
     ]
    }
   ],
   "source": [
    "tmp=data.loc[data[feature].notnull()]\n",
    "model = sm.Logit(tmp[target], tmp[feature])\n",
    "result = model.fit()\n",
    "print(result.pvalues)"
   ]
  },
  {
   "cell_type": "markdown",
   "metadata": {
    "id": "UQqPhZwj2pVp"
   },
   "source": [
    "③ 시각화와 수치화를 통해 파악한 내용을 적어 봅시다."
   ]
  },
  {
   "cell_type": "markdown",
   "metadata": {
    "id": "1tHzXavD2pVp"
   },
   "source": [
    "* p-value는 0.05보다 매우작음 \n",
    ">강한관계\n"
   ]
  },
  {
   "cell_type": "markdown",
   "metadata": {},
   "source": [
    "시각화 및 가설검정\n",
    "- 거리가 먼 직원들이 이직을 하는 경우가 많은것으로 보임\n",
    "- 10마일 이상의 직원들이 길이 막히는 출근시간에 촉박 할 것으로 예상됨\n",
    "- 또한 왕복으로 하면 20마일이 넘어가므로 도로 위에서 보낼시간이 많을것으로 보임"
   ]
  },
  {
   "cell_type": "markdown",
   "metadata": {
    "id": "CfOiGI1D2pne"
   },
   "source": [
    "#### 3) MonthlyIncome --> Attrtion\n"
   ]
  },
  {
   "cell_type": "code",
   "execution_count": 102,
   "metadata": {
    "id": "bWI2_CoG2pne"
   },
   "outputs": [],
   "source": [
    "feature='MonthlyIncome'"
   ]
  },
  {
   "cell_type": "markdown",
   "metadata": {
    "id": "46AmWboJ2pne"
   },
   "source": [
    "① 그래프 : histogram, densityplot"
   ]
  },
  {
   "cell_type": "code",
   "execution_count": 82,
   "metadata": {},
   "outputs": [
    {
     "data": {
      "text/plain": [
       "count     1250.000000\n",
       "mean      6525.548000\n",
       "std       4676.979554\n",
       "min       1009.000000\n",
       "25%       2932.250000\n",
       "50%       4988.000000\n",
       "75%       8437.500000\n",
       "max      19999.000000\n",
       "Name: MonthlyIncome, dtype: float64"
      ]
     },
     "execution_count": 82,
     "metadata": {},
     "output_type": "execute_result"
    }
   ],
   "source": [
    "data[feature].describe()"
   ]
  },
  {
   "cell_type": "code",
   "execution_count": 91,
   "metadata": {
    "id": "iTC2a2xk2pnf"
   },
   "outputs": [
    {
     "data": {
      "image/png": "[encoded data removed]",
      "text/plain": [
       "<Figure size 432x288 with 1 Axes>"
      ]
     },
     "metadata": {
      "needs_background": "light"
     },
     "output_type": "display_data"
    }
   ],
   "source": [
    "#한 구간 = 1000\n",
    "sns.histplot(x=feature, data = data, hue = target, multiple = 'fill', bins = 19)\n",
    "plt.text(5000,target_mean,target_mean)\n",
    "plt.axhline(target_mean, color = 'r')\n",
    "plt.show()"
   ]
  },
  {
   "cell_type": "code",
   "execution_count": 81,
   "metadata": {
    "id": "Ad2R9A4Z2pnf"
   },
   "outputs": [
    {
     "data": {
      "image/png": "[encoded data removed]",
      "text/plain": [
       "<Figure size 432x288 with 1 Axes>"
      ]
     },
     "metadata": {
      "needs_background": "light"
     },
     "output_type": "display_data"
    }
   ],
   "source": [
    "sns.kdeplot(x=feature, data = data, hue =target, common_norm=False)\n",
    "plt.show()"
   ]
  },
  {
   "cell_type": "markdown",
   "metadata": {
    "id": "Qswvfv372pnf"
   },
   "source": [
    "시각화를 통해 파악한 내용을 적어 봅시다."
   ]
  },
  {
   "cell_type": "markdown",
   "metadata": {
    "id": "ttreuzSW2pnf"
   },
   "source": [
    "> 4000-9000, 11000제외하고 이직률이 높다 > 구간을 나눠서 추가분석"
   ]
  },
  {
   "cell_type": "markdown",
   "metadata": {
    "id": "nrtejCDB2pnf"
   },
   "source": [
    "② 수치화 : 로지스틱회귀"
   ]
  },
  {
   "cell_type": "code",
   "execution_count": 92,
   "metadata": {
    "id": "_Aq9dIe-2pnf"
   },
   "outputs": [
    {
     "name": "stdout",
     "output_type": "stream",
     "text": [
      "Optimization terminated successfully.\n",
      "         Current function value: 0.437401\n",
      "         Iterations 6\n",
      "MonthlyIncome    1.922717e-71\n",
      "dtype: float64\n"
     ]
    }
   ],
   "source": [
    "model = sm.Logit(temp[target], temp[feature])\n",
    "result = model.fit()\n",
    "print(result.pvalues)"
   ]
  },
  {
   "cell_type": "markdown",
   "metadata": {
    "id": "l3VRFhdD2pnf"
   },
   "source": [
    "③ 시각화와 수치화를 통해 파악한 내용을 적어 봅시다."
   ]
  },
  {
   "cell_type": "markdown",
   "metadata": {
    "id": "lk-gTxwk2pnf"
   },
   "source": [
    "* p-value가 매우작다 (미봉책)\n",
    "> 일단 강한 관계로 생각함"
   ]
  },
  {
   "cell_type": "markdown",
   "metadata": {},
   "source": [
    "-5000달러 미만의 구간이 가장 이직률이 높은것으보아 대리급 및 사원급의 연봉이 동종업계 보다 작을것으로 예상됨\n",
    "-10000달러 구간의 이직은 부장급들이 회사에 버티지 못하거나 창업을하여 이직한 경우일것으로 추측됨"
   ]
  },
  {
   "cell_type": "markdown",
   "metadata": {
    "id": "Jd4WbbU-jqU3"
   },
   "source": [
    "## 4.관계 정리"
   ]
  },
  {
   "cell_type": "markdown",
   "metadata": {
    "id": "bKmN0rtAjto6"
   },
   "source": [
    "### 1) 강한관계의 변수"
   ]
  },
  {
   "cell_type": "markdown",
   "metadata": {
    "id": "BgUuHiHbjw62"
   },
   "source": [
    "MaritalStatus(결혼여부)   /  MonthlyIncome(월급) ,Age(나이)"
   ]
  },
  {
   "cell_type": "markdown",
   "metadata": {
    "id": "u8B765zNjwp5"
   },
   "source": [
    "### 2) 중간관계의 변수"
   ]
  },
  {
   "cell_type": "markdown",
   "metadata": {
    "id": "k9CJjmAljwjd"
   },
   "source": [
    " JobSatisfaction(직무만족도)-(약한관계)/ DistanceFromHom(집-직장거리)"
   ]
  },
  {
   "cell_type": "markdown",
   "metadata": {
    "id": "eYiQ9OUijwdq"
   },
   "source": [
    "### 3) (거의)관계 없음"
   ]
  },
  {
   "cell_type": "markdown",
   "metadata": {
    "id": "v0qkBnp3jwbE"
   },
   "source": [
    "Gender (성별)"
   ]
  },
  {
   "cell_type": "markdown",
   "metadata": {
    "id": "nePF6KE6jlX6"
   },
   "source": [
    "## 5. 추가 분석"
   ]
  },
  {
   "cell_type": "markdown",
   "metadata": {
    "id": "n3TawkJa80MB"
   },
   "source": [
    "### 1) 분석1"
   ]
  },
  {
   "cell_type": "markdown",
   "metadata": {
    "id": "B8E9F24bkYTn"
   },
   "source": [
    "#### MonthlyIncome --> Attrtion\n",
    "\n",
    "#### 4000-9000, 11000제외하고 이직률이 높다 > 구간을 나눠서 추가분석"
   ]
  },
  {
   "cell_type": "code",
   "execution_count": 94,
   "metadata": {},
   "outputs": [
    {
     "data": {
      "image/png": "[encoded data removed]",
      "text/plain": [
       "<Figure size 432x288 with 1 Axes>"
      ]
     },
     "metadata": {
      "needs_background": "light"
     },
     "output_type": "display_data"
    }
   ],
   "source": [
    "sns.histplot(x=feature, data = data, hue = target, multiple = 'fill', bins = 19)\n",
    "plt.text(5000,target_mean,target_mean)\n",
    "plt.axhline(target_mean, color = 'r')\n",
    "plt.show()"
   ]
  },
  {
   "cell_type": "code",
   "execution_count": 7,
   "metadata": {},
   "outputs": [],
   "source": [
    "feature='MonthlyIncome'"
   ]
  },
  {
   "cell_type": "code",
   "execution_count": 129,
   "metadata": {},
   "outputs": [
    {
     "data": {
      "text/plain": [
       "0       11691\n",
       "1        9362\n",
       "2       13348\n",
       "3       17048\n",
       "4        4127\n",
       "        ...  \n",
       "1245     4066\n",
       "1246     2451\n",
       "1247     4649\n",
       "1248    16064\n",
       "1249     4420\n",
       "Name: MonthlyIncome, Length: 1250, dtype: int64"
      ]
     },
     "execution_count": 129,
     "metadata": {},
     "output_type": "execute_result"
    }
   ],
   "source": [
    "data[feature]"
   ]
  },
  {
   "cell_type": "code",
   "execution_count": 8,
   "metadata": {},
   "outputs": [
    {
     "data": {
      "text/plain": [
       "0       H\n",
       "1       M\n",
       "2       H\n",
       "3       H\n",
       "4       M\n",
       "       ..\n",
       "1245    M\n",
       "1246    L\n",
       "1247    M\n",
       "1248    H\n",
       "1249    M\n",
       "Name: Income_grp, Length: 1250, dtype: category\n",
       "Categories (4, object): ['L' < 'M' < 'M1' < 'H']"
      ]
     },
     "execution_count": 8,
     "metadata": {},
     "output_type": "execute_result"
    }
   ],
   "source": [
    "bin = [0,4000,10000,11000,np.inf]\n",
    "label=['L','M','M1','H']\n",
    "data['Income_grp']=pd.cut(data[feature], bins=bin, labels=label, right = False)\n",
    "data['Income_grp']"
   ]
  },
  {
   "cell_type": "code",
   "execution_count": 9,
   "metadata": {},
   "outputs": [
    {
     "name": "stdout",
     "output_type": "stream",
     "text": [
      "200\n"
     ]
    },
    {
     "data": {
      "text/html": [
       "<div>\n",
       "<style scoped>\n",
       "    .dataframe tbody tr th:only-of-type {\n",
       "        vertical-align: middle;\n",
       "    }\n",
       "\n",
       "    .dataframe tbody tr th {\n",
       "        vertical-align: top;\n",
       "    }\n",
       "\n",
       "    .dataframe thead th {\n",
       "        text-align: right;\n",
       "    }\n",
       "</style>\n",
       "<table border=\"1\" class=\"dataframe\">\n",
       "  <thead>\n",
       "    <tr style=\"text-align: right;\">\n",
       "      <th></th>\n",
       "      <th>Attrition</th>\n",
       "      <th>Age</th>\n",
       "      <th>BusinessTravel</th>\n",
       "      <th>Department</th>\n",
       "      <th>DistanceFromHome</th>\n",
       "      <th>Education</th>\n",
       "      <th>EducationField</th>\n",
       "      <th>EmployeeNumber</th>\n",
       "      <th>EnvironmentSatisfaction</th>\n",
       "      <th>Gender</th>\n",
       "      <th>...</th>\n",
       "      <th>PercentSalaryHike</th>\n",
       "      <th>RelationshipSatisfaction</th>\n",
       "      <th>StockOptionLevel</th>\n",
       "      <th>TotalWorkingYears</th>\n",
       "      <th>TrainingTimesLastYear</th>\n",
       "      <th>WorkLifeBalance</th>\n",
       "      <th>YearsAtCompany</th>\n",
       "      <th>YearsInCurrentRole</th>\n",
       "      <th>YearsWithCurrManager</th>\n",
       "      <th>Income_grp</th>\n",
       "    </tr>\n",
       "  </thead>\n",
       "  <tbody>\n",
       "    <tr>\n",
       "      <th>5</th>\n",
       "      <td>1</td>\n",
       "      <td>22</td>\n",
       "      <td>Travel_Frequently</td>\n",
       "      <td>Research &amp; Development</td>\n",
       "      <td>4.0</td>\n",
       "      <td>1</td>\n",
       "      <td>Technical Degree</td>\n",
       "      <td>593</td>\n",
       "      <td>3</td>\n",
       "      <td>Male</td>\n",
       "      <td>...</td>\n",
       "      <td>16</td>\n",
       "      <td>3</td>\n",
       "      <td>0</td>\n",
       "      <td>4</td>\n",
       "      <td>3</td>\n",
       "      <td>3</td>\n",
       "      <td>2</td>\n",
       "      <td>2</td>\n",
       "      <td>2</td>\n",
       "      <td>L</td>\n",
       "    </tr>\n",
       "    <tr>\n",
       "      <th>18</th>\n",
       "      <td>1</td>\n",
       "      <td>58</td>\n",
       "      <td>Travel_Frequently</td>\n",
       "      <td>Research &amp; Development</td>\n",
       "      <td>2.0</td>\n",
       "      <td>1</td>\n",
       "      <td>Life Sciences</td>\n",
       "      <td>918</td>\n",
       "      <td>4</td>\n",
       "      <td>Male</td>\n",
       "      <td>...</td>\n",
       "      <td>14</td>\n",
       "      <td>4</td>\n",
       "      <td>1</td>\n",
       "      <td>3</td>\n",
       "      <td>3</td>\n",
       "      <td>2</td>\n",
       "      <td>1</td>\n",
       "      <td>0</td>\n",
       "      <td>0</td>\n",
       "      <td>L</td>\n",
       "    </tr>\n",
       "    <tr>\n",
       "      <th>25</th>\n",
       "      <td>1</td>\n",
       "      <td>32</td>\n",
       "      <td>Travel_Frequently</td>\n",
       "      <td>Research &amp; Development</td>\n",
       "      <td>16.0</td>\n",
       "      <td>1</td>\n",
       "      <td>Life Sciences</td>\n",
       "      <td>33</td>\n",
       "      <td>2</td>\n",
       "      <td>Female</td>\n",
       "      <td>...</td>\n",
       "      <td>22</td>\n",
       "      <td>2</td>\n",
       "      <td>0</td>\n",
       "      <td>10</td>\n",
       "      <td>5</td>\n",
       "      <td>3</td>\n",
       "      <td>10</td>\n",
       "      <td>2</td>\n",
       "      <td>7</td>\n",
       "      <td>L</td>\n",
       "    </tr>\n",
       "    <tr>\n",
       "      <th>27</th>\n",
       "      <td>1</td>\n",
       "      <td>32</td>\n",
       "      <td>Travel_Rarely</td>\n",
       "      <td>Research &amp; Development</td>\n",
       "      <td>2.0</td>\n",
       "      <td>4</td>\n",
       "      <td>Life Sciences</td>\n",
       "      <td>1692</td>\n",
       "      <td>4</td>\n",
       "      <td>Male</td>\n",
       "      <td>...</td>\n",
       "      <td>12</td>\n",
       "      <td>1</td>\n",
       "      <td>0</td>\n",
       "      <td>1</td>\n",
       "      <td>2</td>\n",
       "      <td>3</td>\n",
       "      <td>1</td>\n",
       "      <td>0</td>\n",
       "      <td>0</td>\n",
       "      <td>L</td>\n",
       "    </tr>\n",
       "    <tr>\n",
       "      <th>40</th>\n",
       "      <td>1</td>\n",
       "      <td>28</td>\n",
       "      <td>Travel_Frequently</td>\n",
       "      <td>Sales</td>\n",
       "      <td>1.0</td>\n",
       "      <td>3</td>\n",
       "      <td>Technical Degree</td>\n",
       "      <td>1486</td>\n",
       "      <td>1</td>\n",
       "      <td>Male</td>\n",
       "      <td>...</td>\n",
       "      <td>15</td>\n",
       "      <td>4</td>\n",
       "      <td>1</td>\n",
       "      <td>5</td>\n",
       "      <td>3</td>\n",
       "      <td>4</td>\n",
       "      <td>3</td>\n",
       "      <td>2</td>\n",
       "      <td>2</td>\n",
       "      <td>L</td>\n",
       "    </tr>\n",
       "    <tr>\n",
       "      <th>...</th>\n",
       "      <td>...</td>\n",
       "      <td>...</td>\n",
       "      <td>...</td>\n",
       "      <td>...</td>\n",
       "      <td>...</td>\n",
       "      <td>...</td>\n",
       "      <td>...</td>\n",
       "      <td>...</td>\n",
       "      <td>...</td>\n",
       "      <td>...</td>\n",
       "      <td>...</td>\n",
       "      <td>...</td>\n",
       "      <td>...</td>\n",
       "      <td>...</td>\n",
       "      <td>...</td>\n",
       "      <td>...</td>\n",
       "      <td>...</td>\n",
       "      <td>...</td>\n",
       "      <td>...</td>\n",
       "      <td>...</td>\n",
       "      <td>...</td>\n",
       "    </tr>\n",
       "    <tr>\n",
       "      <th>1208</th>\n",
       "      <td>1</td>\n",
       "      <td>30</td>\n",
       "      <td>Travel_Frequently</td>\n",
       "      <td>Research &amp; Development</td>\n",
       "      <td>5.0</td>\n",
       "      <td>3</td>\n",
       "      <td>Medical</td>\n",
       "      <td>1017</td>\n",
       "      <td>2</td>\n",
       "      <td>Female</td>\n",
       "      <td>...</td>\n",
       "      <td>17</td>\n",
       "      <td>1</td>\n",
       "      <td>0</td>\n",
       "      <td>4</td>\n",
       "      <td>3</td>\n",
       "      <td>3</td>\n",
       "      <td>3</td>\n",
       "      <td>2</td>\n",
       "      <td>2</td>\n",
       "      <td>L</td>\n",
       "    </tr>\n",
       "    <tr>\n",
       "      <th>1216</th>\n",
       "      <td>1</td>\n",
       "      <td>19</td>\n",
       "      <td>Non-Travel</td>\n",
       "      <td>Research &amp; Development</td>\n",
       "      <td>NaN</td>\n",
       "      <td>3</td>\n",
       "      <td>Medical</td>\n",
       "      <td>1248</td>\n",
       "      <td>1</td>\n",
       "      <td>Female</td>\n",
       "      <td>...</td>\n",
       "      <td>25</td>\n",
       "      <td>2</td>\n",
       "      <td>0</td>\n",
       "      <td>1</td>\n",
       "      <td>2</td>\n",
       "      <td>4</td>\n",
       "      <td>1</td>\n",
       "      <td>1</td>\n",
       "      <td>0</td>\n",
       "      <td>L</td>\n",
       "    </tr>\n",
       "    <tr>\n",
       "      <th>1227</th>\n",
       "      <td>1</td>\n",
       "      <td>22</td>\n",
       "      <td>Travel_Frequently</td>\n",
       "      <td>Research &amp; Development</td>\n",
       "      <td>3.0</td>\n",
       "      <td>4</td>\n",
       "      <td>Life Sciences</td>\n",
       "      <td>1203</td>\n",
       "      <td>3</td>\n",
       "      <td>Male</td>\n",
       "      <td>...</td>\n",
       "      <td>11</td>\n",
       "      <td>2</td>\n",
       "      <td>1</td>\n",
       "      <td>1</td>\n",
       "      <td>5</td>\n",
       "      <td>3</td>\n",
       "      <td>0</td>\n",
       "      <td>0</td>\n",
       "      <td>0</td>\n",
       "      <td>L</td>\n",
       "    </tr>\n",
       "    <tr>\n",
       "      <th>1230</th>\n",
       "      <td>1</td>\n",
       "      <td>19</td>\n",
       "      <td>Travel_Rarely</td>\n",
       "      <td>Sales</td>\n",
       "      <td>21.0</td>\n",
       "      <td>3</td>\n",
       "      <td>Other</td>\n",
       "      <td>959</td>\n",
       "      <td>4</td>\n",
       "      <td>Male</td>\n",
       "      <td>...</td>\n",
       "      <td>13</td>\n",
       "      <td>2</td>\n",
       "      <td>0</td>\n",
       "      <td>1</td>\n",
       "      <td>3</td>\n",
       "      <td>4</td>\n",
       "      <td>1</td>\n",
       "      <td>0</td>\n",
       "      <td>0</td>\n",
       "      <td>L</td>\n",
       "    </tr>\n",
       "    <tr>\n",
       "      <th>1239</th>\n",
       "      <td>1</td>\n",
       "      <td>26</td>\n",
       "      <td>Travel_Rarely</td>\n",
       "      <td>Human Resources</td>\n",
       "      <td>20.0</td>\n",
       "      <td>2</td>\n",
       "      <td>Medical</td>\n",
       "      <td>1818</td>\n",
       "      <td>4</td>\n",
       "      <td>Female</td>\n",
       "      <td>...</td>\n",
       "      <td>11</td>\n",
       "      <td>3</td>\n",
       "      <td>0</td>\n",
       "      <td>6</td>\n",
       "      <td>3</td>\n",
       "      <td>3</td>\n",
       "      <td>5</td>\n",
       "      <td>1</td>\n",
       "      <td>4</td>\n",
       "      <td>L</td>\n",
       "    </tr>\n",
       "  </tbody>\n",
       "</table>\n",
       "<p>113 rows × 27 columns</p>\n",
       "</div>"
      ],
      "text/plain": [
       "      Attrition  Age     BusinessTravel              Department  \\\n",
       "5             1   22  Travel_Frequently  Research & Development   \n",
       "18            1   58  Travel_Frequently  Research & Development   \n",
       "25            1   32  Travel_Frequently  Research & Development   \n",
       "27            1   32      Travel_Rarely  Research & Development   \n",
       "40            1   28  Travel_Frequently                   Sales   \n",
       "...         ...  ...                ...                     ...   \n",
       "1208          1   30  Travel_Frequently  Research & Development   \n",
       "1216          1   19         Non-Travel  Research & Development   \n",
       "1227          1   22  Travel_Frequently  Research & Development   \n",
       "1230          1   19      Travel_Rarely                   Sales   \n",
       "1239          1   26      Travel_Rarely         Human Resources   \n",
       "\n",
       "      DistanceFromHome  Education    EducationField  EmployeeNumber  \\\n",
       "5                  4.0          1  Technical Degree             593   \n",
       "18                 2.0          1     Life Sciences             918   \n",
       "25                16.0          1     Life Sciences              33   \n",
       "27                 2.0          4     Life Sciences            1692   \n",
       "40                 1.0          3  Technical Degree            1486   \n",
       "...                ...        ...               ...             ...   \n",
       "1208               5.0          3           Medical            1017   \n",
       "1216               NaN          3           Medical            1248   \n",
       "1227               3.0          4     Life Sciences            1203   \n",
       "1230              21.0          3             Other             959   \n",
       "1239              20.0          2           Medical            1818   \n",
       "\n",
       "      EnvironmentSatisfaction  Gender  ...  PercentSalaryHike  \\\n",
       "5                           3    Male  ...                 16   \n",
       "18                          4    Male  ...                 14   \n",
       "25                          2  Female  ...                 22   \n",
       "27                          4    Male  ...                 12   \n",
       "40                          1    Male  ...                 15   \n",
       "...                       ...     ...  ...                ...   \n",
       "1208                        2  Female  ...                 17   \n",
       "1216                        1  Female  ...                 25   \n",
       "1227                        3    Male  ...                 11   \n",
       "1230                        4    Male  ...                 13   \n",
       "1239                        4  Female  ...                 11   \n",
       "\n",
       "     RelationshipSatisfaction  StockOptionLevel TotalWorkingYears  \\\n",
       "5                           3                 0                 4   \n",
       "18                          4                 1                 3   \n",
       "25                          2                 0                10   \n",
       "27                          1                 0                 1   \n",
       "40                          4                 1                 5   \n",
       "...                       ...               ...               ...   \n",
       "1208                        1                 0                 4   \n",
       "1216                        2                 0                 1   \n",
       "1227                        2                 1                 1   \n",
       "1230                        2                 0                 1   \n",
       "1239                        3                 0                 6   \n",
       "\n",
       "      TrainingTimesLastYear  WorkLifeBalance YearsAtCompany  \\\n",
       "5                         3                3              2   \n",
       "18                        3                2              1   \n",
       "25                        5                3             10   \n",
       "27                        2                3              1   \n",
       "40                        3                4              3   \n",
       "...                     ...              ...            ...   \n",
       "1208                      3                3              3   \n",
       "1216                      2                4              1   \n",
       "1227                      5                3              0   \n",
       "1230                      3                4              1   \n",
       "1239                      3                3              5   \n",
       "\n",
       "      YearsInCurrentRole  YearsWithCurrManager  Income_grp  \n",
       "5                      2                     2           L  \n",
       "18                     0                     0           L  \n",
       "25                     2                     7           L  \n",
       "27                     0                     0           L  \n",
       "40                     2                     2           L  \n",
       "...                  ...                   ...         ...  \n",
       "1208                   2                     2           L  \n",
       "1216                   1                     0           L  \n",
       "1227                   0                     0           L  \n",
       "1230                   0                     0           L  \n",
       "1239                   1                     4           L  \n",
       "\n",
       "[113 rows x 27 columns]"
      ]
     },
     "execution_count": 9,
     "metadata": {},
     "output_type": "execute_result"
    }
   ],
   "source": [
    "print(data.loc[data[target]==1][target].count())  #이\n",
    "data.loc[(data[target]==1)&(data['Income_grp']=='L')]\n",
    "#이직자 200명 중 급여가 4000이하인 사람은 113명 "
   ]
  },
  {
   "cell_type": "markdown",
   "metadata": {},
   "source": [
    "* 이직자 200명\n",
    "* 이직자이면서 월급이 4000달러 미만인 사람은 113명\n",
    " > 56.5%"
   ]
  },
  {
   "cell_type": "code",
   "execution_count": 10,
   "metadata": {},
   "outputs": [
    {
     "name": "stdout",
     "output_type": "stream",
     "text": [
      "카이제곱통계량 51.50203590632786\n",
      "p-value 3.8240795614079515e-11\n",
      "자유도 3\n"
     ]
    }
   ],
   "source": [
    "table=pd.crosstab(data[target], data['Income_grp'])\n",
    "result = spst.chi2_contingency(table)\n",
    "print('카이제곱통계량', result[0])\n",
    "print('p-value', result[1])\n",
    "print('자유도', result[2])"
   ]
  },
  {
   "cell_type": "markdown",
   "metadata": {},
   "source": [
    "> 범주로 나누지 않고 검정했을 땐 로지스틱회귀는 미봉책이기 때문에\n",
    "  구간을 나눠 자세하게 분석했다\n",
    "  * 카이제곱통계량이 45이고 p-value도 0.05보다 작은것으로 보아 관계가 있다고 파악(중간관계)"
   ]
  },
  {
   "cell_type": "markdown",
   "metadata": {
    "id": "ZxRa_rYw869b"
   },
   "source": [
    "## 2.데이터 전처리 "
   ]
  },
  {
   "cell_type": "markdown",
   "metadata": {},
   "source": [
    "### 2.1 데이터 feature와 , target으로 분할"
   ]
  },
  {
   "cell_type": "code",
   "execution_count": 3,
   "metadata": {},
   "outputs": [
    {
     "data": {
      "text/plain": [
       "Attrition                   1.000000\n",
       "Age                        -0.170209\n",
       "DistanceFromHome            0.081973\n",
       "Education                  -0.036958\n",
       "EmployeeNumber             -0.004939\n",
       "EnvironmentSatisfaction    -0.097195\n",
       "JobInvolvement             -0.130454\n",
       "JobSatisfaction            -0.084364\n",
       "MonthlyIncome              -0.166861\n",
       "NumCompaniesWorked          0.054454\n",
       "PercentSalaryHike           0.005901\n",
       "RelationshipSatisfaction   -0.053857\n",
       "StockOptionLevel           -0.139003\n",
       "TotalWorkingYears          -0.185029\n",
       "TrainingTimesLastYear      -0.055715\n",
       "WorkLifeBalance            -0.037603\n",
       "YearsAtCompany             -0.149750\n",
       "YearsInCurrentRole         -0.176072\n",
       "YearsWithCurrManager       -0.167656\n",
       "Name: Attrition, dtype: float64"
      ]
     },
     "execution_count": 3,
     "metadata": {},
     "output_type": "execute_result"
    }
   ],
   "source": [
    "# target 과 feature 상관관계\n",
    "data.corr()['Attrition']"
   ]
  },
  {
   "cell_type": "code",
   "execution_count": 5,
   "metadata": {},
   "outputs": [],
   "source": [
    "# 불필요한 변수 제거 : 사번은 고유번호로 이직률에 영향이 없다고 판단하여 삭제\n",
    "data.drop('EmployeeNumber', axis = 1, inplace = True)"
   ]
  },
  {
   "cell_type": "code",
   "execution_count": 6,
   "metadata": {},
   "outputs": [],
   "source": [
    "x = data.drop(target, axis = 1)\n",
    "y = data.loc[:, target]"
   ]
  },
  {
   "cell_type": "markdown",
   "metadata": {},
   "source": [
    "### 2.2 NaN에 대한 조치"
   ]
  },
  {
   "cell_type": "code",
   "execution_count": 7,
   "metadata": {},
   "outputs": [
    {
     "data": {
      "text/plain": [
       "Age                          0\n",
       "BusinessTravel               0\n",
       "Department                   0\n",
       "DistanceFromHome            54\n",
       "Education                    0\n",
       "EducationField               0\n",
       "EnvironmentSatisfaction      0\n",
       "Gender                       0\n",
       "JobInvolvement               0\n",
       "JobRole                      0\n",
       "JobSatisfaction              0\n",
       "MaritalStatus                0\n",
       "MonthlyIncome                0\n",
       "NumCompaniesWorked          21\n",
       "OverTime                     0\n",
       "PercentSalaryHike            0\n",
       "RelationshipSatisfaction     0\n",
       "StockOptionLevel             0\n",
       "TotalWorkingYears            0\n",
       "TrainingTimesLastYear        0\n",
       "WorkLifeBalance              0\n",
       "YearsAtCompany               0\n",
       "YearsInCurrentRole           0\n",
       "YearsWithCurrManager         0\n",
       "dtype: int64"
      ]
     },
     "execution_count": 7,
     "metadata": {},
     "output_type": "execute_result"
    }
   ],
   "source": [
    "x.isna().sum()"
   ]
  },
  {
   "cell_type": "markdown",
   "metadata": {},
   "source": [
    "* NaN은 KNN Imputer로 채울 예정.\n",
    "    * KNN Imputer는 가변수화가 된 상태에서 사용 가능."
   ]
  },
  {
   "cell_type": "markdown",
   "metadata": {},
   "source": [
    "### 2.3 가변수화\n",
    "* 범주형 데이터이면서 값이 0,1 로 되어 있는 것이 아니라면, 가변수화를 수행해야 함"
   ]
  },
  {
   "cell_type": "code",
   "execution_count": 8,
   "metadata": {},
   "outputs": [
    {
     "data": {
      "text/html": [
       "<div>\n",
       "<style scoped>\n",
       "    .dataframe tbody tr th:only-of-type {\n",
       "        vertical-align: middle;\n",
       "    }\n",
       "\n",
       "    .dataframe tbody tr th {\n",
       "        vertical-align: top;\n",
       "    }\n",
       "\n",
       "    .dataframe thead th {\n",
       "        text-align: right;\n",
       "    }\n",
       "</style>\n",
       "<table border=\"1\" class=\"dataframe\">\n",
       "  <thead>\n",
       "    <tr style=\"text-align: right;\">\n",
       "      <th></th>\n",
       "      <th>Age</th>\n",
       "      <th>DistanceFromHome</th>\n",
       "      <th>MonthlyIncome</th>\n",
       "      <th>NumCompaniesWorked</th>\n",
       "      <th>PercentSalaryHike</th>\n",
       "      <th>TotalWorkingYears</th>\n",
       "      <th>TrainingTimesLastYear</th>\n",
       "      <th>YearsAtCompany</th>\n",
       "      <th>YearsInCurrentRole</th>\n",
       "      <th>YearsWithCurrManager</th>\n",
       "      <th>...</th>\n",
       "      <th>OverTime_Yes</th>\n",
       "      <th>RelationshipSatisfaction_2</th>\n",
       "      <th>RelationshipSatisfaction_3</th>\n",
       "      <th>RelationshipSatisfaction_4</th>\n",
       "      <th>StockOptionLevel_1</th>\n",
       "      <th>StockOptionLevel_2</th>\n",
       "      <th>StockOptionLevel_3</th>\n",
       "      <th>WorkLifeBalance_2</th>\n",
       "      <th>WorkLifeBalance_3</th>\n",
       "      <th>WorkLifeBalance_4</th>\n",
       "    </tr>\n",
       "  </thead>\n",
       "  <tbody>\n",
       "    <tr>\n",
       "      <th>0</th>\n",
       "      <td>33</td>\n",
       "      <td>7.0</td>\n",
       "      <td>11691</td>\n",
       "      <td>0.0</td>\n",
       "      <td>11</td>\n",
       "      <td>14</td>\n",
       "      <td>3</td>\n",
       "      <td>13</td>\n",
       "      <td>9</td>\n",
       "      <td>7</td>\n",
       "      <td>...</td>\n",
       "      <td>0</td>\n",
       "      <td>0</td>\n",
       "      <td>0</td>\n",
       "      <td>1</td>\n",
       "      <td>0</td>\n",
       "      <td>0</td>\n",
       "      <td>0</td>\n",
       "      <td>0</td>\n",
       "      <td>0</td>\n",
       "      <td>1</td>\n",
       "    </tr>\n",
       "    <tr>\n",
       "      <th>1</th>\n",
       "      <td>35</td>\n",
       "      <td>18.0</td>\n",
       "      <td>9362</td>\n",
       "      <td>2.0</td>\n",
       "      <td>11</td>\n",
       "      <td>10</td>\n",
       "      <td>2</td>\n",
       "      <td>2</td>\n",
       "      <td>2</td>\n",
       "      <td>2</td>\n",
       "      <td>...</td>\n",
       "      <td>0</td>\n",
       "      <td>0</td>\n",
       "      <td>1</td>\n",
       "      <td>0</td>\n",
       "      <td>0</td>\n",
       "      <td>0</td>\n",
       "      <td>0</td>\n",
       "      <td>0</td>\n",
       "      <td>1</td>\n",
       "      <td>0</td>\n",
       "    </tr>\n",
       "    <tr>\n",
       "      <th>2</th>\n",
       "      <td>42</td>\n",
       "      <td>6.0</td>\n",
       "      <td>13348</td>\n",
       "      <td>9.0</td>\n",
       "      <td>13</td>\n",
       "      <td>18</td>\n",
       "      <td>3</td>\n",
       "      <td>13</td>\n",
       "      <td>7</td>\n",
       "      <td>7</td>\n",
       "      <td>...</td>\n",
       "      <td>0</td>\n",
       "      <td>1</td>\n",
       "      <td>0</td>\n",
       "      <td>0</td>\n",
       "      <td>1</td>\n",
       "      <td>0</td>\n",
       "      <td>0</td>\n",
       "      <td>0</td>\n",
       "      <td>0</td>\n",
       "      <td>1</td>\n",
       "    </tr>\n",
       "    <tr>\n",
       "      <th>3</th>\n",
       "      <td>46</td>\n",
       "      <td>2.0</td>\n",
       "      <td>17048</td>\n",
       "      <td>8.0</td>\n",
       "      <td>23</td>\n",
       "      <td>28</td>\n",
       "      <td>2</td>\n",
       "      <td>26</td>\n",
       "      <td>15</td>\n",
       "      <td>9</td>\n",
       "      <td>...</td>\n",
       "      <td>0</td>\n",
       "      <td>0</td>\n",
       "      <td>0</td>\n",
       "      <td>0</td>\n",
       "      <td>0</td>\n",
       "      <td>0</td>\n",
       "      <td>0</td>\n",
       "      <td>0</td>\n",
       "      <td>1</td>\n",
       "      <td>0</td>\n",
       "    </tr>\n",
       "    <tr>\n",
       "      <th>4</th>\n",
       "      <td>39</td>\n",
       "      <td>NaN</td>\n",
       "      <td>4127</td>\n",
       "      <td>2.0</td>\n",
       "      <td>18</td>\n",
       "      <td>7</td>\n",
       "      <td>6</td>\n",
       "      <td>2</td>\n",
       "      <td>1</td>\n",
       "      <td>2</td>\n",
       "      <td>...</td>\n",
       "      <td>0</td>\n",
       "      <td>0</td>\n",
       "      <td>0</td>\n",
       "      <td>1</td>\n",
       "      <td>1</td>\n",
       "      <td>0</td>\n",
       "      <td>0</td>\n",
       "      <td>0</td>\n",
       "      <td>1</td>\n",
       "      <td>0</td>\n",
       "    </tr>\n",
       "  </tbody>\n",
       "</table>\n",
       "<p>5 rows × 53 columns</p>\n",
       "</div>"
      ],
      "text/plain": [
       "   Age  DistanceFromHome  MonthlyIncome  NumCompaniesWorked  \\\n",
       "0   33               7.0          11691                 0.0   \n",
       "1   35              18.0           9362                 2.0   \n",
       "2   42               6.0          13348                 9.0   \n",
       "3   46               2.0          17048                 8.0   \n",
       "4   39               NaN           4127                 2.0   \n",
       "\n",
       "   PercentSalaryHike  TotalWorkingYears  TrainingTimesLastYear  \\\n",
       "0                 11                 14                      3   \n",
       "1                 11                 10                      2   \n",
       "2                 13                 18                      3   \n",
       "3                 23                 28                      2   \n",
       "4                 18                  7                      6   \n",
       "\n",
       "   YearsAtCompany  YearsInCurrentRole  YearsWithCurrManager  ...  \\\n",
       "0              13                   9                     7  ...   \n",
       "1               2                   2                     2  ...   \n",
       "2              13                   7                     7  ...   \n",
       "3              26                  15                     9  ...   \n",
       "4               2                   1                     2  ...   \n",
       "\n",
       "   OverTime_Yes  RelationshipSatisfaction_2  RelationshipSatisfaction_3  \\\n",
       "0             0                           0                           0   \n",
       "1             0                           0                           1   \n",
       "2             0                           1                           0   \n",
       "3             0                           0                           0   \n",
       "4             0                           0                           0   \n",
       "\n",
       "   RelationshipSatisfaction_4  StockOptionLevel_1  StockOptionLevel_2  \\\n",
       "0                           1                   0                   0   \n",
       "1                           0                   0                   0   \n",
       "2                           0                   1                   0   \n",
       "3                           0                   0                   0   \n",
       "4                           1                   1                   0   \n",
       "\n",
       "   StockOptionLevel_3  WorkLifeBalance_2  WorkLifeBalance_3  WorkLifeBalance_4  \n",
       "0                   0                  0                  0                  1  \n",
       "1                   0                  0                  1                  0  \n",
       "2                   0                  0                  0                  1  \n",
       "3                   0                  0                  1                  0  \n",
       "4                   0                  0                  1                  0  \n",
       "\n",
       "[5 rows x 53 columns]"
      ]
     },
     "execution_count": 8,
     "metadata": {},
     "output_type": "execute_result"
    }
   ],
   "source": [
    "dum_cols = ['BusinessTravel','Department','Education','EducationField','EnvironmentSatisfaction','Gender', \n",
    "            'JobRole', 'JobInvolvement', 'JobSatisfaction', 'MaritalStatus', 'OverTime', 'RelationshipSatisfaction',\n",
    "            'StockOptionLevel','WorkLifeBalance' ]\n",
    "\n",
    "x = pd.get_dummies(x, columns = dum_cols ,drop_first = True)\n",
    "x.head()"
   ]
  },
  {
   "cell_type": "markdown",
   "metadata": {},
   "source": [
    "* KNNImputer 수행"
   ]
  },
  {
   "cell_type": "code",
   "execution_count": 9,
   "metadata": {},
   "outputs": [
    {
     "data": {
      "text/plain": [
       "Age                                  0\n",
       "DistanceFromHome                     0\n",
       "MonthlyIncome                        0\n",
       "NumCompaniesWorked                   0\n",
       "PercentSalaryHike                    0\n",
       "TotalWorkingYears                    0\n",
       "TrainingTimesLastYear                0\n",
       "YearsAtCompany                       0\n",
       "YearsInCurrentRole                   0\n",
       "YearsWithCurrManager                 0\n",
       "BusinessTravel_Travel_Frequently     0\n",
       "BusinessTravel_Travel_Rarely         0\n",
       "Department_Research & Development    0\n",
       "Department_Sales                     0\n",
       "Education_2                          0\n",
       "Education_3                          0\n",
       "Education_4                          0\n",
       "Education_5                          0\n",
       "EducationField_Life Sciences         0\n",
       "EducationField_Marketing             0\n",
       "EducationField_Medical               0\n",
       "EducationField_Other                 0\n",
       "EducationField_Technical Degree      0\n",
       "EnvironmentSatisfaction_2            0\n",
       "EnvironmentSatisfaction_3            0\n",
       "EnvironmentSatisfaction_4            0\n",
       "Gender_Male                          0\n",
       "JobRole_Human Resources              0\n",
       "JobRole_Laboratory Technician        0\n",
       "JobRole_Manager                      0\n",
       "JobRole_Manufacturing Director       0\n",
       "JobRole_Research Director            0\n",
       "JobRole_Research Scientist           0\n",
       "JobRole_Sales Executive              0\n",
       "JobRole_Sales Representative         0\n",
       "JobInvolvement_2                     0\n",
       "JobInvolvement_3                     0\n",
       "JobInvolvement_4                     0\n",
       "JobSatisfaction_2                    0\n",
       "JobSatisfaction_3                    0\n",
       "JobSatisfaction_4                    0\n",
       "MaritalStatus_Married                0\n",
       "MaritalStatus_Single                 0\n",
       "OverTime_Yes                         0\n",
       "RelationshipSatisfaction_2           0\n",
       "RelationshipSatisfaction_3           0\n",
       "RelationshipSatisfaction_4           0\n",
       "StockOptionLevel_1                   0\n",
       "StockOptionLevel_2                   0\n",
       "StockOptionLevel_3                   0\n",
       "WorkLifeBalance_2                    0\n",
       "WorkLifeBalance_3                    0\n",
       "WorkLifeBalance_4                    0\n",
       "dtype: int64"
      ]
     },
     "execution_count": 9,
     "metadata": {},
     "output_type": "execute_result"
    }
   ],
   "source": [
    "from sklearn.impute import KNNImputer\n",
    "\n",
    "imputer = KNNImputer(n_neighbors=5)\n",
    "imputed = imputer.fit_transform(x)\n",
    "\n",
    "# 데이터프레임으로 다시 만듦\n",
    "x = pd.DataFrame(imputed, columns=x.columns)\n",
    "x.isna().sum()"
   ]
  },
  {
   "cell_type": "markdown",
   "metadata": {},
   "source": [
    "### 2.5 데이터 분할\n",
    "\n",
    "* test 200건, val 200건"
   ]
  },
  {
   "cell_type": "code",
   "execution_count": 10,
   "metadata": {},
   "outputs": [],
   "source": [
    "from sklearn.model_selection import train_test_split"
   ]
  },
  {
   "cell_type": "code",
   "execution_count": 11,
   "metadata": {},
   "outputs": [],
   "source": [
    "# data ==> train, test\n",
    "x_train, x_test, y_train, y_test = train_test_split(x, y, test_size=200, random_state = 2022)"
   ]
  },
  {
   "cell_type": "code",
   "execution_count": 12,
   "metadata": {},
   "outputs": [],
   "source": [
    "# train ==> train : val\n",
    "x_train, x_val, y_train, y_val = train_test_split(x_train, y_train, test_size=200, random_state = 2022)"
   ]
  },
  {
   "cell_type": "markdown",
   "metadata": {},
   "source": [
    "### 2.6 스케일링 "
   ]
  },
  {
   "cell_type": "code",
   "execution_count": 13,
   "metadata": {},
   "outputs": [],
   "source": [
    "from sklearn.preprocessing import MinMaxScaler\n",
    "col_x = list(x)\n",
    "scaler = MinMaxScaler()\n",
    "\n",
    "x_train_s = scaler.fit_transform(x_train)\n",
    "x_val_s = scaler.transform(x_val)\n",
    "x_test_s = scaler.transform(x_test)"
   ]
  },
  {
   "cell_type": "markdown",
   "metadata": {},
   "source": [
    "## 3.모델링 : 머신러닝"
   ]
  },
  {
   "cell_type": "markdown",
   "metadata": {},
   "source": [
    "### 3.1 모델링을 위한 함수 불러오기"
   ]
  },
  {
   "cell_type": "code",
   "execution_count": 14,
   "metadata": {
    "scrolled": true
   },
   "outputs": [],
   "source": [
    "from sklearn.metrics import *\n",
    "from sklearn.linear_model import LogisticRegression\n",
    "from sklearn.tree import DecisionTreeClassifier\n",
    "from sklearn.neighbors import KNeighborsClassifier\n",
    "from sklearn.ensemble import RandomForestClassifier\n",
    "from sklearn.svm import SVC\n",
    "# from xgboost import XGBClassifier\n",
    "\n",
    "from sklearn.model_selection import GridSearchCV, RandomizedSearchCV"
   ]
  },
  {
   "cell_type": "markdown",
   "metadata": {},
   "source": [
    "### 3.2 모델링"
   ]
  },
  {
   "cell_type": "markdown",
   "metadata": {},
   "source": [
    "#### (1) Logistic Regression 모델링"
   ]
  },
  {
   "cell_type": "code",
   "execution_count": 66,
   "metadata": {},
   "outputs": [
    {
     "data": {
      "text/plain": [
       "LogisticRegression(max_iter=470)"
      ]
     },
     "execution_count": 66,
     "metadata": {},
     "output_type": "execute_result"
    }
   ],
   "source": [
    "model_lr = LogisticRegression(max_iter=470)\n",
    "model_lr.fit(x_train, y_train)"
   ]
  },
  {
   "cell_type": "code",
   "execution_count": 67,
   "metadata": {},
   "outputs": [
    {
     "name": "stdout",
     "output_type": "stream",
     "text": [
      "              precision    recall  f1-score   support\n",
      "\n",
      "           0       0.92      0.98      0.95       176\n",
      "           1       0.73      0.33      0.46        24\n",
      "\n",
      "    accuracy                           0.91       200\n",
      "   macro avg       0.82      0.66      0.70       200\n",
      "weighted avg       0.89      0.91      0.89       200\n",
      "\n"
     ]
    }
   ],
   "source": [
    "# 예측 및 평가\n",
    "val_pred_lr = model_lr.predict(x_val)\n",
    "\n",
    "print(classification_report(y_val, val_pred_lr))"
   ]
  },
  {
   "cell_type": "code",
   "execution_count": 68,
   "metadata": {},
   "outputs": [],
   "source": [
    "result_report={}\n",
    "result_report['Logistic Regression']=classification_report(y_val, val_pred_lr)"
   ]
  },
  {
   "cell_type": "code",
   "execution_count": 69,
   "metadata": {},
   "outputs": [
    {
     "data": {
      "image/png": "[encoded data removed]",
      "text/plain": [
       "<Figure size 360x864 with 1 Axes>"
      ]
     },
     "metadata": {
      "needs_background": "light"
     },
     "output_type": "display_data"
    }
   ],
   "source": [
    "# 변수 가중치 시각화\n",
    "plt.figure(figsize=(5,12))\n",
    "plt.barh(y=list(x), width=model_lr.coef_.reshape(-1))\n",
    "plt.show()"
   ]
  },
  {
   "cell_type": "markdown",
   "metadata": {},
   "source": [
    "#### (2) Decision Tree 모델링"
   ]
  },
  {
   "cell_type": "code",
   "execution_count": 19,
   "metadata": {},
   "outputs": [],
   "source": [
    "model_dt = DecisionTreeClassifier(random_state=2022)\n",
    "param = {'max_depth' : range(1,51) }\n",
    "\n",
    "model = GridSearchCV(model_dt, param, cv=5, scoring='accuracy')"
   ]
  },
  {
   "cell_type": "code",
   "execution_count": 20,
   "metadata": {},
   "outputs": [
    {
     "data": {
      "text/plain": [
       "GridSearchCV(cv=5, estimator=DecisionTreeClassifier(random_state=2022),\n",
       "             param_grid={'max_depth': range(1, 51)}, scoring='accuracy')"
      ]
     },
     "execution_count": 20,
     "metadata": {},
     "output_type": "execute_result"
    }
   ],
   "source": [
    "model.fit(x_train, y_train)"
   ]
  },
  {
   "cell_type": "code",
   "execution_count": 21,
   "metadata": {},
   "outputs": [
    {
     "name": "stdout",
     "output_type": "stream",
     "text": [
      "DecisionTreeClassifier(max_depth=4, random_state=2022)\n",
      "파라미터:  {'max_depth': 4}\n",
      "성능:  0.8400000000000001\n"
     ]
    }
   ],
   "source": [
    "# 최적의 파라미터 확인\n",
    "print(model.best_estimator_)\n",
    "print('파라미터: ', model.best_params_)\n",
    "print('성능: ', model.best_score_)"
   ]
  },
  {
   "cell_type": "code",
   "execution_count": 22,
   "metadata": {},
   "outputs": [],
   "source": [
    "y_pred = model.predict(x_test)"
   ]
  },
  {
   "cell_type": "code",
   "execution_count": 23,
   "metadata": {},
   "outputs": [],
   "source": [
    "result_report['Decision Tree']=classification_report(y_test, y_pred)"
   ]
  },
  {
   "cell_type": "code",
   "execution_count": 24,
   "metadata": {},
   "outputs": [
    {
     "name": "stdout",
     "output_type": "stream",
     "text": [
      "0.885\n",
      "              precision    recall  f1-score   support\n",
      "\n",
      "           0       0.90      0.98      0.93       169\n",
      "           1       0.75      0.39      0.51        31\n",
      "\n",
      "    accuracy                           0.89       200\n",
      "   macro avg       0.82      0.68      0.72       200\n",
      "weighted avg       0.87      0.89      0.87       200\n",
      "\n"
     ]
    }
   ],
   "source": [
    "print(accuracy_score(y_test, y_pred))\n",
    "print(classification_report(y_test, y_pred))"
   ]
  },
  {
   "cell_type": "code",
   "execution_count": 25,
   "metadata": {},
   "outputs": [
    {
     "data": {
      "image/png": "[encoded data removed]",
      "text/plain": [
       "<Figure size 1440x720 with 1 Axes>"
      ]
     },
     "metadata": {
      "needs_background": "light"
     },
     "output_type": "display_data"
    }
   ],
   "source": [
    "# 시각화\n",
    "from sklearn.tree import plot_tree\n",
    "\n",
    "plt.figure(figsize=(20, 10))\n",
    "plot_tree(model.best_estimator_,\n",
    "         filled=True,\n",
    "         feature_names=list(x),\n",
    "         fontsize=10)\n",
    "plt.show()"
   ]
  },
  {
   "cell_type": "markdown",
   "metadata": {},
   "source": [
    "#### (3) KNN 모델링"
   ]
  },
  {
   "cell_type": "code",
   "execution_count": 59,
   "metadata": {},
   "outputs": [],
   "source": [
    "m_knn = KNeighborsClassifier()\n",
    "\n",
    "params = {'n_neighbors':range(3,20)}\n",
    "m_knn_gs = GridSearchCV(m_knn, param_grid = params)"
   ]
  },
  {
   "cell_type": "code",
   "execution_count": 60,
   "metadata": {},
   "outputs": [
    {
     "data": {
      "text/plain": [
       "GridSearchCV(estimator=KNeighborsClassifier(),\n",
       "             param_grid={'n_neighbors': range(3, 20)})"
      ]
     },
     "execution_count": 60,
     "metadata": {},
     "output_type": "execute_result"
    }
   ],
   "source": [
    "m_knn_gs.fit(x_train_s, y_train)"
   ]
  },
  {
   "cell_type": "code",
   "execution_count": 61,
   "metadata": {},
   "outputs": [
    {
     "name": "stdout",
     "output_type": "stream",
     "text": [
      "최적파라미터:  {'n_neighbors': 7}\n",
      "성능:  0.8352941176470589\n"
     ]
    }
   ],
   "source": [
    "# 최적파라미터, 성능 확인\n",
    "print('최적파라미터: ', m_knn_gs.best_params_)\n",
    "print('성능: ', m_knn_gs.best_score_)"
   ]
  },
  {
   "cell_type": "code",
   "execution_count": 62,
   "metadata": {},
   "outputs": [
    {
     "name": "stdout",
     "output_type": "stream",
     "text": [
      "[[172   4]\n",
      " [ 20   4]]\n",
      "--------------------------------------------------\n",
      "              precision    recall  f1-score   support\n",
      "\n",
      "           0       0.90      0.98      0.93       176\n",
      "           1       0.50      0.17      0.25        24\n",
      "\n",
      "    accuracy                           0.88       200\n",
      "   macro avg       0.70      0.57      0.59       200\n",
      "weighted avg       0.85      0.88      0.85       200\n",
      "\n"
     ]
    }
   ],
   "source": [
    "val_pred_knn = m_knn_gs.predict(x_val_s)\n",
    "\n",
    "print(confusion_matrix(y_val, val_pred_knn))\n",
    "print('-'*50)\n",
    "print(classification_report(y_val, val_pred_knn))"
   ]
  },
  {
   "cell_type": "code",
   "execution_count": 30,
   "metadata": {},
   "outputs": [],
   "source": [
    "result_report['KNN']=classification_report(y_test, val_pred_knn)"
   ]
  },
  {
   "cell_type": "markdown",
   "metadata": {},
   "source": [
    "#### (4) SVM 모델링"
   ]
  },
  {
   "cell_type": "code",
   "execution_count": 31,
   "metadata": {},
   "outputs": [],
   "source": [
    "model_svm = SVC()\n",
    "params ={\n",
    "    'C': [0.05, 0.1,0.2,1,5,10],\n",
    "    'gamma' : [0.1,1,5,10, 50]}\n",
    "\n",
    "m_svm_gs = GridSearchCV(model_svm, param_grid = params, cv = 5)"
   ]
  },
  {
   "cell_type": "code",
   "execution_count": 32,
   "metadata": {},
   "outputs": [
    {
     "data": {
      "text/plain": [
       "GridSearchCV(cv=5, estimator=SVC(),\n",
       "             param_grid={'C': [0.05, 0.1, 0.2, 1, 5, 10],\n",
       "                         'gamma': [0.1, 1, 5, 10, 50]})"
      ]
     },
     "execution_count": 32,
     "metadata": {},
     "output_type": "execute_result"
    }
   ],
   "source": [
    "m_svm_gs.fit(x_train_s, y_train)"
   ]
  },
  {
   "cell_type": "code",
   "execution_count": 33,
   "metadata": {},
   "outputs": [
    {
     "name": "stdout",
     "output_type": "stream",
     "text": [
      "최적파라미터:  {'C': 1, 'gamma': 0.1}\n",
      "성능:  0.8482352941176471\n"
     ]
    }
   ],
   "source": [
    "# 최적파라미터, 성능 확인\n",
    "print('최적파라미터: ', m_svm_gs.best_params_)\n",
    "print('성능: ', m_svm_gs.best_score_)"
   ]
  },
  {
   "cell_type": "code",
   "execution_count": 34,
   "metadata": {},
   "outputs": [
    {
     "name": "stdout",
     "output_type": "stream",
     "text": [
      "              precision    recall  f1-score   support\n",
      "\n",
      "           0       0.88      1.00      0.94       176\n",
      "           1       0.00      0.00      0.00        24\n",
      "\n",
      "    accuracy                           0.88       200\n",
      "   macro avg       0.44      0.50      0.47       200\n",
      "weighted avg       0.77      0.88      0.82       200\n",
      "\n"
     ]
    }
   ],
   "source": [
    "val_pred_svm = m_svm_gs.predict(x_val_s)\n",
    "result_report['SVM']=classification_report(y_test, val_pred_svm)\n",
    "print(classification_report(y_val, val_pred_svm))"
   ]
  },
  {
   "cell_type": "markdown",
   "metadata": {},
   "source": [
    "#### (5) Random Forest 모델링"
   ]
  },
  {
   "cell_type": "code",
   "execution_count": 48,
   "metadata": {},
   "outputs": [],
   "source": [
    "model_rf = RandomForestClassifier()"
   ]
  },
  {
   "cell_type": "code",
   "execution_count": 49,
   "metadata": {},
   "outputs": [
    {
     "data": {
      "text/plain": [
       "RandomForestClassifier()"
      ]
     },
     "execution_count": 49,
     "metadata": {},
     "output_type": "execute_result"
    }
   ],
   "source": [
    "model_rf.fit(x_train, y_train)"
   ]
  },
  {
   "cell_type": "code",
   "execution_count": 50,
   "metadata": {},
   "outputs": [],
   "source": [
    "y_pred = model_rf.predict(x_test)"
   ]
  },
  {
   "cell_type": "code",
   "execution_count": 51,
   "metadata": {},
   "outputs": [
    {
     "name": "stdout",
     "output_type": "stream",
     "text": [
      "              precision    recall  f1-score   support\n",
      "\n",
      "           0       0.88      0.99      0.93       169\n",
      "           1       0.88      0.23      0.36        31\n",
      "\n",
      "    accuracy                           0.88       200\n",
      "   macro avg       0.88      0.61      0.64       200\n",
      "weighted avg       0.88      0.88      0.84       200\n",
      "\n"
     ]
    }
   ],
   "source": [
    "result_report['Random Forest']=classification_report(y_test, y_pred)\n",
    "print(classification_report(y_test, y_pred))"
   ]
  },
  {
   "cell_type": "code",
   "execution_count": 52,
   "metadata": {},
   "outputs": [
    {
     "data": {
      "image/png": "[encoded data removed]",
      "text/plain": [
       "<Figure size 432x288 with 1 Axes>"
      ]
     },
     "metadata": {
      "needs_background": "light"
     },
     "output_type": "display_data"
    }
   ],
   "source": [
    "# 시각화\n",
    "sns.heatmap(confusion_matrix(y_test, y_pred), \n",
    "            annot=True, \n",
    "            cmap=\"Blues\", \n",
    "            cbar=False,\n",
    "            annot_kws={'size':16},\n",
    "            fmt='g'  \n",
    "           )\n",
    "plt.xlabel(\"Predicted\")\n",
    "plt.ylabel(\"Actual\")\n",
    "plt.show()"
   ]
  },
  {
   "cell_type": "markdown",
   "metadata": {},
   "source": [
    "#### (6) XGB 모델링"
   ]
  },
  {
   "cell_type": "code",
   "execution_count": 113,
   "metadata": {
    "collapsed": true
   },
   "outputs": [
    {
     "name": "stdout",
     "output_type": "stream",
     "text": [
      "[23:57:09] WARNING: C:/Users/Administrator/workspace/xgboost-win64_release_1.5.1/src/learner.cc:1115: Starting in XGBoost 1.3.0, the default evaluation metric used with the objective 'binary:logistic' was changed from 'error' to 'logloss'. Explicitly set eval_metric if you'd like to restore the old behavior.\n",
      "[23:57:10] WARNING: C:/Users/Administrator/workspace/xgboost-win64_release_1.5.1/src/learner.cc:1115: Starting in XGBoost 1.3.0, the default evaluation metric used with the objective 'binary:logistic' was changed from 'error' to 'logloss'. Explicitly set eval_metric if you'd like to restore the old behavior.\n",
      "[23:57:10] WARNING: C:/Users/Administrator/workspace/xgboost-win64_release_1.5.1/src/learner.cc:1115: Starting in XGBoost 1.3.0, the default evaluation metric used with the objective 'binary:logistic' was changed from 'error' to 'logloss'. Explicitly set eval_metric if you'd like to restore the old behavior.\n",
      "[23:57:10] WARNING: C:/Users/Administrator/workspace/xgboost-win64_release_1.5.1/src/learner.cc:1115: Starting in XGBoost 1.3.0, the default evaluation metric used with the objective 'binary:logistic' was changed from 'error' to 'logloss'. Explicitly set eval_metric if you'd like to restore the old behavior.\n",
      "[23:57:10] WARNING: C:/Users/Administrator/workspace/xgboost-win64_release_1.5.1/src/learner.cc:1115: Starting in XGBoost 1.3.0, the default evaluation metric used with the objective 'binary:logistic' was changed from 'error' to 'logloss'. Explicitly set eval_metric if you'd like to restore the old behavior.\n",
      "[23:57:10] WARNING: C:/Users/Administrator/workspace/xgboost-win64_release_1.5.1/src/learner.cc:1115: Starting in XGBoost 1.3.0, the default evaluation metric used with the objective 'binary:logistic' was changed from 'error' to 'logloss'. Explicitly set eval_metric if you'd like to restore the old behavior.\n",
      "[23:57:10] WARNING: C:/Users/Administrator/workspace/xgboost-win64_release_1.5.1/src/learner.cc:1115: Starting in XGBoost 1.3.0, the default evaluation metric used with the objective 'binary:logistic' was changed from 'error' to 'logloss'. Explicitly set eval_metric if you'd like to restore the old behavior.\n",
      "[23:57:11] WARNING: C:/Users/Administrator/workspace/xgboost-win64_release_1.5.1/src/learner.cc:1115: Starting in XGBoost 1.3.0, the default evaluation metric used with the objective 'binary:logistic' was changed from 'error' to 'logloss'. Explicitly set eval_metric if you'd like to restore the old behavior.\n",
      "[23:57:11] WARNING: C:/Users/Administrator/workspace/xgboost-win64_release_1.5.1/src/learner.cc:1115: Starting in XGBoost 1.3.0, the default evaluation metric used with the objective 'binary:logistic' was changed from 'error' to 'logloss'. Explicitly set eval_metric if you'd like to restore the old behavior.\n",
      "[23:57:11] WARNING: C:/Users/Administrator/workspace/xgboost-win64_release_1.5.1/src/learner.cc:1115: Starting in XGBoost 1.3.0, the default evaluation metric used with the objective 'binary:logistic' was changed from 'error' to 'logloss'. Explicitly set eval_metric if you'd like to restore the old behavior.\n",
      "[23:57:11] WARNING: C:/Users/Administrator/workspace/xgboost-win64_release_1.5.1/src/learner.cc:1115: Starting in XGBoost 1.3.0, the default evaluation metric used with the objective 'binary:logistic' was changed from 'error' to 'logloss'. Explicitly set eval_metric if you'd like to restore the old behavior.\n",
      "[23:57:11] WARNING: C:/Users/Administrator/workspace/xgboost-win64_release_1.5.1/src/learner.cc:1115: Starting in XGBoost 1.3.0, the default evaluation metric used with the objective 'binary:logistic' was changed from 'error' to 'logloss'. Explicitly set eval_metric if you'd like to restore the old behavior.\n",
      "[23:57:11] WARNING: C:/Users/Administrator/workspace/xgboost-win64_release_1.5.1/src/learner.cc:1115: Starting in XGBoost 1.3.0, the default evaluation metric used with the objective 'binary:logistic' was changed from 'error' to 'logloss'. Explicitly set eval_metric if you'd like to restore the old behavior.\n",
      "[23:57:12] WARNING: C:/Users/Administrator/workspace/xgboost-win64_release_1.5.1/src/learner.cc:1115: Starting in XGBoost 1.3.0, the default evaluation metric used with the objective 'binary:logistic' was changed from 'error' to 'logloss'. Explicitly set eval_metric if you'd like to restore the old behavior.\n",
      "[23:57:12] WARNING: C:/Users/Administrator/workspace/xgboost-win64_release_1.5.1/src/learner.cc:1115: Starting in XGBoost 1.3.0, the default evaluation metric used with the objective 'binary:logistic' was changed from 'error' to 'logloss'. Explicitly set eval_metric if you'd like to restore the old behavior.\n",
      "[23:57:12] WARNING: C:/Users/Administrator/workspace/xgboost-win64_release_1.5.1/src/learner.cc:1115: Starting in XGBoost 1.3.0, the default evaluation metric used with the objective 'binary:logistic' was changed from 'error' to 'logloss'. Explicitly set eval_metric if you'd like to restore the old behavior.\n",
      "[23:57:12] WARNING: C:/Users/Administrator/workspace/xgboost-win64_release_1.5.1/src/learner.cc:1115: Starting in XGBoost 1.3.0, the default evaluation metric used with the objective 'binary:logistic' was changed from 'error' to 'logloss'. Explicitly set eval_metric if you'd like to restore the old behavior.\n",
      "[23:57:12] WARNING: C:/Users/Administrator/workspace/xgboost-win64_release_1.5.1/src/learner.cc:1115: Starting in XGBoost 1.3.0, the default evaluation metric used with the objective 'binary:logistic' was changed from 'error' to 'logloss'. Explicitly set eval_metric if you'd like to restore the old behavior.\n",
      "[23:57:12] WARNING: C:/Users/Administrator/workspace/xgboost-win64_release_1.5.1/src/learner.cc:1115: Starting in XGBoost 1.3.0, the default evaluation metric used with the objective 'binary:logistic' was changed from 'error' to 'logloss'. Explicitly set eval_metric if you'd like to restore the old behavior.\n",
      "[23:57:12] WARNING: C:/Users/Administrator/workspace/xgboost-win64_release_1.5.1/src/learner.cc:1115: Starting in XGBoost 1.3.0, the default evaluation metric used with the objective 'binary:logistic' was changed from 'error' to 'logloss'. Explicitly set eval_metric if you'd like to restore the old behavior.\n",
      "[23:57:12] WARNING: C:/Users/Administrator/workspace/xgboost-win64_release_1.5.1/src/learner.cc:1115: Starting in XGBoost 1.3.0, the default evaluation metric used with the objective 'binary:logistic' was changed from 'error' to 'logloss'. Explicitly set eval_metric if you'd like to restore the old behavior.\n",
      "[23:57:12] WARNING: C:/Users/Administrator/workspace/xgboost-win64_release_1.5.1/src/learner.cc:1115: Starting in XGBoost 1.3.0, the default evaluation metric used with the objective 'binary:logistic' was changed from 'error' to 'logloss'. Explicitly set eval_metric if you'd like to restore the old behavior.\n",
      "[23:57:13] WARNING: C:/Users/Administrator/workspace/xgboost-win64_release_1.5.1/src/learner.cc:1115: Starting in XGBoost 1.3.0, the default evaluation metric used with the objective 'binary:logistic' was changed from 'error' to 'logloss'. Explicitly set eval_metric if you'd like to restore the old behavior.\n",
      "[23:57:13] WARNING: C:/Users/Administrator/workspace/xgboost-win64_release_1.5.1/src/learner.cc:1115: Starting in XGBoost 1.3.0, the default evaluation metric used with the objective 'binary:logistic' was changed from 'error' to 'logloss'. Explicitly set eval_metric if you'd like to restore the old behavior.\n",
      "[23:57:13] WARNING: C:/Users/Administrator/workspace/xgboost-win64_release_1.5.1/src/learner.cc:1115: Starting in XGBoost 1.3.0, the default evaluation metric used with the objective 'binary:logistic' was changed from 'error' to 'logloss'. Explicitly set eval_metric if you'd like to restore the old behavior.\n",
      "[23:57:14] WARNING: C:/Users/Administrator/workspace/xgboost-win64_release_1.5.1/src/learner.cc:1115: Starting in XGBoost 1.3.0, the default evaluation metric used with the objective 'binary:logistic' was changed from 'error' to 'logloss'. Explicitly set eval_metric if you'd like to restore the old behavior.\n",
      "[23:57:14] WARNING: C:/Users/Administrator/workspace/xgboost-win64_release_1.5.1/src/learner.cc:1115: Starting in XGBoost 1.3.0, the default evaluation metric used with the objective 'binary:logistic' was changed from 'error' to 'logloss'. Explicitly set eval_metric if you'd like to restore the old behavior.\n"
     ]
    },
    {
     "name": "stdout",
     "output_type": "stream",
     "text": [
      "[23:57:14] WARNING: C:/Users/Administrator/workspace/xgboost-win64_release_1.5.1/src/learner.cc:1115: Starting in XGBoost 1.3.0, the default evaluation metric used with the objective 'binary:logistic' was changed from 'error' to 'logloss'. Explicitly set eval_metric if you'd like to restore the old behavior.\n",
      "[23:57:14] WARNING: C:/Users/Administrator/workspace/xgboost-win64_release_1.5.1/src/learner.cc:1115: Starting in XGBoost 1.3.0, the default evaluation metric used with the objective 'binary:logistic' was changed from 'error' to 'logloss'. Explicitly set eval_metric if you'd like to restore the old behavior.\n",
      "[23:57:15] WARNING: C:/Users/Administrator/workspace/xgboost-win64_release_1.5.1/src/learner.cc:1115: Starting in XGBoost 1.3.0, the default evaluation metric used with the objective 'binary:logistic' was changed from 'error' to 'logloss'. Explicitly set eval_metric if you'd like to restore the old behavior.\n",
      "[23:57:15] WARNING: C:/Users/Administrator/workspace/xgboost-win64_release_1.5.1/src/learner.cc:1115: Starting in XGBoost 1.3.0, the default evaluation metric used with the objective 'binary:logistic' was changed from 'error' to 'logloss'. Explicitly set eval_metric if you'd like to restore the old behavior.\n",
      "[23:57:15] WARNING: C:/Users/Administrator/workspace/xgboost-win64_release_1.5.1/src/learner.cc:1115: Starting in XGBoost 1.3.0, the default evaluation metric used with the objective 'binary:logistic' was changed from 'error' to 'logloss'. Explicitly set eval_metric if you'd like to restore the old behavior.\n",
      "[23:57:16] WARNING: C:/Users/Administrator/workspace/xgboost-win64_release_1.5.1/src/learner.cc:1115: Starting in XGBoost 1.3.0, the default evaluation metric used with the objective 'binary:logistic' was changed from 'error' to 'logloss'. Explicitly set eval_metric if you'd like to restore the old behavior.\n",
      "[23:57:16] WARNING: C:/Users/Administrator/workspace/xgboost-win64_release_1.5.1/src/learner.cc:1115: Starting in XGBoost 1.3.0, the default evaluation metric used with the objective 'binary:logistic' was changed from 'error' to 'logloss'. Explicitly set eval_metric if you'd like to restore the old behavior.\n",
      "[23:57:16] WARNING: C:/Users/Administrator/workspace/xgboost-win64_release_1.5.1/src/learner.cc:1115: Starting in XGBoost 1.3.0, the default evaluation metric used with the objective 'binary:logistic' was changed from 'error' to 'logloss'. Explicitly set eval_metric if you'd like to restore the old behavior.\n",
      "[23:57:16] WARNING: C:/Users/Administrator/workspace/xgboost-win64_release_1.5.1/src/learner.cc:1115: Starting in XGBoost 1.3.0, the default evaluation metric used with the objective 'binary:logistic' was changed from 'error' to 'logloss'. Explicitly set eval_metric if you'd like to restore the old behavior.\n",
      "[23:57:16] WARNING: C:/Users/Administrator/workspace/xgboost-win64_release_1.5.1/src/learner.cc:1115: Starting in XGBoost 1.3.0, the default evaluation metric used with the objective 'binary:logistic' was changed from 'error' to 'logloss'. Explicitly set eval_metric if you'd like to restore the old behavior.\n",
      "[23:57:17] WARNING: C:/Users/Administrator/workspace/xgboost-win64_release_1.5.1/src/learner.cc:1115: Starting in XGBoost 1.3.0, the default evaluation metric used with the objective 'binary:logistic' was changed from 'error' to 'logloss'. Explicitly set eval_metric if you'd like to restore the old behavior.\n",
      "[23:57:17] WARNING: C:/Users/Administrator/workspace/xgboost-win64_release_1.5.1/src/learner.cc:1115: Starting in XGBoost 1.3.0, the default evaluation metric used with the objective 'binary:logistic' was changed from 'error' to 'logloss'. Explicitly set eval_metric if you'd like to restore the old behavior.\n",
      "[23:57:17] WARNING: C:/Users/Administrator/workspace/xgboost-win64_release_1.5.1/src/learner.cc:1115: Starting in XGBoost 1.3.0, the default evaluation metric used with the objective 'binary:logistic' was changed from 'error' to 'logloss'. Explicitly set eval_metric if you'd like to restore the old behavior.\n",
      "[23:57:17] WARNING: C:/Users/Administrator/workspace/xgboost-win64_release_1.5.1/src/learner.cc:1115: Starting in XGBoost 1.3.0, the default evaluation metric used with the objective 'binary:logistic' was changed from 'error' to 'logloss'. Explicitly set eval_metric if you'd like to restore the old behavior.\n",
      "[23:57:17] WARNING: C:/Users/Administrator/workspace/xgboost-win64_release_1.5.1/src/learner.cc:1115: Starting in XGBoost 1.3.0, the default evaluation metric used with the objective 'binary:logistic' was changed from 'error' to 'logloss'. Explicitly set eval_metric if you'd like to restore the old behavior.\n",
      "[23:57:17] WARNING: C:/Users/Administrator/workspace/xgboost-win64_release_1.5.1/src/learner.cc:1115: Starting in XGBoost 1.3.0, the default evaluation metric used with the objective 'binary:logistic' was changed from 'error' to 'logloss'. Explicitly set eval_metric if you'd like to restore the old behavior.\n",
      "[23:57:18] WARNING: C:/Users/Administrator/workspace/xgboost-win64_release_1.5.1/src/learner.cc:1115: Starting in XGBoost 1.3.0, the default evaluation metric used with the objective 'binary:logistic' was changed from 'error' to 'logloss'. Explicitly set eval_metric if you'd like to restore the old behavior.\n",
      "[23:57:18] WARNING: C:/Users/Administrator/workspace/xgboost-win64_release_1.5.1/src/learner.cc:1115: Starting in XGBoost 1.3.0, the default evaluation metric used with the objective 'binary:logistic' was changed from 'error' to 'logloss'. Explicitly set eval_metric if you'd like to restore the old behavior.\n",
      "[23:57:18] WARNING: C:/Users/Administrator/workspace/xgboost-win64_release_1.5.1/src/learner.cc:1115: Starting in XGBoost 1.3.0, the default evaluation metric used with the objective 'binary:logistic' was changed from 'error' to 'logloss'. Explicitly set eval_metric if you'd like to restore the old behavior.\n",
      "[23:57:18] WARNING: C:/Users/Administrator/workspace/xgboost-win64_release_1.5.1/src/learner.cc:1115: Starting in XGBoost 1.3.0, the default evaluation metric used with the objective 'binary:logistic' was changed from 'error' to 'logloss'. Explicitly set eval_metric if you'd like to restore the old behavior.\n",
      "[23:57:18] WARNING: C:/Users/Administrator/workspace/xgboost-win64_release_1.5.1/src/learner.cc:1115: Starting in XGBoost 1.3.0, the default evaluation metric used with the objective 'binary:logistic' was changed from 'error' to 'logloss'. Explicitly set eval_metric if you'd like to restore the old behavior.\n",
      "[23:57:18] WARNING: C:/Users/Administrator/workspace/xgboost-win64_release_1.5.1/src/learner.cc:1115: Starting in XGBoost 1.3.0, the default evaluation metric used with the objective 'binary:logistic' was changed from 'error' to 'logloss'. Explicitly set eval_metric if you'd like to restore the old behavior.\n",
      "[23:57:18] WARNING: C:/Users/Administrator/workspace/xgboost-win64_release_1.5.1/src/learner.cc:1115: Starting in XGBoost 1.3.0, the default evaluation metric used with the objective 'binary:logistic' was changed from 'error' to 'logloss'. Explicitly set eval_metric if you'd like to restore the old behavior.\n",
      "[23:57:18] WARNING: C:/Users/Administrator/workspace/xgboost-win64_release_1.5.1/src/learner.cc:1115: Starting in XGBoost 1.3.0, the default evaluation metric used with the objective 'binary:logistic' was changed from 'error' to 'logloss'. Explicitly set eval_metric if you'd like to restore the old behavior.\n",
      "[23:57:18] WARNING: C:/Users/Administrator/workspace/xgboost-win64_release_1.5.1/src/learner.cc:1115: Starting in XGBoost 1.3.0, the default evaluation metric used with the objective 'binary:logistic' was changed from 'error' to 'logloss'. Explicitly set eval_metric if you'd like to restore the old behavior.\n",
      "[23:57:18] WARNING: C:/Users/Administrator/workspace/xgboost-win64_release_1.5.1/src/learner.cc:1115: Starting in XGBoost 1.3.0, the default evaluation metric used with the objective 'binary:logistic' was changed from 'error' to 'logloss'. Explicitly set eval_metric if you'd like to restore the old behavior.\n",
      "[23:57:19] WARNING: C:/Users/Administrator/workspace/xgboost-win64_release_1.5.1/src/learner.cc:1115: Starting in XGBoost 1.3.0, the default evaluation metric used with the objective 'binary:logistic' was changed from 'error' to 'logloss'. Explicitly set eval_metric if you'd like to restore the old behavior.\n",
      "[23:57:19] WARNING: C:/Users/Administrator/workspace/xgboost-win64_release_1.5.1/src/learner.cc:1115: Starting in XGBoost 1.3.0, the default evaluation metric used with the objective 'binary:logistic' was changed from 'error' to 'logloss'. Explicitly set eval_metric if you'd like to restore the old behavior.\n"
     ]
    },
    {
     "name": "stdout",
     "output_type": "stream",
     "text": [
      "[23:57:19] WARNING: C:/Users/Administrator/workspace/xgboost-win64_release_1.5.1/src/learner.cc:1115: Starting in XGBoost 1.3.0, the default evaluation metric used with the objective 'binary:logistic' was changed from 'error' to 'logloss'. Explicitly set eval_metric if you'd like to restore the old behavior.\n",
      "[23:57:19] WARNING: C:/Users/Administrator/workspace/xgboost-win64_release_1.5.1/src/learner.cc:1115: Starting in XGBoost 1.3.0, the default evaluation metric used with the objective 'binary:logistic' was changed from 'error' to 'logloss'. Explicitly set eval_metric if you'd like to restore the old behavior.\n",
      "[23:57:19] WARNING: C:/Users/Administrator/workspace/xgboost-win64_release_1.5.1/src/learner.cc:1115: Starting in XGBoost 1.3.0, the default evaluation metric used with the objective 'binary:logistic' was changed from 'error' to 'logloss'. Explicitly set eval_metric if you'd like to restore the old behavior.\n",
      "[23:57:20] WARNING: C:/Users/Administrator/workspace/xgboost-win64_release_1.5.1/src/learner.cc:1115: Starting in XGBoost 1.3.0, the default evaluation metric used with the objective 'binary:logistic' was changed from 'error' to 'logloss'. Explicitly set eval_metric if you'd like to restore the old behavior.\n",
      "[23:57:20] WARNING: C:/Users/Administrator/workspace/xgboost-win64_release_1.5.1/src/learner.cc:1115: Starting in XGBoost 1.3.0, the default evaluation metric used with the objective 'binary:logistic' was changed from 'error' to 'logloss'. Explicitly set eval_metric if you'd like to restore the old behavior.\n",
      "[23:57:20] WARNING: C:/Users/Administrator/workspace/xgboost-win64_release_1.5.1/src/learner.cc:1115: Starting in XGBoost 1.3.0, the default evaluation metric used with the objective 'binary:logistic' was changed from 'error' to 'logloss'. Explicitly set eval_metric if you'd like to restore the old behavior.\n",
      "[23:57:20] WARNING: C:/Users/Administrator/workspace/xgboost-win64_release_1.5.1/src/learner.cc:1115: Starting in XGBoost 1.3.0, the default evaluation metric used with the objective 'binary:logistic' was changed from 'error' to 'logloss'. Explicitly set eval_metric if you'd like to restore the old behavior.\n",
      "[23:57:20] WARNING: C:/Users/Administrator/workspace/xgboost-win64_release_1.5.1/src/learner.cc:1115: Starting in XGBoost 1.3.0, the default evaluation metric used with the objective 'binary:logistic' was changed from 'error' to 'logloss'. Explicitly set eval_metric if you'd like to restore the old behavior.\n",
      "[23:57:20] WARNING: C:/Users/Administrator/workspace/xgboost-win64_release_1.5.1/src/learner.cc:1115: Starting in XGBoost 1.3.0, the default evaluation metric used with the objective 'binary:logistic' was changed from 'error' to 'logloss'. Explicitly set eval_metric if you'd like to restore the old behavior.\n",
      "[23:57:20] WARNING: C:/Users/Administrator/workspace/xgboost-win64_release_1.5.1/src/learner.cc:1115: Starting in XGBoost 1.3.0, the default evaluation metric used with the objective 'binary:logistic' was changed from 'error' to 'logloss'. Explicitly set eval_metric if you'd like to restore the old behavior.\n",
      "[23:57:20] WARNING: C:/Users/Administrator/workspace/xgboost-win64_release_1.5.1/src/learner.cc:1115: Starting in XGBoost 1.3.0, the default evaluation metric used with the objective 'binary:logistic' was changed from 'error' to 'logloss'. Explicitly set eval_metric if you'd like to restore the old behavior.\n",
      "[23:57:21] WARNING: C:/Users/Administrator/workspace/xgboost-win64_release_1.5.1/src/learner.cc:1115: Starting in XGBoost 1.3.0, the default evaluation metric used with the objective 'binary:logistic' was changed from 'error' to 'logloss'. Explicitly set eval_metric if you'd like to restore the old behavior.\n",
      "[23:57:21] WARNING: C:/Users/Administrator/workspace/xgboost-win64_release_1.5.1/src/learner.cc:1115: Starting in XGBoost 1.3.0, the default evaluation metric used with the objective 'binary:logistic' was changed from 'error' to 'logloss'. Explicitly set eval_metric if you'd like to restore the old behavior.\n",
      "[23:57:21] WARNING: C:/Users/Administrator/workspace/xgboost-win64_release_1.5.1/src/learner.cc:1115: Starting in XGBoost 1.3.0, the default evaluation metric used with the objective 'binary:logistic' was changed from 'error' to 'logloss'. Explicitly set eval_metric if you'd like to restore the old behavior.\n",
      "[23:57:21] WARNING: C:/Users/Administrator/workspace/xgboost-win64_release_1.5.1/src/learner.cc:1115: Starting in XGBoost 1.3.0, the default evaluation metric used with the objective 'binary:logistic' was changed from 'error' to 'logloss'. Explicitly set eval_metric if you'd like to restore the old behavior.\n",
      "[23:57:21] WARNING: C:/Users/Administrator/workspace/xgboost-win64_release_1.5.1/src/learner.cc:1115: Starting in XGBoost 1.3.0, the default evaluation metric used with the objective 'binary:logistic' was changed from 'error' to 'logloss'. Explicitly set eval_metric if you'd like to restore the old behavior.\n",
      "[23:57:21] WARNING: C:/Users/Administrator/workspace/xgboost-win64_release_1.5.1/src/learner.cc:1115: Starting in XGBoost 1.3.0, the default evaluation metric used with the objective 'binary:logistic' was changed from 'error' to 'logloss'. Explicitly set eval_metric if you'd like to restore the old behavior.\n",
      "[23:57:21] WARNING: C:/Users/Administrator/workspace/xgboost-win64_release_1.5.1/src/learner.cc:1115: Starting in XGBoost 1.3.0, the default evaluation metric used with the objective 'binary:logistic' was changed from 'error' to 'logloss'. Explicitly set eval_metric if you'd like to restore the old behavior.\n",
      "[23:57:21] WARNING: C:/Users/Administrator/workspace/xgboost-win64_release_1.5.1/src/learner.cc:1115: Starting in XGBoost 1.3.0, the default evaluation metric used with the objective 'binary:logistic' was changed from 'error' to 'logloss'. Explicitly set eval_metric if you'd like to restore the old behavior.\n",
      "[23:57:21] WARNING: C:/Users/Administrator/workspace/xgboost-win64_release_1.5.1/src/learner.cc:1115: Starting in XGBoost 1.3.0, the default evaluation metric used with the objective 'binary:logistic' was changed from 'error' to 'logloss'. Explicitly set eval_metric if you'd like to restore the old behavior.\n",
      "[23:57:21] WARNING: C:/Users/Administrator/workspace/xgboost-win64_release_1.5.1/src/learner.cc:1115: Starting in XGBoost 1.3.0, the default evaluation metric used with the objective 'binary:logistic' was changed from 'error' to 'logloss'. Explicitly set eval_metric if you'd like to restore the old behavior.\n",
      "[23:57:22] WARNING: C:/Users/Administrator/workspace/xgboost-win64_release_1.5.1/src/learner.cc:1115: Starting in XGBoost 1.3.0, the default evaluation metric used with the objective 'binary:logistic' was changed from 'error' to 'logloss'. Explicitly set eval_metric if you'd like to restore the old behavior.\n",
      "[23:57:22] WARNING: C:/Users/Administrator/workspace/xgboost-win64_release_1.5.1/src/learner.cc:1115: Starting in XGBoost 1.3.0, the default evaluation metric used with the objective 'binary:logistic' was changed from 'error' to 'logloss'. Explicitly set eval_metric if you'd like to restore the old behavior.\n",
      "[23:57:22] WARNING: C:/Users/Administrator/workspace/xgboost-win64_release_1.5.1/src/learner.cc:1115: Starting in XGBoost 1.3.0, the default evaluation metric used with the objective 'binary:logistic' was changed from 'error' to 'logloss'. Explicitly set eval_metric if you'd like to restore the old behavior.\n",
      "[23:57:22] WARNING: C:/Users/Administrator/workspace/xgboost-win64_release_1.5.1/src/learner.cc:1115: Starting in XGBoost 1.3.0, the default evaluation metric used with the objective 'binary:logistic' was changed from 'error' to 'logloss'. Explicitly set eval_metric if you'd like to restore the old behavior.\n",
      "[23:57:22] WARNING: C:/Users/Administrator/workspace/xgboost-win64_release_1.5.1/src/learner.cc:1115: Starting in XGBoost 1.3.0, the default evaluation metric used with the objective 'binary:logistic' was changed from 'error' to 'logloss'. Explicitly set eval_metric if you'd like to restore the old behavior.\n",
      "[23:57:22] WARNING: C:/Users/Administrator/workspace/xgboost-win64_release_1.5.1/src/learner.cc:1115: Starting in XGBoost 1.3.0, the default evaluation metric used with the objective 'binary:logistic' was changed from 'error' to 'logloss'. Explicitly set eval_metric if you'd like to restore the old behavior.\n"
     ]
    },
    {
     "name": "stdout",
     "output_type": "stream",
     "text": [
      "[23:57:23] WARNING: C:/Users/Administrator/workspace/xgboost-win64_release_1.5.1/src/learner.cc:1115: Starting in XGBoost 1.3.0, the default evaluation metric used with the objective 'binary:logistic' was changed from 'error' to 'logloss'. Explicitly set eval_metric if you'd like to restore the old behavior.\n",
      "[23:57:23] WARNING: C:/Users/Administrator/workspace/xgboost-win64_release_1.5.1/src/learner.cc:1115: Starting in XGBoost 1.3.0, the default evaluation metric used with the objective 'binary:logistic' was changed from 'error' to 'logloss'. Explicitly set eval_metric if you'd like to restore the old behavior.\n",
      "[23:57:23] WARNING: C:/Users/Administrator/workspace/xgboost-win64_release_1.5.1/src/learner.cc:1115: Starting in XGBoost 1.3.0, the default evaluation metric used with the objective 'binary:logistic' was changed from 'error' to 'logloss'. Explicitly set eval_metric if you'd like to restore the old behavior.\n",
      "[23:57:23] WARNING: C:/Users/Administrator/workspace/xgboost-win64_release_1.5.1/src/learner.cc:1115: Starting in XGBoost 1.3.0, the default evaluation metric used with the objective 'binary:logistic' was changed from 'error' to 'logloss'. Explicitly set eval_metric if you'd like to restore the old behavior.\n",
      "[23:57:24] WARNING: C:/Users/Administrator/workspace/xgboost-win64_release_1.5.1/src/learner.cc:1115: Starting in XGBoost 1.3.0, the default evaluation metric used with the objective 'binary:logistic' was changed from 'error' to 'logloss'. Explicitly set eval_metric if you'd like to restore the old behavior.\n",
      "[23:57:24] WARNING: C:/Users/Administrator/workspace/xgboost-win64_release_1.5.1/src/learner.cc:1115: Starting in XGBoost 1.3.0, the default evaluation metric used with the objective 'binary:logistic' was changed from 'error' to 'logloss'. Explicitly set eval_metric if you'd like to restore the old behavior.\n",
      "[23:57:24] WARNING: C:/Users/Administrator/workspace/xgboost-win64_release_1.5.1/src/learner.cc:1115: Starting in XGBoost 1.3.0, the default evaluation metric used with the objective 'binary:logistic' was changed from 'error' to 'logloss'. Explicitly set eval_metric if you'd like to restore the old behavior.\n",
      "[23:57:24] WARNING: C:/Users/Administrator/workspace/xgboost-win64_release_1.5.1/src/learner.cc:1115: Starting in XGBoost 1.3.0, the default evaluation metric used with the objective 'binary:logistic' was changed from 'error' to 'logloss'. Explicitly set eval_metric if you'd like to restore the old behavior.\n",
      "[23:57:25] WARNING: C:/Users/Administrator/workspace/xgboost-win64_release_1.5.1/src/learner.cc:1115: Starting in XGBoost 1.3.0, the default evaluation metric used with the objective 'binary:logistic' was changed from 'error' to 'logloss'. Explicitly set eval_metric if you'd like to restore the old behavior.\n",
      "[23:57:25] WARNING: C:/Users/Administrator/workspace/xgboost-win64_release_1.5.1/src/learner.cc:1115: Starting in XGBoost 1.3.0, the default evaluation metric used with the objective 'binary:logistic' was changed from 'error' to 'logloss'. Explicitly set eval_metric if you'd like to restore the old behavior.\n",
      "[23:57:25] WARNING: C:/Users/Administrator/workspace/xgboost-win64_release_1.5.1/src/learner.cc:1115: Starting in XGBoost 1.3.0, the default evaluation metric used with the objective 'binary:logistic' was changed from 'error' to 'logloss'. Explicitly set eval_metric if you'd like to restore the old behavior.\n",
      "[23:57:26] WARNING: C:/Users/Administrator/workspace/xgboost-win64_release_1.5.1/src/learner.cc:1115: Starting in XGBoost 1.3.0, the default evaluation metric used with the objective 'binary:logistic' was changed from 'error' to 'logloss'. Explicitly set eval_metric if you'd like to restore the old behavior.\n",
      "[23:57:26] WARNING: C:/Users/Administrator/workspace/xgboost-win64_release_1.5.1/src/learner.cc:1115: Starting in XGBoost 1.3.0, the default evaluation metric used with the objective 'binary:logistic' was changed from 'error' to 'logloss'. Explicitly set eval_metric if you'd like to restore the old behavior.\n",
      "[23:57:27] WARNING: C:/Users/Administrator/workspace/xgboost-win64_release_1.5.1/src/learner.cc:1115: Starting in XGBoost 1.3.0, the default evaluation metric used with the objective 'binary:logistic' was changed from 'error' to 'logloss'. Explicitly set eval_metric if you'd like to restore the old behavior.\n",
      "[23:57:27] WARNING: C:/Users/Administrator/workspace/xgboost-win64_release_1.5.1/src/learner.cc:1115: Starting in XGBoost 1.3.0, the default evaluation metric used with the objective 'binary:logistic' was changed from 'error' to 'logloss'. Explicitly set eval_metric if you'd like to restore the old behavior.\n",
      "[23:57:27] WARNING: C:/Users/Administrator/workspace/xgboost-win64_release_1.5.1/src/learner.cc:1115: Starting in XGBoost 1.3.0, the default evaluation metric used with the objective 'binary:logistic' was changed from 'error' to 'logloss'. Explicitly set eval_metric if you'd like to restore the old behavior.\n",
      "[23:57:28] WARNING: C:/Users/Administrator/workspace/xgboost-win64_release_1.5.1/src/learner.cc:1115: Starting in XGBoost 1.3.0, the default evaluation metric used with the objective 'binary:logistic' was changed from 'error' to 'logloss'. Explicitly set eval_metric if you'd like to restore the old behavior.\n",
      "[23:57:28] WARNING: C:/Users/Administrator/workspace/xgboost-win64_release_1.5.1/src/learner.cc:1115: Starting in XGBoost 1.3.0, the default evaluation metric used with the objective 'binary:logistic' was changed from 'error' to 'logloss'. Explicitly set eval_metric if you'd like to restore the old behavior.\n",
      "[23:57:29] WARNING: C:/Users/Administrator/workspace/xgboost-win64_release_1.5.1/src/learner.cc:1115: Starting in XGBoost 1.3.0, the default evaluation metric used with the objective 'binary:logistic' was changed from 'error' to 'logloss'. Explicitly set eval_metric if you'd like to restore the old behavior.\n",
      "[23:57:29] WARNING: C:/Users/Administrator/workspace/xgboost-win64_release_1.5.1/src/learner.cc:1115: Starting in XGBoost 1.3.0, the default evaluation metric used with the objective 'binary:logistic' was changed from 'error' to 'logloss'. Explicitly set eval_metric if you'd like to restore the old behavior.\n",
      "[23:57:29] WARNING: C:/Users/Administrator/workspace/xgboost-win64_release_1.5.1/src/learner.cc:1115: Starting in XGBoost 1.3.0, the default evaluation metric used with the objective 'binary:logistic' was changed from 'error' to 'logloss'. Explicitly set eval_metric if you'd like to restore the old behavior.\n",
      "[23:57:29] WARNING: C:/Users/Administrator/workspace/xgboost-win64_release_1.5.1/src/learner.cc:1115: Starting in XGBoost 1.3.0, the default evaluation metric used with the objective 'binary:logistic' was changed from 'error' to 'logloss'. Explicitly set eval_metric if you'd like to restore the old behavior.\n",
      "[23:57:30] WARNING: C:/Users/Administrator/workspace/xgboost-win64_release_1.5.1/src/learner.cc:1115: Starting in XGBoost 1.3.0, the default evaluation metric used with the objective 'binary:logistic' was changed from 'error' to 'logloss'. Explicitly set eval_metric if you'd like to restore the old behavior.\n",
      "[23:57:30] WARNING: C:/Users/Administrator/workspace/xgboost-win64_release_1.5.1/src/learner.cc:1115: Starting in XGBoost 1.3.0, the default evaluation metric used with the objective 'binary:logistic' was changed from 'error' to 'logloss'. Explicitly set eval_metric if you'd like to restore the old behavior.\n",
      "[23:57:30] WARNING: C:/Users/Administrator/workspace/xgboost-win64_release_1.5.1/src/learner.cc:1115: Starting in XGBoost 1.3.0, the default evaluation metric used with the objective 'binary:logistic' was changed from 'error' to 'logloss'. Explicitly set eval_metric if you'd like to restore the old behavior.\n",
      "[23:57:30] WARNING: C:/Users/Administrator/workspace/xgboost-win64_release_1.5.1/src/learner.cc:1115: Starting in XGBoost 1.3.0, the default evaluation metric used with the objective 'binary:logistic' was changed from 'error' to 'logloss'. Explicitly set eval_metric if you'd like to restore the old behavior.\n",
      "[23:57:31] WARNING: C:/Users/Administrator/workspace/xgboost-win64_release_1.5.1/src/learner.cc:1115: Starting in XGBoost 1.3.0, the default evaluation metric used with the objective 'binary:logistic' was changed from 'error' to 'logloss'. Explicitly set eval_metric if you'd like to restore the old behavior.\n"
     ]
    },
    {
     "name": "stdout",
     "output_type": "stream",
     "text": [
      "[23:57:31] WARNING: C:/Users/Administrator/workspace/xgboost-win64_release_1.5.1/src/learner.cc:1115: Starting in XGBoost 1.3.0, the default evaluation metric used with the objective 'binary:logistic' was changed from 'error' to 'logloss'. Explicitly set eval_metric if you'd like to restore the old behavior.\n",
      "[23:57:31] WARNING: C:/Users/Administrator/workspace/xgboost-win64_release_1.5.1/src/learner.cc:1115: Starting in XGBoost 1.3.0, the default evaluation metric used with the objective 'binary:logistic' was changed from 'error' to 'logloss'. Explicitly set eval_metric if you'd like to restore the old behavior.\n",
      "[23:57:31] WARNING: C:/Users/Administrator/workspace/xgboost-win64_release_1.5.1/src/learner.cc:1115: Starting in XGBoost 1.3.0, the default evaluation metric used with the objective 'binary:logistic' was changed from 'error' to 'logloss'. Explicitly set eval_metric if you'd like to restore the old behavior.\n",
      "[23:57:31] WARNING: C:/Users/Administrator/workspace/xgboost-win64_release_1.5.1/src/learner.cc:1115: Starting in XGBoost 1.3.0, the default evaluation metric used with the objective 'binary:logistic' was changed from 'error' to 'logloss'. Explicitly set eval_metric if you'd like to restore the old behavior.\n",
      "[23:57:31] WARNING: C:/Users/Administrator/workspace/xgboost-win64_release_1.5.1/src/learner.cc:1115: Starting in XGBoost 1.3.0, the default evaluation metric used with the objective 'binary:logistic' was changed from 'error' to 'logloss'. Explicitly set eval_metric if you'd like to restore the old behavior.\n",
      "[23:57:32] WARNING: C:/Users/Administrator/workspace/xgboost-win64_release_1.5.1/src/learner.cc:1115: Starting in XGBoost 1.3.0, the default evaluation metric used with the objective 'binary:logistic' was changed from 'error' to 'logloss'. Explicitly set eval_metric if you'd like to restore the old behavior.\n",
      "[23:57:32] WARNING: C:/Users/Administrator/workspace/xgboost-win64_release_1.5.1/src/learner.cc:1115: Starting in XGBoost 1.3.0, the default evaluation metric used with the objective 'binary:logistic' was changed from 'error' to 'logloss'. Explicitly set eval_metric if you'd like to restore the old behavior.\n",
      "[23:57:32] WARNING: C:/Users/Administrator/workspace/xgboost-win64_release_1.5.1/src/learner.cc:1115: Starting in XGBoost 1.3.0, the default evaluation metric used with the objective 'binary:logistic' was changed from 'error' to 'logloss'. Explicitly set eval_metric if you'd like to restore the old behavior.\n",
      "[23:57:32] WARNING: C:/Users/Administrator/workspace/xgboost-win64_release_1.5.1/src/learner.cc:1115: Starting in XGBoost 1.3.0, the default evaluation metric used with the objective 'binary:logistic' was changed from 'error' to 'logloss'. Explicitly set eval_metric if you'd like to restore the old behavior.\n",
      "[23:57:32] WARNING: C:/Users/Administrator/workspace/xgboost-win64_release_1.5.1/src/learner.cc:1115: Starting in XGBoost 1.3.0, the default evaluation metric used with the objective 'binary:logistic' was changed from 'error' to 'logloss'. Explicitly set eval_metric if you'd like to restore the old behavior.\n",
      "[23:57:32] WARNING: C:/Users/Administrator/workspace/xgboost-win64_release_1.5.1/src/learner.cc:1115: Starting in XGBoost 1.3.0, the default evaluation metric used with the objective 'binary:logistic' was changed from 'error' to 'logloss'. Explicitly set eval_metric if you'd like to restore the old behavior.\n",
      "[23:57:32] WARNING: C:/Users/Administrator/workspace/xgboost-win64_release_1.5.1/src/learner.cc:1115: Starting in XGBoost 1.3.0, the default evaluation metric used with the objective 'binary:logistic' was changed from 'error' to 'logloss'. Explicitly set eval_metric if you'd like to restore the old behavior.\n",
      "[23:57:32] WARNING: C:/Users/Administrator/workspace/xgboost-win64_release_1.5.1/src/learner.cc:1115: Starting in XGBoost 1.3.0, the default evaluation metric used with the objective 'binary:logistic' was changed from 'error' to 'logloss'. Explicitly set eval_metric if you'd like to restore the old behavior.\n",
      "[23:57:32] WARNING: C:/Users/Administrator/workspace/xgboost-win64_release_1.5.1/src/learner.cc:1115: Starting in XGBoost 1.3.0, the default evaluation metric used with the objective 'binary:logistic' was changed from 'error' to 'logloss'. Explicitly set eval_metric if you'd like to restore the old behavior.\n",
      "[23:57:33] WARNING: C:/Users/Administrator/workspace/xgboost-win64_release_1.5.1/src/learner.cc:1115: Starting in XGBoost 1.3.0, the default evaluation metric used with the objective 'binary:logistic' was changed from 'error' to 'logloss'. Explicitly set eval_metric if you'd like to restore the old behavior.\n",
      "[23:57:33] WARNING: C:/Users/Administrator/workspace/xgboost-win64_release_1.5.1/src/learner.cc:1115: Starting in XGBoost 1.3.0, the default evaluation metric used with the objective 'binary:logistic' was changed from 'error' to 'logloss'. Explicitly set eval_metric if you'd like to restore the old behavior.\n",
      "[23:57:33] WARNING: C:/Users/Administrator/workspace/xgboost-win64_release_1.5.1/src/learner.cc:1115: Starting in XGBoost 1.3.0, the default evaluation metric used with the objective 'binary:logistic' was changed from 'error' to 'logloss'. Explicitly set eval_metric if you'd like to restore the old behavior.\n",
      "[23:57:33] WARNING: C:/Users/Administrator/workspace/xgboost-win64_release_1.5.1/src/learner.cc:1115: Starting in XGBoost 1.3.0, the default evaluation metric used with the objective 'binary:logistic' was changed from 'error' to 'logloss'. Explicitly set eval_metric if you'd like to restore the old behavior.\n",
      "[23:57:33] WARNING: C:/Users/Administrator/workspace/xgboost-win64_release_1.5.1/src/learner.cc:1115: Starting in XGBoost 1.3.0, the default evaluation metric used with the objective 'binary:logistic' was changed from 'error' to 'logloss'. Explicitly set eval_metric if you'd like to restore the old behavior.\n",
      "[23:57:33] WARNING: C:/Users/Administrator/workspace/xgboost-win64_release_1.5.1/src/learner.cc:1115: Starting in XGBoost 1.3.0, the default evaluation metric used with the objective 'binary:logistic' was changed from 'error' to 'logloss'. Explicitly set eval_metric if you'd like to restore the old behavior.\n",
      "[23:57:34] WARNING: C:/Users/Administrator/workspace/xgboost-win64_release_1.5.1/src/learner.cc:1115: Starting in XGBoost 1.3.0, the default evaluation metric used with the objective 'binary:logistic' was changed from 'error' to 'logloss'. Explicitly set eval_metric if you'd like to restore the old behavior.\n",
      "[23:57:34] WARNING: C:/Users/Administrator/workspace/xgboost-win64_release_1.5.1/src/learner.cc:1115: Starting in XGBoost 1.3.0, the default evaluation metric used with the objective 'binary:logistic' was changed from 'error' to 'logloss'. Explicitly set eval_metric if you'd like to restore the old behavior.\n",
      "[23:57:34] WARNING: C:/Users/Administrator/workspace/xgboost-win64_release_1.5.1/src/learner.cc:1115: Starting in XGBoost 1.3.0, the default evaluation metric used with the objective 'binary:logistic' was changed from 'error' to 'logloss'. Explicitly set eval_metric if you'd like to restore the old behavior.\n",
      "[23:57:34] WARNING: C:/Users/Administrator/workspace/xgboost-win64_release_1.5.1/src/learner.cc:1115: Starting in XGBoost 1.3.0, the default evaluation metric used with the objective 'binary:logistic' was changed from 'error' to 'logloss'. Explicitly set eval_metric if you'd like to restore the old behavior.\n",
      "[23:57:34] WARNING: C:/Users/Administrator/workspace/xgboost-win64_release_1.5.1/src/learner.cc:1115: Starting in XGBoost 1.3.0, the default evaluation metric used with the objective 'binary:logistic' was changed from 'error' to 'logloss'. Explicitly set eval_metric if you'd like to restore the old behavior.\n",
      "[23:57:34] WARNING: C:/Users/Administrator/workspace/xgboost-win64_release_1.5.1/src/learner.cc:1115: Starting in XGBoost 1.3.0, the default evaluation metric used with the objective 'binary:logistic' was changed from 'error' to 'logloss'. Explicitly set eval_metric if you'd like to restore the old behavior.\n",
      "[23:57:35] WARNING: C:/Users/Administrator/workspace/xgboost-win64_release_1.5.1/src/learner.cc:1115: Starting in XGBoost 1.3.0, the default evaluation metric used with the objective 'binary:logistic' was changed from 'error' to 'logloss'. Explicitly set eval_metric if you'd like to restore the old behavior.\n",
      "[23:57:35] WARNING: C:/Users/Administrator/workspace/xgboost-win64_release_1.5.1/src/learner.cc:1115: Starting in XGBoost 1.3.0, the default evaluation metric used with the objective 'binary:logistic' was changed from 'error' to 'logloss'. Explicitly set eval_metric if you'd like to restore the old behavior.\n"
     ]
    },
    {
     "name": "stdout",
     "output_type": "stream",
     "text": [
      "[23:57:35] WARNING: C:/Users/Administrator/workspace/xgboost-win64_release_1.5.1/src/learner.cc:1115: Starting in XGBoost 1.3.0, the default evaluation metric used with the objective 'binary:logistic' was changed from 'error' to 'logloss'. Explicitly set eval_metric if you'd like to restore the old behavior.\n",
      "[23:57:35] WARNING: C:/Users/Administrator/workspace/xgboost-win64_release_1.5.1/src/learner.cc:1115: Starting in XGBoost 1.3.0, the default evaluation metric used with the objective 'binary:logistic' was changed from 'error' to 'logloss'. Explicitly set eval_metric if you'd like to restore the old behavior.\n",
      "[23:57:35] WARNING: C:/Users/Administrator/workspace/xgboost-win64_release_1.5.1/src/learner.cc:1115: Starting in XGBoost 1.3.0, the default evaluation metric used with the objective 'binary:logistic' was changed from 'error' to 'logloss'. Explicitly set eval_metric if you'd like to restore the old behavior.\n",
      "[23:57:35] WARNING: C:/Users/Administrator/workspace/xgboost-win64_release_1.5.1/src/learner.cc:1115: Starting in XGBoost 1.3.0, the default evaluation metric used with the objective 'binary:logistic' was changed from 'error' to 'logloss'. Explicitly set eval_metric if you'd like to restore the old behavior.\n",
      "[23:57:36] WARNING: C:/Users/Administrator/workspace/xgboost-win64_release_1.5.1/src/learner.cc:1115: Starting in XGBoost 1.3.0, the default evaluation metric used with the objective 'binary:logistic' was changed from 'error' to 'logloss'. Explicitly set eval_metric if you'd like to restore the old behavior.\n",
      "[23:57:36] WARNING: C:/Users/Administrator/workspace/xgboost-win64_release_1.5.1/src/learner.cc:1115: Starting in XGBoost 1.3.0, the default evaluation metric used with the objective 'binary:logistic' was changed from 'error' to 'logloss'. Explicitly set eval_metric if you'd like to restore the old behavior.\n",
      "[23:57:36] WARNING: C:/Users/Administrator/workspace/xgboost-win64_release_1.5.1/src/learner.cc:1115: Starting in XGBoost 1.3.0, the default evaluation metric used with the objective 'binary:logistic' was changed from 'error' to 'logloss'. Explicitly set eval_metric if you'd like to restore the old behavior.\n",
      "[23:57:36] WARNING: C:/Users/Administrator/workspace/xgboost-win64_release_1.5.1/src/learner.cc:1115: Starting in XGBoost 1.3.0, the default evaluation metric used with the objective 'binary:logistic' was changed from 'error' to 'logloss'. Explicitly set eval_metric if you'd like to restore the old behavior.\n",
      "[23:57:37] WARNING: C:/Users/Administrator/workspace/xgboost-win64_release_1.5.1/src/learner.cc:1115: Starting in XGBoost 1.3.0, the default evaluation metric used with the objective 'binary:logistic' was changed from 'error' to 'logloss'. Explicitly set eval_metric if you'd like to restore the old behavior.\n",
      "[23:57:37] WARNING: C:/Users/Administrator/workspace/xgboost-win64_release_1.5.1/src/learner.cc:1115: Starting in XGBoost 1.3.0, the default evaluation metric used with the objective 'binary:logistic' was changed from 'error' to 'logloss'. Explicitly set eval_metric if you'd like to restore the old behavior.\n",
      "[23:57:37] WARNING: C:/Users/Administrator/workspace/xgboost-win64_release_1.5.1/src/learner.cc:1115: Starting in XGBoost 1.3.0, the default evaluation metric used with the objective 'binary:logistic' was changed from 'error' to 'logloss'. Explicitly set eval_metric if you'd like to restore the old behavior.\n",
      "[23:57:38] WARNING: C:/Users/Administrator/workspace/xgboost-win64_release_1.5.1/src/learner.cc:1115: Starting in XGBoost 1.3.0, the default evaluation metric used with the objective 'binary:logistic' was changed from 'error' to 'logloss'. Explicitly set eval_metric if you'd like to restore the old behavior.\n",
      "[23:57:38] WARNING: C:/Users/Administrator/workspace/xgboost-win64_release_1.5.1/src/learner.cc:1115: Starting in XGBoost 1.3.0, the default evaluation metric used with the objective 'binary:logistic' was changed from 'error' to 'logloss'. Explicitly set eval_metric if you'd like to restore the old behavior.\n",
      "[23:57:38] WARNING: C:/Users/Administrator/workspace/xgboost-win64_release_1.5.1/src/learner.cc:1115: Starting in XGBoost 1.3.0, the default evaluation metric used with the objective 'binary:logistic' was changed from 'error' to 'logloss'. Explicitly set eval_metric if you'd like to restore the old behavior.\n",
      "[23:57:38] WARNING: C:/Users/Administrator/workspace/xgboost-win64_release_1.5.1/src/learner.cc:1115: Starting in XGBoost 1.3.0, the default evaluation metric used with the objective 'binary:logistic' was changed from 'error' to 'logloss'. Explicitly set eval_metric if you'd like to restore the old behavior.\n",
      "[23:57:38] WARNING: C:/Users/Administrator/workspace/xgboost-win64_release_1.5.1/src/learner.cc:1115: Starting in XGBoost 1.3.0, the default evaluation metric used with the objective 'binary:logistic' was changed from 'error' to 'logloss'. Explicitly set eval_metric if you'd like to restore the old behavior.\n",
      "[23:57:39] WARNING: C:/Users/Administrator/workspace/xgboost-win64_release_1.5.1/src/learner.cc:1115: Starting in XGBoost 1.3.0, the default evaluation metric used with the objective 'binary:logistic' was changed from 'error' to 'logloss'. Explicitly set eval_metric if you'd like to restore the old behavior.\n",
      "[23:57:39] WARNING: C:/Users/Administrator/workspace/xgboost-win64_release_1.5.1/src/learner.cc:1115: Starting in XGBoost 1.3.0, the default evaluation metric used with the objective 'binary:logistic' was changed from 'error' to 'logloss'. Explicitly set eval_metric if you'd like to restore the old behavior.\n",
      "[23:57:39] WARNING: C:/Users/Administrator/workspace/xgboost-win64_release_1.5.1/src/learner.cc:1115: Starting in XGBoost 1.3.0, the default evaluation metric used with the objective 'binary:logistic' was changed from 'error' to 'logloss'. Explicitly set eval_metric if you'd like to restore the old behavior.\n",
      "[23:57:39] WARNING: C:/Users/Administrator/workspace/xgboost-win64_release_1.5.1/src/learner.cc:1115: Starting in XGBoost 1.3.0, the default evaluation metric used with the objective 'binary:logistic' was changed from 'error' to 'logloss'. Explicitly set eval_metric if you'd like to restore the old behavior.\n",
      "[23:57:39] WARNING: C:/Users/Administrator/workspace/xgboost-win64_release_1.5.1/src/learner.cc:1115: Starting in XGBoost 1.3.0, the default evaluation metric used with the objective 'binary:logistic' was changed from 'error' to 'logloss'. Explicitly set eval_metric if you'd like to restore the old behavior.\n",
      "[23:57:40] WARNING: C:/Users/Administrator/workspace/xgboost-win64_release_1.5.1/src/learner.cc:1115: Starting in XGBoost 1.3.0, the default evaluation metric used with the objective 'binary:logistic' was changed from 'error' to 'logloss'. Explicitly set eval_metric if you'd like to restore the old behavior.\n",
      "[23:57:40] WARNING: C:/Users/Administrator/workspace/xgboost-win64_release_1.5.1/src/learner.cc:1115: Starting in XGBoost 1.3.0, the default evaluation metric used with the objective 'binary:logistic' was changed from 'error' to 'logloss'. Explicitly set eval_metric if you'd like to restore the old behavior.\n",
      "[23:57:40] WARNING: C:/Users/Administrator/workspace/xgboost-win64_release_1.5.1/src/learner.cc:1115: Starting in XGBoost 1.3.0, the default evaluation metric used with the objective 'binary:logistic' was changed from 'error' to 'logloss'. Explicitly set eval_metric if you'd like to restore the old behavior.\n",
      "[23:57:40] WARNING: C:/Users/Administrator/workspace/xgboost-win64_release_1.5.1/src/learner.cc:1115: Starting in XGBoost 1.3.0, the default evaluation metric used with the objective 'binary:logistic' was changed from 'error' to 'logloss'. Explicitly set eval_metric if you'd like to restore the old behavior.\n",
      "[23:57:40] WARNING: C:/Users/Administrator/workspace/xgboost-win64_release_1.5.1/src/learner.cc:1115: Starting in XGBoost 1.3.0, the default evaluation metric used with the objective 'binary:logistic' was changed from 'error' to 'logloss'. Explicitly set eval_metric if you'd like to restore the old behavior.\n",
      "[23:57:40] WARNING: C:/Users/Administrator/workspace/xgboost-win64_release_1.5.1/src/learner.cc:1115: Starting in XGBoost 1.3.0, the default evaluation metric used with the objective 'binary:logistic' was changed from 'error' to 'logloss'. Explicitly set eval_metric if you'd like to restore the old behavior.\n",
      "[23:57:40] WARNING: C:/Users/Administrator/workspace/xgboost-win64_release_1.5.1/src/learner.cc:1115: Starting in XGBoost 1.3.0, the default evaluation metric used with the objective 'binary:logistic' was changed from 'error' to 'logloss'. Explicitly set eval_metric if you'd like to restore the old behavior.\n",
      "[23:57:40] WARNING: C:/Users/Administrator/workspace/xgboost-win64_release_1.5.1/src/learner.cc:1115: Starting in XGBoost 1.3.0, the default evaluation metric used with the objective 'binary:logistic' was changed from 'error' to 'logloss'. Explicitly set eval_metric if you'd like to restore the old behavior.\n"
     ]
    },
    {
     "name": "stdout",
     "output_type": "stream",
     "text": [
      "[23:57:40] WARNING: C:/Users/Administrator/workspace/xgboost-win64_release_1.5.1/src/learner.cc:1115: Starting in XGBoost 1.3.0, the default evaluation metric used with the objective 'binary:logistic' was changed from 'error' to 'logloss'. Explicitly set eval_metric if you'd like to restore the old behavior.\n",
      "[23:57:40] WARNING: C:/Users/Administrator/workspace/xgboost-win64_release_1.5.1/src/learner.cc:1115: Starting in XGBoost 1.3.0, the default evaluation metric used with the objective 'binary:logistic' was changed from 'error' to 'logloss'. Explicitly set eval_metric if you'd like to restore the old behavior.\n",
      "[23:57:41] WARNING: C:/Users/Administrator/workspace/xgboost-win64_release_1.5.1/src/learner.cc:1115: Starting in XGBoost 1.3.0, the default evaluation metric used with the objective 'binary:logistic' was changed from 'error' to 'logloss'. Explicitly set eval_metric if you'd like to restore the old behavior.\n",
      "[23:57:41] WARNING: C:/Users/Administrator/workspace/xgboost-win64_release_1.5.1/src/learner.cc:1115: Starting in XGBoost 1.3.0, the default evaluation metric used with the objective 'binary:logistic' was changed from 'error' to 'logloss'. Explicitly set eval_metric if you'd like to restore the old behavior.\n",
      "[23:57:41] WARNING: C:/Users/Administrator/workspace/xgboost-win64_release_1.5.1/src/learner.cc:1115: Starting in XGBoost 1.3.0, the default evaluation metric used with the objective 'binary:logistic' was changed from 'error' to 'logloss'. Explicitly set eval_metric if you'd like to restore the old behavior.\n",
      "[23:57:41] WARNING: C:/Users/Administrator/workspace/xgboost-win64_release_1.5.1/src/learner.cc:1115: Starting in XGBoost 1.3.0, the default evaluation metric used with the objective 'binary:logistic' was changed from 'error' to 'logloss'. Explicitly set eval_metric if you'd like to restore the old behavior.\n",
      "[23:57:41] WARNING: C:/Users/Administrator/workspace/xgboost-win64_release_1.5.1/src/learner.cc:1115: Starting in XGBoost 1.3.0, the default evaluation metric used with the objective 'binary:logistic' was changed from 'error' to 'logloss'. Explicitly set eval_metric if you'd like to restore the old behavior.\n",
      "[23:57:41] WARNING: C:/Users/Administrator/workspace/xgboost-win64_release_1.5.1/src/learner.cc:1115: Starting in XGBoost 1.3.0, the default evaluation metric used with the objective 'binary:logistic' was changed from 'error' to 'logloss'. Explicitly set eval_metric if you'd like to restore the old behavior.\n",
      "[23:57:41] WARNING: C:/Users/Administrator/workspace/xgboost-win64_release_1.5.1/src/learner.cc:1115: Starting in XGBoost 1.3.0, the default evaluation metric used with the objective 'binary:logistic' was changed from 'error' to 'logloss'. Explicitly set eval_metric if you'd like to restore the old behavior.\n",
      "[23:57:42] WARNING: C:/Users/Administrator/workspace/xgboost-win64_release_1.5.1/src/learner.cc:1115: Starting in XGBoost 1.3.0, the default evaluation metric used with the objective 'binary:logistic' was changed from 'error' to 'logloss'. Explicitly set eval_metric if you'd like to restore the old behavior.\n",
      "[23:57:42] WARNING: C:/Users/Administrator/workspace/xgboost-win64_release_1.5.1/src/learner.cc:1115: Starting in XGBoost 1.3.0, the default evaluation metric used with the objective 'binary:logistic' was changed from 'error' to 'logloss'. Explicitly set eval_metric if you'd like to restore the old behavior.\n",
      "[23:57:42] WARNING: C:/Users/Administrator/workspace/xgboost-win64_release_1.5.1/src/learner.cc:1115: Starting in XGBoost 1.3.0, the default evaluation metric used with the objective 'binary:logistic' was changed from 'error' to 'logloss'. Explicitly set eval_metric if you'd like to restore the old behavior.\n",
      "[23:57:42] WARNING: C:/Users/Administrator/workspace/xgboost-win64_release_1.5.1/src/learner.cc:1115: Starting in XGBoost 1.3.0, the default evaluation metric used with the objective 'binary:logistic' was changed from 'error' to 'logloss'. Explicitly set eval_metric if you'd like to restore the old behavior.\n",
      "[23:57:42] WARNING: C:/Users/Administrator/workspace/xgboost-win64_release_1.5.1/src/learner.cc:1115: Starting in XGBoost 1.3.0, the default evaluation metric used with the objective 'binary:logistic' was changed from 'error' to 'logloss'. Explicitly set eval_metric if you'd like to restore the old behavior.\n",
      "[23:57:42] WARNING: C:/Users/Administrator/workspace/xgboost-win64_release_1.5.1/src/learner.cc:1115: Starting in XGBoost 1.3.0, the default evaluation metric used with the objective 'binary:logistic' was changed from 'error' to 'logloss'. Explicitly set eval_metric if you'd like to restore the old behavior.\n",
      "[23:57:43] WARNING: C:/Users/Administrator/workspace/xgboost-win64_release_1.5.1/src/learner.cc:1115: Starting in XGBoost 1.3.0, the default evaluation metric used with the objective 'binary:logistic' was changed from 'error' to 'logloss'. Explicitly set eval_metric if you'd like to restore the old behavior.\n",
      "[23:57:43] WARNING: C:/Users/Administrator/workspace/xgboost-win64_release_1.5.1/src/learner.cc:1115: Starting in XGBoost 1.3.0, the default evaluation metric used with the objective 'binary:logistic' was changed from 'error' to 'logloss'. Explicitly set eval_metric if you'd like to restore the old behavior.\n",
      "[23:57:43] WARNING: C:/Users/Administrator/workspace/xgboost-win64_release_1.5.1/src/learner.cc:1115: Starting in XGBoost 1.3.0, the default evaluation metric used with the objective 'binary:logistic' was changed from 'error' to 'logloss'. Explicitly set eval_metric if you'd like to restore the old behavior.\n",
      "[23:57:43] WARNING: C:/Users/Administrator/workspace/xgboost-win64_release_1.5.1/src/learner.cc:1115: Starting in XGBoost 1.3.0, the default evaluation metric used with the objective 'binary:logistic' was changed from 'error' to 'logloss'. Explicitly set eval_metric if you'd like to restore the old behavior.\n",
      "[23:57:43] WARNING: C:/Users/Administrator/workspace/xgboost-win64_release_1.5.1/src/learner.cc:1115: Starting in XGBoost 1.3.0, the default evaluation metric used with the objective 'binary:logistic' was changed from 'error' to 'logloss'. Explicitly set eval_metric if you'd like to restore the old behavior.\n",
      "[23:57:43] WARNING: C:/Users/Administrator/workspace/xgboost-win64_release_1.5.1/src/learner.cc:1115: Starting in XGBoost 1.3.0, the default evaluation metric used with the objective 'binary:logistic' was changed from 'error' to 'logloss'. Explicitly set eval_metric if you'd like to restore the old behavior.\n",
      "[23:57:43] WARNING: C:/Users/Administrator/workspace/xgboost-win64_release_1.5.1/src/learner.cc:1115: Starting in XGBoost 1.3.0, the default evaluation metric used with the objective 'binary:logistic' was changed from 'error' to 'logloss'. Explicitly set eval_metric if you'd like to restore the old behavior.\n",
      "[23:57:43] WARNING: C:/Users/Administrator/workspace/xgboost-win64_release_1.5.1/src/learner.cc:1115: Starting in XGBoost 1.3.0, the default evaluation metric used with the objective 'binary:logistic' was changed from 'error' to 'logloss'. Explicitly set eval_metric if you'd like to restore the old behavior.\n",
      "[23:57:43] WARNING: C:/Users/Administrator/workspace/xgboost-win64_release_1.5.1/src/learner.cc:1115: Starting in XGBoost 1.3.0, the default evaluation metric used with the objective 'binary:logistic' was changed from 'error' to 'logloss'. Explicitly set eval_metric if you'd like to restore the old behavior.\n",
      "[23:57:43] WARNING: C:/Users/Administrator/workspace/xgboost-win64_release_1.5.1/src/learner.cc:1115: Starting in XGBoost 1.3.0, the default evaluation metric used with the objective 'binary:logistic' was changed from 'error' to 'logloss'. Explicitly set eval_metric if you'd like to restore the old behavior.\n",
      "[23:57:43] WARNING: C:/Users/Administrator/workspace/xgboost-win64_release_1.5.1/src/learner.cc:1115: Starting in XGBoost 1.3.0, the default evaluation metric used with the objective 'binary:logistic' was changed from 'error' to 'logloss'. Explicitly set eval_metric if you'd like to restore the old behavior.\n",
      "[23:57:44] WARNING: C:/Users/Administrator/workspace/xgboost-win64_release_1.5.1/src/learner.cc:1115: Starting in XGBoost 1.3.0, the default evaluation metric used with the objective 'binary:logistic' was changed from 'error' to 'logloss'. Explicitly set eval_metric if you'd like to restore the old behavior.\n"
     ]
    },
    {
     "name": "stdout",
     "output_type": "stream",
     "text": [
      "[23:57:44] WARNING: C:/Users/Administrator/workspace/xgboost-win64_release_1.5.1/src/learner.cc:1115: Starting in XGBoost 1.3.0, the default evaluation metric used with the objective 'binary:logistic' was changed from 'error' to 'logloss'. Explicitly set eval_metric if you'd like to restore the old behavior.\n",
      "[23:57:44] WARNING: C:/Users/Administrator/workspace/xgboost-win64_release_1.5.1/src/learner.cc:1115: Starting in XGBoost 1.3.0, the default evaluation metric used with the objective 'binary:logistic' was changed from 'error' to 'logloss'. Explicitly set eval_metric if you'd like to restore the old behavior.\n",
      "[23:57:44] WARNING: C:/Users/Administrator/workspace/xgboost-win64_release_1.5.1/src/learner.cc:1115: Starting in XGBoost 1.3.0, the default evaluation metric used with the objective 'binary:logistic' was changed from 'error' to 'logloss'. Explicitly set eval_metric if you'd like to restore the old behavior.\n",
      "[23:57:44] WARNING: C:/Users/Administrator/workspace/xgboost-win64_release_1.5.1/src/learner.cc:1115: Starting in XGBoost 1.3.0, the default evaluation metric used with the objective 'binary:logistic' was changed from 'error' to 'logloss'. Explicitly set eval_metric if you'd like to restore the old behavior.\n",
      "[23:57:44] WARNING: C:/Users/Administrator/workspace/xgboost-win64_release_1.5.1/src/learner.cc:1115: Starting in XGBoost 1.3.0, the default evaluation metric used with the objective 'binary:logistic' was changed from 'error' to 'logloss'. Explicitly set eval_metric if you'd like to restore the old behavior.\n",
      "[23:57:44] WARNING: C:/Users/Administrator/workspace/xgboost-win64_release_1.5.1/src/learner.cc:1115: Starting in XGBoost 1.3.0, the default evaluation metric used with the objective 'binary:logistic' was changed from 'error' to 'logloss'. Explicitly set eval_metric if you'd like to restore the old behavior.\n",
      "[23:57:44] WARNING: C:/Users/Administrator/workspace/xgboost-win64_release_1.5.1/src/learner.cc:1115: Starting in XGBoost 1.3.0, the default evaluation metric used with the objective 'binary:logistic' was changed from 'error' to 'logloss'. Explicitly set eval_metric if you'd like to restore the old behavior.\n",
      "[23:57:44] WARNING: C:/Users/Administrator/workspace/xgboost-win64_release_1.5.1/src/learner.cc:1115: Starting in XGBoost 1.3.0, the default evaluation metric used with the objective 'binary:logistic' was changed from 'error' to 'logloss'. Explicitly set eval_metric if you'd like to restore the old behavior.\n"
     ]
    },
    {
     "data": {
      "text/plain": [
       "RandomizedSearchCV(cv=10,\n",
       "                   estimator=XGBClassifier(base_score=None, booster=None,\n",
       "                                           colsample_bylevel=None,\n",
       "                                           colsample_bynode=None,\n",
       "                                           colsample_bytree=None,\n",
       "                                           enable_categorical=False, gamma=None,\n",
       "                                           gpu_id=None, importance_type=None,\n",
       "                                           interaction_constraints=None,\n",
       "                                           learning_rate=None,\n",
       "                                           max_delta_step=None, max_depth=None,\n",
       "                                           min_child_weight=None, missing=nan,\n",
       "                                           monotone_constraints=None,\n",
       "                                           n_estimators=100, n_jobs=None,\n",
       "                                           num_parallel_tree=None,\n",
       "                                           predictor=None, random_state=None,\n",
       "                                           reg_alpha=None, reg_lambda=None,\n",
       "                                           scale_pos_weight=None,\n",
       "                                           subsample=None, tree_method=None,\n",
       "                                           validate_parameters=None,\n",
       "                                           verbosity=None),\n",
       "                   n_iter=20,\n",
       "                   param_distributions={'learning_rate': [0.01, 0.1, 0.2],\n",
       "                                        'max_depth': range(2, 6),\n",
       "                                        'n_estimators': range(20, 201, 10)})"
      ]
     },
     "execution_count": 113,
     "metadata": {},
     "output_type": "execute_result"
    }
   ],
   "source": [
    "params = {'max_depth': range(2,6), \n",
    "          'n_estimators' : range(20,201,10),\n",
    "          'learning_rate':[0.01,0.1,0.2]}\n",
    "\n",
    "model = XGBClassifier()\n",
    "model_rs = RandomizedSearchCV(model, params, n_iter = 20, cv = 10)\n",
    "model_rs.fit(x_train, y_train)"
   ]
  },
  {
   "cell_type": "code",
   "execution_count": 117,
   "metadata": {},
   "outputs": [
    {
     "name": "stdout",
     "output_type": "stream",
     "text": [
      "              precision    recall  f1-score   support\n",
      "\n",
      "           0       0.90      0.97      0.94       176\n",
      "           1       0.55      0.25      0.34        24\n",
      "\n",
      "    accuracy                           0.89       200\n",
      "   macro avg       0.73      0.61      0.64       200\n",
      "weighted avg       0.86      0.89      0.87       200\n",
      "\n"
     ]
    }
   ],
   "source": [
    "val_pred_xgb = model_rs.predict(x_val)\n",
    "result_report['XGB']=classification_report(y_test, val_pred_xgb)\n",
    "print(classification_report(y_val, val_pred_xgb))"
   ]
  },
  {
   "cell_type": "code",
   "execution_count": 116,
   "metadata": {},
   "outputs": [
    {
     "data": {
      "image/png": "[encoded data removed]",
      "text/plain": [
       "<Figure size 360x864 with 1 Axes>"
      ]
     },
     "metadata": {
      "needs_background": "light"
     },
     "output_type": "display_data"
    }
   ],
   "source": [
    "# 변수 중요도 시각화\n",
    "plt.figure(figsize=(5,12))\n",
    "plt.barh(y=list(x), width=model_rs.best_estimator_.feature_importances_) \n",
    "plt.show()"
   ]
  },
  {
   "cell_type": "markdown",
   "metadata": {},
   "source": [
    "## 4.모델링 : 딥러닝"
   ]
  },
  {
   "cell_type": "markdown",
   "metadata": {},
   "source": [
    "### 4.1 모델링을 위한 함수 불러오기"
   ]
  },
  {
   "cell_type": "code",
   "execution_count": 122,
   "metadata": {},
   "outputs": [],
   "source": [
    "import tensorflow as tf\n",
    "from tensorflow import keras\n",
    "from keras.backend import clear_session\n",
    "from keras.layers import Dense\n",
    "from keras.models import Sequential"
   ]
  },
  {
   "cell_type": "code",
   "execution_count": 121,
   "metadata": {},
   "outputs": [
    {
     "data": {
      "text/plain": [
       "((850, 53), (850,))"
      ]
     },
     "execution_count": 121,
     "metadata": {},
     "output_type": "execute_result"
    }
   ],
   "source": [
    "x_train.shape, y_train.shape"
   ]
  },
  {
   "cell_type": "markdown",
   "metadata": {},
   "source": [
    "### 4.2 모델 설계"
   ]
  },
  {
   "cell_type": "code",
   "execution_count": 124,
   "metadata": {},
   "outputs": [
    {
     "name": "stdout",
     "output_type": "stream",
     "text": [
      "53\n"
     ]
    }
   ],
   "source": [
    "input = x_train.shape[1]\n",
    "print(input)\n",
    "batch = 128\n",
    "epochs = 100"
   ]
  },
  {
   "cell_type": "markdown",
   "metadata": {},
   "source": [
    "### 1) 모델1"
   ]
  },
  {
   "cell_type": "code",
   "execution_count": 125,
   "metadata": {},
   "outputs": [
    {
     "name": "stdout",
     "output_type": "stream",
     "text": [
      "Model: \"sequential\"\n",
      "_________________________________________________________________\n",
      " Layer (type)                Output Shape              Param #   \n",
      "=================================================================\n",
      " dense (Dense)               (None, 8)                 432       \n",
      "                                                                 \n",
      " dense_1 (Dense)             (None, 1)                 9         \n",
      "                                                                 \n",
      "=================================================================\n",
      "Total params: 441\n",
      "Trainable params: 441\n",
      "Non-trainable params: 0\n",
      "_________________________________________________________________\n"
     ]
    }
   ],
   "source": [
    "clear_session()\n",
    "\n",
    "model1 = Sequential()\n",
    "model1.add(Dense(8,input_shape=(input,), activation = 'relu'))\n",
    "model1.add(Dense(1, activation= 'sigmoid'))\n",
    "model1.compile(loss = 'binary_crossentropy', optimizer = 'adam') \n",
    "model1.summary()"
   ]
  },
  {
   "cell_type": "markdown",
   "metadata": {},
   "source": [
    "### 2) 모델2"
   ]
  },
  {
   "cell_type": "code",
   "execution_count": 127,
   "metadata": {},
   "outputs": [
    {
     "name": "stdout",
     "output_type": "stream",
     "text": [
      "Model: \"sequential\"\n",
      "_________________________________________________________________\n",
      " Layer (type)                Output Shape              Param #   \n",
      "=================================================================\n",
      " dense (Dense)               (None, 50)                2700      \n",
      "                                                                 \n",
      " dense_1 (Dense)             (None, 32)                1632      \n",
      "                                                                 \n",
      " dense_2 (Dense)             (None, 1)                 33        \n",
      "                                                                 \n",
      "=================================================================\n",
      "Total params: 4,365\n",
      "Trainable params: 4,365\n",
      "Non-trainable params: 0\n",
      "_________________________________________________________________\n"
     ]
    }
   ],
   "source": [
    "clear_session()\n",
    "\n",
    "model2 = Sequential()\n",
    "model2.add(Dense(50,input_shape=(input,), activation = 'relu'))\n",
    "model2.add(Dense(32, activation = 'relu'))\n",
    "model2.add(Dense(1, activation= 'sigmoid'))\n",
    "model2.compile(loss = 'binary_crossentropy', optimizer = 'adam',metrics=['accuracy']) \n",
    "model2.summary()"
   ]
  },
  {
   "cell_type": "markdown",
   "metadata": {},
   "source": [
    "### 3) 모델3"
   ]
  },
  {
   "cell_type": "code",
   "execution_count": 128,
   "metadata": {},
   "outputs": [
    {
     "name": "stdout",
     "output_type": "stream",
     "text": [
      "Model: \"sequential\"\n",
      "_________________________________________________________________\n",
      " Layer (type)                Output Shape              Param #   \n",
      "=================================================================\n",
      " dense (Dense)               (None, 50)                2700      \n",
      "                                                                 \n",
      " dense_1 (Dense)             (None, 32)                1632      \n",
      "                                                                 \n",
      " dense_2 (Dense)             (None, 16)                528       \n",
      "                                                                 \n",
      " dense_3 (Dense)             (None, 1)                 17        \n",
      "                                                                 \n",
      "=================================================================\n",
      "Total params: 4,877\n",
      "Trainable params: 4,877\n",
      "Non-trainable params: 0\n",
      "_________________________________________________________________\n"
     ]
    }
   ],
   "source": [
    "clear_session()\n",
    "\n",
    "model3 = Sequential()\n",
    "model3.add(Dense(50,input_shape=(input,), activation = 'relu'))\n",
    "model3.add(Dense(32, activation = 'relu'))\n",
    "model3.add(Dense(16, activation = 'relu'))\n",
    "model3.add(Dense(1, activation= 'sigmoid'))\n",
    "model3.compile(loss = 'binary_crossentropy', optimizer = 'adam')  \n",
    "model3.summary()"
   ]
  },
  {
   "cell_type": "markdown",
   "metadata": {},
   "source": [
    "### 4.3 학습 및 최적화"
   ]
  },
  {
   "cell_type": "code",
   "execution_count": 144,
   "metadata": {
    "collapsed": true
   },
   "outputs": [
    {
     "name": "stdout",
     "output_type": "stream",
     "text": [
      "Epoch 1/100\n",
      "27/27 [==============================] - 0s 2ms/step - loss: 0.4531\n",
      "Epoch 2/100\n",
      "27/27 [==============================] - 0s 2ms/step - loss: 0.4332\n",
      "Epoch 3/100\n",
      "27/27 [==============================] - 0s 2ms/step - loss: 0.4103\n",
      "Epoch 4/100\n",
      "27/27 [==============================] - 0s 2ms/step - loss: 0.3859\n",
      "Epoch 5/100\n",
      "27/27 [==============================] - 0s 2ms/step - loss: 0.3665\n",
      "Epoch 6/100\n",
      "27/27 [==============================] - 0s 2ms/step - loss: 0.3532\n",
      "Epoch 7/100\n",
      "27/27 [==============================] - 0s 2ms/step - loss: 0.3430\n",
      "Epoch 8/100\n",
      "27/27 [==============================] - 0s 2ms/step - loss: 0.3367\n",
      "Epoch 9/100\n",
      "27/27 [==============================] - 0s 2ms/step - loss: 0.3296\n",
      "Epoch 10/100\n",
      "27/27 [==============================] - 0s 2ms/step - loss: 0.3247\n",
      "Epoch 11/100\n",
      "27/27 [==============================] - 0s 2ms/step - loss: 0.3205\n",
      "Epoch 12/100\n",
      "27/27 [==============================] - 0s 2ms/step - loss: 0.3168\n",
      "Epoch 13/100\n",
      "27/27 [==============================] - 0s 2ms/step - loss: 0.3138\n",
      "Epoch 14/100\n",
      "27/27 [==============================] - 0s 2ms/step - loss: 0.3097\n",
      "Epoch 15/100\n",
      "27/27 [==============================] - 0s 2ms/step - loss: 0.3066\n",
      "Epoch 16/100\n",
      "27/27 [==============================] - 0s 2ms/step - loss: 0.3037\n",
      "Epoch 17/100\n",
      "27/27 [==============================] - 0s 2ms/step - loss: 0.3007\n",
      "Epoch 18/100\n",
      "27/27 [==============================] - 0s 2ms/step - loss: 0.2986\n",
      "Epoch 19/100\n",
      "27/27 [==============================] - 0s 2ms/step - loss: 0.2961\n",
      "Epoch 20/100\n",
      "27/27 [==============================] - 0s 2ms/step - loss: 0.2947\n",
      "Epoch 21/100\n",
      "27/27 [==============================] - 0s 2ms/step - loss: 0.2920\n",
      "Epoch 22/100\n",
      "27/27 [==============================] - 0s 2ms/step - loss: 0.2898\n",
      "Epoch 23/100\n",
      "27/27 [==============================] - 0s 2ms/step - loss: 0.2878\n",
      "Epoch 24/100\n",
      "27/27 [==============================] - 0s 2ms/step - loss: 0.2864\n",
      "Epoch 25/100\n",
      "27/27 [==============================] - 0s 3ms/step - loss: 0.2853\n",
      "Epoch 26/100\n",
      "27/27 [==============================] - 0s 3ms/step - loss: 0.2838\n",
      "Epoch 27/100\n",
      "27/27 [==============================] - 0s 3ms/step - loss: 0.2814\n",
      "Epoch 28/100\n",
      "27/27 [==============================] - 0s 2ms/step - loss: 0.2808\n",
      "Epoch 29/100\n",
      "27/27 [==============================] - 0s 2ms/step - loss: 0.2785\n",
      "Epoch 30/100\n",
      "27/27 [==============================] - 0s 2ms/step - loss: 0.2771\n",
      "Epoch 31/100\n",
      "27/27 [==============================] - 0s 2ms/step - loss: 0.2755\n",
      "Epoch 32/100\n",
      "27/27 [==============================] - 0s 2ms/step - loss: 0.2748\n",
      "Epoch 33/100\n",
      "27/27 [==============================] - 0s 2ms/step - loss: 0.2735\n",
      "Epoch 34/100\n",
      "27/27 [==============================] - 0s 2ms/step - loss: 0.2713\n",
      "Epoch 35/100\n",
      "27/27 [==============================] - 0s 3ms/step - loss: 0.2698\n",
      "Epoch 36/100\n",
      "27/27 [==============================] - 0s 2ms/step - loss: 0.2690\n",
      "Epoch 37/100\n",
      "27/27 [==============================] - 0s 2ms/step - loss: 0.2677\n",
      "Epoch 38/100\n",
      "27/27 [==============================] - 0s 2ms/step - loss: 0.2657\n",
      "Epoch 39/100\n",
      "27/27 [==============================] - 0s 2ms/step - loss: 0.2646\n",
      "Epoch 40/100\n",
      "27/27 [==============================] - 0s 2ms/step - loss: 0.2637\n",
      "Epoch 41/100\n",
      "27/27 [==============================] - 0s 2ms/step - loss: 0.2619\n",
      "Epoch 42/100\n",
      "27/27 [==============================] - 0s 2ms/step - loss: 0.2613\n",
      "Epoch 43/100\n",
      "27/27 [==============================] - 0s 2ms/step - loss: 0.2599\n",
      "Epoch 44/100\n",
      "27/27 [==============================] - 0s 2ms/step - loss: 0.2579\n",
      "Epoch 45/100\n",
      "27/27 [==============================] - 0s 2ms/step - loss: 0.2565\n",
      "Epoch 46/100\n",
      "27/27 [==============================] - 0s 2ms/step - loss: 0.2552\n",
      "Epoch 47/100\n",
      "27/27 [==============================] - 0s 2ms/step - loss: 0.2543\n",
      "Epoch 48/100\n",
      "27/27 [==============================] - 0s 2ms/step - loss: 0.2538\n",
      "Epoch 49/100\n",
      "27/27 [==============================] - 0s 2ms/step - loss: 0.2512\n",
      "Epoch 50/100\n",
      "27/27 [==============================] - 0s 2ms/step - loss: 0.2498\n",
      "Epoch 51/100\n",
      "27/27 [==============================] - 0s 2ms/step - loss: 0.2488\n",
      "Epoch 52/100\n",
      "27/27 [==============================] - 0s 2ms/step - loss: 0.2479\n",
      "Epoch 53/100\n",
      "27/27 [==============================] - 0s 2ms/step - loss: 0.2467\n",
      "Epoch 54/100\n",
      "27/27 [==============================] - 0s 2ms/step - loss: 0.2449\n",
      "Epoch 55/100\n",
      "27/27 [==============================] - 0s 2ms/step - loss: 0.2443\n",
      "Epoch 56/100\n",
      "27/27 [==============================] - 0s 2ms/step - loss: 0.2444\n",
      "Epoch 57/100\n",
      "27/27 [==============================] - 0s 2ms/step - loss: 0.2424\n",
      "Epoch 58/100\n",
      "27/27 [==============================] - 0s 2ms/step - loss: 0.2410\n",
      "Epoch 59/100\n",
      "27/27 [==============================] - 0s 2ms/step - loss: 0.2397\n",
      "Epoch 60/100\n",
      "27/27 [==============================] - 0s 2ms/step - loss: 0.2384\n",
      "Epoch 61/100\n",
      "27/27 [==============================] - 0s 2ms/step - loss: 0.2381\n",
      "Epoch 62/100\n",
      "27/27 [==============================] - 0s 2ms/step - loss: 0.2379\n",
      "Epoch 63/100\n",
      "27/27 [==============================] - 0s 2ms/step - loss: 0.2366\n",
      "Epoch 64/100\n",
      "27/27 [==============================] - 0s 3ms/step - loss: 0.2353\n",
      "Epoch 65/100\n",
      "27/27 [==============================] - 0s 3ms/step - loss: 0.2344\n",
      "Epoch 66/100\n",
      "27/27 [==============================] - 0s 3ms/step - loss: 0.2342\n",
      "Epoch 67/100\n",
      "27/27 [==============================] - 0s 3ms/step - loss: 0.2325\n",
      "Epoch 68/100\n",
      "27/27 [==============================] - 0s 2ms/step - loss: 0.2316\n",
      "Epoch 69/100\n",
      "27/27 [==============================] - 0s 2ms/step - loss: 0.2300\n",
      "Epoch 70/100\n",
      "27/27 [==============================] - 0s 2ms/step - loss: 0.2286\n",
      "Epoch 71/100\n",
      "27/27 [==============================] - 0s 2ms/step - loss: 0.2280\n",
      "Epoch 72/100\n",
      "27/27 [==============================] - 0s 2ms/step - loss: 0.2273\n",
      "Epoch 73/100\n",
      "27/27 [==============================] - 0s 2ms/step - loss: 0.2263\n",
      "Epoch 74/100\n",
      "27/27 [==============================] - 0s 3ms/step - loss: 0.2263\n",
      "Epoch 75/100\n",
      "27/27 [==============================] - 0s 3ms/step - loss: 0.2246\n",
      "Epoch 76/100\n",
      "27/27 [==============================] - 0s 2ms/step - loss: 0.2238\n",
      "Epoch 77/100\n",
      "27/27 [==============================] - 0s 2ms/step - loss: 0.2229\n",
      "Epoch 78/100\n",
      "27/27 [==============================] - 0s 2ms/step - loss: 0.2223\n",
      "Epoch 79/100\n",
      "27/27 [==============================] - 0s 2ms/step - loss: 0.2211\n",
      "Epoch 80/100\n",
      "27/27 [==============================] - 0s 2ms/step - loss: 0.2213\n",
      "Epoch 81/100\n",
      "27/27 [==============================] - 0s 3ms/step - loss: 0.2201\n",
      "Epoch 82/100\n",
      "27/27 [==============================] - 0s 2ms/step - loss: 0.2187\n",
      "Epoch 83/100\n",
      "27/27 [==============================] - 0s 3ms/step - loss: 0.2180\n",
      "Epoch 84/100\n",
      "27/27 [==============================] - 0s 2ms/step - loss: 0.2175\n",
      "Epoch 85/100\n",
      "27/27 [==============================] - 0s 2ms/step - loss: 0.2163\n",
      "Epoch 86/100\n",
      "27/27 [==============================] - 0s 2ms/step - loss: 0.2160\n",
      "Epoch 87/100\n",
      "27/27 [==============================] - 0s 2ms/step - loss: 0.2154\n",
      "Epoch 88/100\n",
      "27/27 [==============================] - 0s 2ms/step - loss: 0.2137\n",
      "Epoch 89/100\n",
      "27/27 [==============================] - 0s 2ms/step - loss: 0.2130\n",
      "Epoch 90/100\n",
      "27/27 [==============================] - 0s 2ms/step - loss: 0.2131\n",
      "Epoch 91/100\n",
      "27/27 [==============================] - 0s 2ms/step - loss: 0.2126\n",
      "Epoch 92/100\n",
      "27/27 [==============================] - 0s 2ms/step - loss: 0.2113\n",
      "Epoch 93/100\n",
      "27/27 [==============================] - 0s 2ms/step - loss: 0.2103\n",
      "Epoch 94/100\n",
      "27/27 [==============================] - 0s 2ms/step - loss: 0.2091\n",
      "Epoch 95/100\n",
      "27/27 [==============================] - 0s 2ms/step - loss: 0.2086\n",
      "Epoch 96/100\n",
      "27/27 [==============================] - 0s 2ms/step - loss: 0.2074\n",
      "Epoch 97/100\n",
      "27/27 [==============================] - 0s 2ms/step - loss: 0.2071\n",
      "Epoch 98/100\n",
      "27/27 [==============================] - 0s 3ms/step - loss: 0.2059\n",
      "Epoch 99/100\n",
      "27/27 [==============================] - 0s 3ms/step - loss: 0.2070\n",
      "Epoch 100/100\n",
      "27/27 [==============================] - 0s 2ms/step - loss: 0.2057\n"
     ]
    }
   ],
   "source": [
    "# m1\n",
    "model1.fit(x_train_s, y_train, epochs = 100)\n",
    "val_pred_dl1 = model1.predict(x_val)\n",
    "val_pred_dl1 = np.where(val_pred_dl1 >= .5, 1, 0)\n",
    "result_report['model1']=classification_report(y_test, val_pred_dl1)"
   ]
  },
  {
   "cell_type": "code",
   "execution_count": 141,
   "metadata": {
    "collapsed": true
   },
   "outputs": [
    {
     "name": "stdout",
     "output_type": "stream",
     "text": [
      "Epoch 1/100\n",
      "27/27 [==============================] - 0s 2ms/step - loss: 0.4044\n",
      "Epoch 2/100\n",
      "27/27 [==============================] - 0s 2ms/step - loss: 1.0942\n",
      "Epoch 3/100\n",
      "27/27 [==============================] - 0s 1ms/step - loss: 0.7249\n",
      "Epoch 4/100\n",
      "27/27 [==============================] - 0s 2ms/step - loss: 1.0348\n",
      "Epoch 5/100\n",
      "27/27 [==============================] - 0s 2ms/step - loss: 1.0319\n",
      "Epoch 6/100\n",
      "27/27 [==============================] - 0s 2ms/step - loss: 0.7214\n",
      "Epoch 7/100\n",
      "27/27 [==============================] - 0s 2ms/step - loss: 1.1562\n",
      "Epoch 8/100\n",
      "27/27 [==============================] - 0s 2ms/step - loss: 0.7289\n",
      "Epoch 9/100\n",
      "27/27 [==============================] - 0s 2ms/step - loss: 0.6219\n",
      "Epoch 10/100\n",
      "27/27 [==============================] - 0s 2ms/step - loss: 0.7019\n",
      "Epoch 11/100\n",
      "27/27 [==============================] - 0s 2ms/step - loss: 0.4314\n",
      "Epoch 12/100\n",
      "27/27 [==============================] - 0s 2ms/step - loss: 0.5704\n",
      "Epoch 13/100\n",
      "27/27 [==============================] - 0s 2ms/step - loss: 1.9683\n",
      "Epoch 14/100\n",
      "27/27 [==============================] - 0s 1ms/step - loss: 2.6701\n",
      "Epoch 15/100\n",
      "27/27 [==============================] - 0s 2ms/step - loss: 4.2526\n",
      "Epoch 16/100\n",
      "27/27 [==============================] - 0s 1ms/step - loss: 1.2512\n",
      "Epoch 17/100\n",
      "27/27 [==============================] - 0s 2ms/step - loss: 2.0392\n",
      "Epoch 18/100\n",
      "27/27 [==============================] - 0s 2ms/step - loss: 2.1649\n",
      "Epoch 19/100\n",
      "27/27 [==============================] - 0s 2ms/step - loss: 2.2758\n",
      "Epoch 20/100\n",
      "27/27 [==============================] - 0s 2ms/step - loss: 1.5851\n",
      "Epoch 21/100\n",
      "27/27 [==============================] - 0s 2ms/step - loss: 1.1854\n",
      "Epoch 22/100\n",
      "27/27 [==============================] - 0s 2ms/step - loss: 0.7773\n",
      "Epoch 23/100\n",
      "27/27 [==============================] - 0s 2ms/step - loss: 0.5368\n",
      "Epoch 24/100\n",
      "27/27 [==============================] - 0s 2ms/step - loss: 1.1060\n",
      "Epoch 25/100\n",
      "27/27 [==============================] - 0s 2ms/step - loss: 1.3189\n",
      "Epoch 26/100\n",
      "27/27 [==============================] - 0s 2ms/step - loss: 1.6101\n",
      "Epoch 27/100\n",
      "27/27 [==============================] - 0s 2ms/step - loss: 0.8376\n",
      "Epoch 28/100\n",
      "27/27 [==============================] - 0s 2ms/step - loss: 0.4669\n",
      "Epoch 29/100\n",
      "27/27 [==============================] - 0s 2ms/step - loss: 0.5022\n",
      "Epoch 30/100\n",
      "27/27 [==============================] - 0s 2ms/step - loss: 1.2727\n",
      "Epoch 31/100\n",
      "27/27 [==============================] - 0s 2ms/step - loss: 0.6653\n",
      "Epoch 32/100\n",
      "27/27 [==============================] - 0s 2ms/step - loss: 0.8757\n",
      "Epoch 33/100\n",
      "27/27 [==============================] - 0s 3ms/step - loss: 0.4603\n",
      "Epoch 34/100\n",
      "27/27 [==============================] - 0s 2ms/step - loss: 0.5658\n",
      "Epoch 35/100\n",
      "27/27 [==============================] - 0s 2ms/step - loss: 1.1388\n",
      "Epoch 36/100\n",
      "27/27 [==============================] - 0s 1ms/step - loss: 0.5020\n",
      "Epoch 37/100\n",
      "27/27 [==============================] - 0s 2ms/step - loss: 0.4479\n",
      "Epoch 38/100\n",
      "27/27 [==============================] - 0s 2ms/step - loss: 0.9853\n",
      "Epoch 39/100\n",
      "27/27 [==============================] - 0s 1ms/step - loss: 1.4824\n",
      "Epoch 40/100\n",
      "27/27 [==============================] - 0s 2ms/step - loss: 1.2589\n",
      "Epoch 41/100\n",
      "27/27 [==============================] - 0s 2ms/step - loss: 0.5975\n",
      "Epoch 42/100\n",
      "27/27 [==============================] - 0s 2ms/step - loss: 1.0044\n",
      "Epoch 43/100\n",
      "27/27 [==============================] - 0s 2ms/step - loss: 2.7515\n",
      "Epoch 44/100\n",
      "27/27 [==============================] - 0s 2ms/step - loss: 0.9196\n",
      "Epoch 45/100\n",
      "27/27 [==============================] - 0s 2ms/step - loss: 2.5196\n",
      "Epoch 46/100\n",
      "27/27 [==============================] - 0s 2ms/step - loss: 1.8706\n",
      "Epoch 47/100\n",
      "27/27 [==============================] - 0s 2ms/step - loss: 1.5979\n",
      "Epoch 48/100\n",
      "27/27 [==============================] - 0s 2ms/step - loss: 0.8779\n",
      "Epoch 49/100\n",
      "27/27 [==============================] - 0s 2ms/step - loss: 0.5573\n",
      "Epoch 50/100\n",
      "27/27 [==============================] - 0s 2ms/step - loss: 1.0260\n",
      "Epoch 51/100\n",
      "27/27 [==============================] - 0s 2ms/step - loss: 0.6135\n",
      "Epoch 52/100\n",
      "27/27 [==============================] - 0s 2ms/step - loss: 0.8946\n",
      "Epoch 53/100\n",
      "27/27 [==============================] - 0s 2ms/step - loss: 1.3376\n",
      "Epoch 54/100\n",
      "27/27 [==============================] - 0s 2ms/step - loss: 1.2075\n",
      "Epoch 55/100\n",
      "27/27 [==============================] - 0s 2ms/step - loss: 0.7961\n",
      "Epoch 56/100\n",
      "27/27 [==============================] - 0s 2ms/step - loss: 0.7128\n",
      "Epoch 57/100\n",
      "27/27 [==============================] - 0s 2ms/step - loss: 0.7315\n",
      "Epoch 58/100\n",
      "27/27 [==============================] - 0s 2ms/step - loss: 0.9620\n",
      "Epoch 59/100\n",
      "27/27 [==============================] - 0s 2ms/step - loss: 0.9428\n",
      "Epoch 60/100\n",
      "27/27 [==============================] - 0s 2ms/step - loss: 1.8465\n",
      "Epoch 61/100\n",
      "27/27 [==============================] - 0s 2ms/step - loss: 1.2149\n",
      "Epoch 62/100\n",
      "27/27 [==============================] - 0s 1ms/step - loss: 0.5697\n",
      "Epoch 63/100\n",
      "27/27 [==============================] - 0s 1ms/step - loss: 0.5583\n",
      "Epoch 64/100\n",
      "27/27 [==============================] - 0s 1ms/step - loss: 0.8209\n",
      "Epoch 65/100\n",
      "27/27 [==============================] - 0s 2ms/step - loss: 0.9710\n",
      "Epoch 66/100\n",
      "27/27 [==============================] - 0s 2ms/step - loss: 0.7859\n",
      "Epoch 67/100\n",
      "27/27 [==============================] - 0s 2ms/step - loss: 2.3512\n",
      "Epoch 68/100\n",
      "27/27 [==============================] - 0s 2ms/step - loss: 2.1059\n",
      "Epoch 69/100\n",
      "27/27 [==============================] - 0s 2ms/step - loss: 1.5793\n",
      "Epoch 70/100\n",
      "27/27 [==============================] - 0s 2ms/step - loss: 0.8768\n",
      "Epoch 71/100\n",
      "27/27 [==============================] - 0s 2ms/step - loss: 1.2322\n",
      "Epoch 72/100\n",
      "27/27 [==============================] - 0s 2ms/step - loss: 1.2967\n",
      "Epoch 73/100\n",
      "27/27 [==============================] - 0s 2ms/step - loss: 0.8476\n",
      "Epoch 74/100\n",
      "27/27 [==============================] - 0s 2ms/step - loss: 1.2329\n",
      "Epoch 75/100\n",
      "27/27 [==============================] - 0s 2ms/step - loss: 1.0700\n",
      "Epoch 76/100\n",
      "27/27 [==============================] - 0s 2ms/step - loss: 1.1767\n",
      "Epoch 77/100\n",
      "27/27 [==============================] - 0s 2ms/step - loss: 0.6426\n",
      "Epoch 78/100\n",
      "27/27 [==============================] - 0s 2ms/step - loss: 0.7167\n",
      "Epoch 79/100\n",
      "27/27 [==============================] - 0s 2ms/step - loss: 0.6828\n",
      "Epoch 80/100\n",
      "27/27 [==============================] - 0s 2ms/step - loss: 1.0057\n",
      "Epoch 81/100\n",
      "27/27 [==============================] - 0s 2ms/step - loss: 3.8694\n",
      "Epoch 82/100\n",
      "27/27 [==============================] - 0s 2ms/step - loss: 1.1685\n",
      "Epoch 83/100\n",
      "27/27 [==============================] - 0s 2ms/step - loss: 0.7267\n",
      "Epoch 84/100\n",
      "27/27 [==============================] - 0s 1ms/step - loss: 0.7125\n",
      "Epoch 85/100\n",
      "27/27 [==============================] - 0s 2ms/step - loss: 1.0204\n",
      "Epoch 86/100\n",
      "27/27 [==============================] - 0s 1ms/step - loss: 1.3919\n",
      "Epoch 87/100\n",
      "27/27 [==============================] - 0s 2ms/step - loss: 0.6045\n",
      "Epoch 88/100\n",
      "27/27 [==============================] - 0s 2ms/step - loss: 0.4431\n",
      "Epoch 89/100\n",
      "27/27 [==============================] - 0s 2ms/step - loss: 0.6127\n",
      "Epoch 90/100\n",
      "27/27 [==============================] - 0s 2ms/step - loss: 0.7900\n",
      "Epoch 91/100\n",
      "27/27 [==============================] - 0s 2ms/step - loss: 0.4406\n",
      "Epoch 92/100\n",
      "27/27 [==============================] - 0s 2ms/step - loss: 0.5046\n",
      "Epoch 93/100\n",
      "27/27 [==============================] - 0s 2ms/step - loss: 1.1966\n",
      "Epoch 94/100\n",
      "27/27 [==============================] - 0s 2ms/step - loss: 1.6699\n",
      "Epoch 95/100\n",
      "27/27 [==============================] - 0s 2ms/step - loss: 0.4898\n",
      "Epoch 96/100\n",
      "27/27 [==============================] - 0s 1ms/step - loss: 0.4411\n",
      "Epoch 97/100\n",
      "27/27 [==============================] - 0s 1ms/step - loss: 0.7469\n",
      "Epoch 98/100\n",
      "27/27 [==============================] - 0s 1ms/step - loss: 0.7057\n",
      "Epoch 99/100\n",
      "27/27 [==============================] - 0s 1ms/step - loss: 1.3889\n",
      "Epoch 100/100\n",
      "27/27 [==============================] - 0s 2ms/step - loss: 0.7805\n"
     ]
    }
   ],
   "source": [
    "# m2\n",
    "model2.fit(x_train, y_train, epochs = 100)\n",
    "val_pred_dl2 = model2.predict(x_val)\n",
    "val_pred_dl2 = np.where(val_pred_dl2 >= .5, 1, 0)\n",
    "result_report['model2']=classification_report(y_test, val_pred_dl2)"
   ]
  },
  {
   "cell_type": "code",
   "execution_count": 142,
   "metadata": {
    "collapsed": true
   },
   "outputs": [
    {
     "name": "stdout",
     "output_type": "stream",
     "text": [
      "Epoch 1/100\n",
      "27/27 [==============================] - 0s 2ms/step - loss: 0.4449\n",
      "Epoch 2/100\n",
      "27/27 [==============================] - 0s 2ms/step - loss: 0.7234\n",
      "Epoch 3/100\n",
      "27/27 [==============================] - 0s 3ms/step - loss: 1.7842\n",
      "Epoch 4/100\n",
      "27/27 [==============================] - 0s 2ms/step - loss: 0.5257\n",
      "Epoch 5/100\n",
      "27/27 [==============================] - 0s 2ms/step - loss: 0.5987\n",
      "Epoch 6/100\n",
      "27/27 [==============================] - 0s 2ms/step - loss: 0.4936\n",
      "Epoch 7/100\n",
      "27/27 [==============================] - 0s 2ms/step - loss: 1.9584\n",
      "Epoch 8/100\n",
      "27/27 [==============================] - 0s 2ms/step - loss: 1.8266\n",
      "Epoch 9/100\n",
      "27/27 [==============================] - 0s 2ms/step - loss: 0.9589\n",
      "Epoch 10/100\n",
      "27/27 [==============================] - 0s 2ms/step - loss: 0.6569\n",
      "Epoch 11/100\n",
      "27/27 [==============================] - 0s 2ms/step - loss: 0.5949\n",
      "Epoch 12/100\n",
      "27/27 [==============================] - 0s 2ms/step - loss: 0.9197\n",
      "Epoch 13/100\n",
      "27/27 [==============================] - 0s 2ms/step - loss: 0.4638\n",
      "Epoch 14/100\n",
      "27/27 [==============================] - 0s 2ms/step - loss: 0.4320\n",
      "Epoch 15/100\n",
      "27/27 [==============================] - 0s 2ms/step - loss: 0.7448\n",
      "Epoch 16/100\n",
      "27/27 [==============================] - 0s 2ms/step - loss: 0.4970\n",
      "Epoch 17/100\n",
      "27/27 [==============================] - 0s 3ms/step - loss: 0.4622\n",
      "Epoch 18/100\n",
      "27/27 [==============================] - 0s 2ms/step - loss: 0.7022\n",
      "Epoch 19/100\n",
      "27/27 [==============================] - 0s 2ms/step - loss: 0.5967\n",
      "Epoch 20/100\n",
      "27/27 [==============================] - 0s 2ms/step - loss: 0.4018\n",
      "Epoch 21/100\n",
      "27/27 [==============================] - 0s 2ms/step - loss: 0.5678\n",
      "Epoch 22/100\n",
      "27/27 [==============================] - 0s 2ms/step - loss: 0.5391\n",
      "Epoch 23/100\n",
      "27/27 [==============================] - 0s 2ms/step - loss: 0.6402\n",
      "Epoch 24/100\n",
      "27/27 [==============================] - 0s 2ms/step - loss: 0.6731\n",
      "Epoch 25/100\n",
      "27/27 [==============================] - 0s 2ms/step - loss: 0.6980\n",
      "Epoch 26/100\n",
      "27/27 [==============================] - 0s 2ms/step - loss: 0.6034\n",
      "Epoch 27/100\n",
      "27/27 [==============================] - 0s 2ms/step - loss: 0.4121\n",
      "Epoch 28/100\n",
      "27/27 [==============================] - 0s 2ms/step - loss: 0.3818\n",
      "Epoch 29/100\n",
      "27/27 [==============================] - 0s 2ms/step - loss: 0.4864\n",
      "Epoch 30/100\n",
      "27/27 [==============================] - 0s 2ms/step - loss: 0.8190\n",
      "Epoch 31/100\n",
      "27/27 [==============================] - 0s 2ms/step - loss: 0.4822\n",
      "Epoch 32/100\n",
      "27/27 [==============================] - 0s 2ms/step - loss: 0.3811\n",
      "Epoch 33/100\n",
      "27/27 [==============================] - 0s 2ms/step - loss: 0.5549\n",
      "Epoch 34/100\n",
      "27/27 [==============================] - 0s 2ms/step - loss: 0.7762\n",
      "Epoch 35/100\n",
      "27/27 [==============================] - 0s 2ms/step - loss: 0.8307\n",
      "Epoch 36/100\n",
      "27/27 [==============================] - 0s 2ms/step - loss: 0.3954\n",
      "Epoch 37/100\n",
      "27/27 [==============================] - 0s 2ms/step - loss: 0.5718\n",
      "Epoch 38/100\n",
      "27/27 [==============================] - 0s 2ms/step - loss: 0.4090\n",
      "Epoch 39/100\n",
      "27/27 [==============================] - 0s 2ms/step - loss: 0.5929\n",
      "Epoch 40/100\n",
      "27/27 [==============================] - 0s 2ms/step - loss: 0.4216\n",
      "Epoch 41/100\n",
      "27/27 [==============================] - 0s 2ms/step - loss: 0.5732\n",
      "Epoch 42/100\n",
      "27/27 [==============================] - 0s 1ms/step - loss: 0.9338\n",
      "Epoch 43/100\n",
      "27/27 [==============================] - 0s 2ms/step - loss: 0.5246\n",
      "Epoch 44/100\n",
      "27/27 [==============================] - 0s 2ms/step - loss: 0.5684\n",
      "Epoch 45/100\n",
      "27/27 [==============================] - 0s 2ms/step - loss: 0.4311\n",
      "Epoch 46/100\n",
      "27/27 [==============================] - 0s 2ms/step - loss: 0.7996\n",
      "Epoch 47/100\n",
      "27/27 [==============================] - 0s 2ms/step - loss: 0.4774\n",
      "Epoch 48/100\n",
      "27/27 [==============================] - 0s 2ms/step - loss: 0.5822\n",
      "Epoch 49/100\n",
      "27/27 [==============================] - 0s 2ms/step - loss: 0.5265\n",
      "Epoch 50/100\n",
      "27/27 [==============================] - 0s 2ms/step - loss: 0.6725\n",
      "Epoch 51/100\n",
      "27/27 [==============================] - 0s 2ms/step - loss: 0.6702\n",
      "Epoch 52/100\n",
      "27/27 [==============================] - 0s 2ms/step - loss: 0.6223\n",
      "Epoch 53/100\n",
      "27/27 [==============================] - 0s 2ms/step - loss: 0.5055\n",
      "Epoch 54/100\n",
      "27/27 [==============================] - 0s 2ms/step - loss: 0.4334\n",
      "Epoch 55/100\n",
      "27/27 [==============================] - 0s 2ms/step - loss: 0.3615\n",
      "Epoch 56/100\n",
      "27/27 [==============================] - 0s 2ms/step - loss: 0.4524\n",
      "Epoch 57/100\n",
      "27/27 [==============================] - 0s 1ms/step - loss: 0.3629\n",
      "Epoch 58/100\n",
      "27/27 [==============================] - 0s 2ms/step - loss: 0.4144\n",
      "Epoch 59/100\n",
      "27/27 [==============================] - 0s 2ms/step - loss: 0.5377\n",
      "Epoch 60/100\n",
      "27/27 [==============================] - 0s 1ms/step - loss: 0.6472\n",
      "Epoch 61/100\n",
      "27/27 [==============================] - 0s 2ms/step - loss: 0.4986\n",
      "Epoch 62/100\n",
      "27/27 [==============================] - 0s 2ms/step - loss: 0.5631\n",
      "Epoch 63/100\n",
      "27/27 [==============================] - 0s 2ms/step - loss: 0.4781\n",
      "Epoch 64/100\n",
      "27/27 [==============================] - 0s 2ms/step - loss: 1.1899\n",
      "Epoch 65/100\n",
      "27/27 [==============================] - 0s 2ms/step - loss: 0.6102\n",
      "Epoch 66/100\n",
      "27/27 [==============================] - 0s 2ms/step - loss: 0.3676\n",
      "Epoch 67/100\n",
      "27/27 [==============================] - 0s 2ms/step - loss: 0.4284\n",
      "Epoch 68/100\n",
      "27/27 [==============================] - 0s 1ms/step - loss: 0.4091\n",
      "Epoch 69/100\n",
      "27/27 [==============================] - 0s 2ms/step - loss: 0.4882\n",
      "Epoch 70/100\n",
      "27/27 [==============================] - 0s 2ms/step - loss: 0.4247\n",
      "Epoch 71/100\n",
      "27/27 [==============================] - 0s 2ms/step - loss: 0.4592\n",
      "Epoch 72/100\n",
      "27/27 [==============================] - 0s 2ms/step - loss: 0.4984\n",
      "Epoch 73/100\n",
      "27/27 [==============================] - 0s 2ms/step - loss: 0.3855\n",
      "Epoch 74/100\n",
      "27/27 [==============================] - 0s 1ms/step - loss: 0.3676\n",
      "Epoch 75/100\n",
      "27/27 [==============================] - 0s 2ms/step - loss: 0.3475\n",
      "Epoch 76/100\n",
      "27/27 [==============================] - 0s 2ms/step - loss: 0.4376\n",
      "Epoch 77/100\n",
      "27/27 [==============================] - 0s 2ms/step - loss: 0.8467\n",
      "Epoch 78/100\n",
      "27/27 [==============================] - 0s 1ms/step - loss: 0.4868\n",
      "Epoch 79/100\n",
      "27/27 [==============================] - 0s 2ms/step - loss: 0.4168\n",
      "Epoch 80/100\n",
      "27/27 [==============================] - 0s 2ms/step - loss: 0.4509\n",
      "Epoch 81/100\n",
      "27/27 [==============================] - 0s 1ms/step - loss: 0.4477\n",
      "Epoch 82/100\n",
      "27/27 [==============================] - 0s 2ms/step - loss: 0.3642\n",
      "Epoch 83/100\n",
      "27/27 [==============================] - 0s 2ms/step - loss: 0.3675\n",
      "Epoch 84/100\n",
      "27/27 [==============================] - 0s 2ms/step - loss: 0.6691\n",
      "Epoch 85/100\n",
      "27/27 [==============================] - 0s 2ms/step - loss: 0.5813\n",
      "Epoch 86/100\n",
      "27/27 [==============================] - 0s 2ms/step - loss: 0.8870\n",
      "Epoch 87/100\n",
      "27/27 [==============================] - 0s 2ms/step - loss: 0.9717\n",
      "Epoch 88/100\n",
      "27/27 [==============================] - 0s 2ms/step - loss: 0.7690\n",
      "Epoch 89/100\n",
      "27/27 [==============================] - 0s 2ms/step - loss: 0.4338\n",
      "Epoch 90/100\n",
      "27/27 [==============================] - 0s 1ms/step - loss: 0.5024\n",
      "Epoch 91/100\n",
      "27/27 [==============================] - 0s 2ms/step - loss: 0.5339\n",
      "Epoch 92/100\n",
      "27/27 [==============================] - 0s 1ms/step - loss: 0.3762\n",
      "Epoch 93/100\n",
      "27/27 [==============================] - 0s 2ms/step - loss: 0.5497\n",
      "Epoch 94/100\n",
      "27/27 [==============================] - 0s 2ms/step - loss: 0.5521\n",
      "Epoch 95/100\n",
      "27/27 [==============================] - 0s 2ms/step - loss: 0.4238\n",
      "Epoch 96/100\n",
      "27/27 [==============================] - 0s 2ms/step - loss: 0.6472\n",
      "Epoch 97/100\n",
      "27/27 [==============================] - 0s 2ms/step - loss: 0.5721\n",
      "Epoch 98/100\n",
      "27/27 [==============================] - 0s 1ms/step - loss: 0.4285\n",
      "Epoch 99/100\n",
      "27/27 [==============================] - 0s 2ms/step - loss: 0.3831\n",
      "Epoch 100/100\n",
      "27/27 [==============================] - 0s 2ms/step - loss: 0.3797\n"
     ]
    }
   ],
   "source": [
    "# m3\n",
    "model3.fit(x_train, y_train, epochs = 100)\n",
    "val_pred_dl3 = model3.predict(x_val)\n",
    "val_pred_dl3 = np.where(val_pred_dl3 >= .5, 1, 0)\n",
    "result_report['model3']=classification_report(y_test, val_pred_dl3)"
   ]
  },
  {
   "cell_type": "markdown",
   "metadata": {},
   "source": [
    "## 5.성능 비교"
   ]
  },
  {
   "cell_type": "markdown",
   "metadata": {},
   "source": [
    "### 5.1 평가지표 결정"
   ]
  },
  {
   "cell_type": "markdown",
   "metadata": {},
   "source": [
    "- Precision(정밀도)은 모델이 True라고 분류한 것 중에서 실제 True인 것의 비율이다.\n",
    "- Recall(재현율)은 실제 True인 것 중에서 모델이 True라고 예측한 것의 비율입니다. \n",
    "- Precision은 모델의 입장에서, Recall은 실제 정답(data)의 입장에서 정답을 정답이라고 맞춘 경우를 바라봄\n",
    "- F1 score는 Precision과 Recall의 조화평균입니다. 정밀도와 재현율이 비슷할 수록 F1 score도 높아진다.\n",
    "    F1 score는 데이터 label이 불균형 구조일 때, 모델의 성능을 정확하게 평가할 수 있고, 성능을 하나의 숫자로 표현할 수 있다.\n",
    "\n",
    "이직할 것이라 예상한 사람들 중에 실제 이직한 사람들의 비율이기 때문에 정밀도(Precision)를 활용하여 사전에 이직할 직원을 찾는 목표로 둔다.\n",
    "\n",
    "#### 그래서 Precision로 성능을 평가하는 지표로 삼았다."
   ]
  },
  {
   "cell_type": "markdown",
   "metadata": {},
   "source": [
    "Precision로 성능을 비교 했을 때 Random Forest가 0.89로 가장 높게 측정 되었음.\n",
    "\n",
    "따라서, **Random Forest**를 대표 모델로 지정하도록 한다."
   ]
  },
  {
   "cell_type": "markdown",
   "metadata": {},
   "source": [
    "### 5.2 성능 비교"
   ]
  },
  {
   "cell_type": "code",
   "execution_count": 145,
   "metadata": {},
   "outputs": [
    {
     "name": "stdout",
     "output_type": "stream",
     "text": [
      "< classification_report >\n",
      "========================================\n",
      "Logistic Regression\n",
      "              precision    recall  f1-score   support\n",
      "\n",
      "           0       0.92      0.99      0.95       176\n",
      "           1       0.82      0.38      0.51        24\n",
      "\n",
      "    accuracy                           0.92       200\n",
      "   macro avg       0.87      0.68      0.73       200\n",
      "weighted avg       0.91      0.92      0.90       200\n",
      "\n",
      "========================================\n",
      "Decision Tree\n",
      "              precision    recall  f1-score   support\n",
      "\n",
      "           0       0.90      0.98      0.93       169\n",
      "           1       0.75      0.39      0.51        31\n",
      "\n",
      "    accuracy                           0.89       200\n",
      "   macro avg       0.82      0.68      0.72       200\n",
      "weighted avg       0.87      0.89      0.87       200\n",
      "\n",
      "========================================\n",
      "KNN\n",
      "              precision    recall  f1-score   support\n",
      "\n",
      "           0       0.84      0.96      0.90       169\n",
      "           1       0.12      0.03      0.05        31\n",
      "\n",
      "    accuracy                           0.81       200\n",
      "   macro avg       0.48      0.50      0.47       200\n",
      "weighted avg       0.73      0.81      0.77       200\n",
      "\n",
      "========================================\n",
      "SVM\n",
      "              precision    recall  f1-score   support\n",
      "\n",
      "           0       0.84      1.00      0.92       169\n",
      "           1       0.00      0.00      0.00        31\n",
      "\n",
      "    accuracy                           0.84       200\n",
      "   macro avg       0.42      0.50      0.46       200\n",
      "weighted avg       0.71      0.84      0.77       200\n",
      "\n",
      "========================================\n",
      "Random Forest\n",
      "              precision    recall  f1-score   support\n",
      "\n",
      "           0       0.88      0.99      0.93       169\n",
      "           1       0.89      0.26      0.40        31\n",
      "\n",
      "    accuracy                           0.88       200\n",
      "   macro avg       0.88      0.63      0.67       200\n",
      "weighted avg       0.88      0.88      0.85       200\n",
      "\n",
      "========================================\n",
      "XGB\n",
      "              precision    recall  f1-score   support\n",
      "\n",
      "           0       0.86      0.96      0.91       169\n",
      "           1       0.36      0.13      0.19        31\n",
      "\n",
      "    accuracy                           0.83       200\n",
      "   macro avg       0.61      0.54      0.55       200\n",
      "weighted avg       0.78      0.83      0.79       200\n",
      "\n",
      "========================================\n",
      "model1\n",
      "              precision    recall  f1-score   support\n",
      "\n",
      "           0       0.84      1.00      0.92       169\n",
      "           1       0.00      0.00      0.00        31\n",
      "\n",
      "    accuracy                           0.84       200\n",
      "   macro avg       0.42      0.50      0.46       200\n",
      "weighted avg       0.71      0.84      0.77       200\n",
      "\n",
      "========================================\n",
      "model2\n",
      "              precision    recall  f1-score   support\n",
      "\n",
      "           0       0.85      0.98      0.91       169\n",
      "           1       0.40      0.06      0.11        31\n",
      "\n",
      "    accuracy                           0.84       200\n",
      "   macro avg       0.63      0.52      0.51       200\n",
      "weighted avg       0.78      0.84      0.79       200\n",
      "\n",
      "========================================\n",
      "model3\n",
      "              precision    recall  f1-score   support\n",
      "\n",
      "           0       0.86      0.98      0.91       169\n",
      "           1       0.50      0.10      0.16        31\n",
      "\n",
      "    accuracy                           0.84       200\n",
      "   macro avg       0.68      0.54      0.54       200\n",
      "weighted avg       0.80      0.84      0.80       200\n",
      "\n"
     ]
    }
   ],
   "source": [
    "print(\"< classification_report >\")\n",
    "\n",
    "for m_name, score in result_report.items():\n",
    "    print('=' * 40)\n",
    "    print(m_name)\n",
    "    print(score)"
   ]
  },
  {
   "cell_type": "markdown",
   "metadata": {},
   "source": [
    "------"
   ]
  },
  {
   "cell_type": "markdown",
   "metadata": {},
   "source": [
    "### 추가분석"
   ]
  },
  {
   "cell_type": "code",
   "execution_count": 73,
   "metadata": {},
   "outputs": [],
   "source": [
    "df=data.copy()"
   ]
  },
  {
   "cell_type": "code",
   "execution_count": 79,
   "metadata": {},
   "outputs": [
    {
     "data": {
      "text/plain": [
       "Index(['Attrition', 'Age', 'BusinessTravel', 'Department', 'DistanceFromHome',\n",
       "       'Education', 'EducationField', 'EmployeeNumber',\n",
       "       'EnvironmentSatisfaction', 'Gender', 'JobInvolvement', 'JobRole',\n",
       "       'JobSatisfaction', 'MaritalStatus', 'MonthlyIncome',\n",
       "       'NumCompaniesWorked', 'OverTime', 'PercentSalaryHike',\n",
       "       'RelationshipSatisfaction', 'StockOptionLevel', 'TotalWorkingYears',\n",
       "       'TrainingTimesLastYear', 'WorkLifeBalance', 'YearsAtCompany',\n",
       "       'YearsInCurrentRole', 'YearsWithCurrManager'],\n",
       "      dtype='object')"
      ]
     },
     "execution_count": 79,
     "metadata": {},
     "output_type": "execute_result"
    }
   ],
   "source": [
    "df.columns"
   ]
  },
  {
   "cell_type": "code",
   "execution_count": 81,
   "metadata": {},
   "outputs": [
    {
     "data": {
      "text/plain": [
       "TotalWorkingYears  Department            \n",
       "0                  Research & Development    0.333333\n",
       "                   Sales                     0.750000\n",
       "1                  Human Resources           1.000000\n",
       "                   Research & Development    0.460000\n",
       "                   Sales                     0.611111\n",
       "                                               ...   \n",
       "36                 Sales                     0.000000\n",
       "37                 Research & Development    0.000000\n",
       "                   Sales                     0.000000\n",
       "38                 Sales                     0.000000\n",
       "40                 Research & Development    1.000000\n",
       "Name: Attrition, Length: 104, dtype: float64"
      ]
     },
     "execution_count": 81,
     "metadata": {},
     "output_type": "execute_result"
    }
   ],
   "source": [
    "df.groupby(['TotalWorkingYears','Department'])[target].mean()"
   ]
  },
  {
   "cell_type": "markdown",
   "metadata": {},
   "source": [
    "> 0~1년차 직원 중 Sales와 Human Resources 부서의 이직율이 높은 경향을 보임\n",
    "특히, Sales부서가 높다."
   ]
  },
  {
   "cell_type": "code",
   "execution_count": 86,
   "metadata": {},
   "outputs": [
    {
     "data": {
      "image/png": "[encoded data removed]",
      "text/plain": [
       "<Figure size 432x288 with 1 Axes>"
      ]
     },
     "metadata": {
      "needs_background": "light"
     },
     "output_type": "display_data"
    }
   ],
   "source": [
    "sns.countplot(data = df, x='Department', hue=target)\n",
    "plt.show()"
   ]
  },
  {
   "cell_type": "markdown",
   "metadata": {},
   "source": [
    "> 각 부서 전체 비율 대 이직수를 비교했을때 Sales부서의 이직율이 더 높다"
   ]
  },
  {
   "cell_type": "code",
   "execution_count": 87,
   "metadata": {},
   "outputs": [
    {
     "data": {
      "text/html": [
       "<div>\n",
       "<style scoped>\n",
       "    .dataframe tbody tr th:only-of-type {\n",
       "        vertical-align: middle;\n",
       "    }\n",
       "\n",
       "    .dataframe tbody tr th {\n",
       "        vertical-align: top;\n",
       "    }\n",
       "\n",
       "    .dataframe thead th {\n",
       "        text-align: right;\n",
       "    }\n",
       "</style>\n",
       "<table border=\"1\" class=\"dataframe\">\n",
       "  <thead>\n",
       "    <tr style=\"text-align: right;\">\n",
       "      <th></th>\n",
       "      <th>Attrition</th>\n",
       "      <th>Age</th>\n",
       "      <th>BusinessTravel</th>\n",
       "      <th>Department</th>\n",
       "      <th>DistanceFromHome</th>\n",
       "      <th>Education</th>\n",
       "      <th>EducationField</th>\n",
       "      <th>EmployeeNumber</th>\n",
       "      <th>EnvironmentSatisfaction</th>\n",
       "      <th>Gender</th>\n",
       "      <th>...</th>\n",
       "      <th>OverTime</th>\n",
       "      <th>PercentSalaryHike</th>\n",
       "      <th>RelationshipSatisfaction</th>\n",
       "      <th>StockOptionLevel</th>\n",
       "      <th>TotalWorkingYears</th>\n",
       "      <th>TrainingTimesLastYear</th>\n",
       "      <th>WorkLifeBalance</th>\n",
       "      <th>YearsAtCompany</th>\n",
       "      <th>YearsInCurrentRole</th>\n",
       "      <th>YearsWithCurrManager</th>\n",
       "    </tr>\n",
       "  </thead>\n",
       "  <tbody>\n",
       "    <tr>\n",
       "      <th>0</th>\n",
       "      <td>0</td>\n",
       "      <td>33</td>\n",
       "      <td>Travel_Rarely</td>\n",
       "      <td>Research &amp; Development</td>\n",
       "      <td>7.0</td>\n",
       "      <td>3</td>\n",
       "      <td>Medical</td>\n",
       "      <td>817</td>\n",
       "      <td>3</td>\n",
       "      <td>Male</td>\n",
       "      <td>...</td>\n",
       "      <td>No</td>\n",
       "      <td>11</td>\n",
       "      <td>4</td>\n",
       "      <td>0</td>\n",
       "      <td>14</td>\n",
       "      <td>3</td>\n",
       "      <td>4</td>\n",
       "      <td>13</td>\n",
       "      <td>9</td>\n",
       "      <td>7</td>\n",
       "    </tr>\n",
       "    <tr>\n",
       "      <th>1</th>\n",
       "      <td>0</td>\n",
       "      <td>35</td>\n",
       "      <td>Travel_Frequently</td>\n",
       "      <td>Research &amp; Development</td>\n",
       "      <td>18.0</td>\n",
       "      <td>2</td>\n",
       "      <td>Life Sciences</td>\n",
       "      <td>1412</td>\n",
       "      <td>3</td>\n",
       "      <td>Male</td>\n",
       "      <td>...</td>\n",
       "      <td>No</td>\n",
       "      <td>11</td>\n",
       "      <td>3</td>\n",
       "      <td>0</td>\n",
       "      <td>10</td>\n",
       "      <td>2</td>\n",
       "      <td>3</td>\n",
       "      <td>2</td>\n",
       "      <td>2</td>\n",
       "      <td>2</td>\n",
       "    </tr>\n",
       "    <tr>\n",
       "      <th>2</th>\n",
       "      <td>0</td>\n",
       "      <td>42</td>\n",
       "      <td>Travel_Rarely</td>\n",
       "      <td>Research &amp; Development</td>\n",
       "      <td>6.0</td>\n",
       "      <td>3</td>\n",
       "      <td>Medical</td>\n",
       "      <td>1911</td>\n",
       "      <td>3</td>\n",
       "      <td>Male</td>\n",
       "      <td>...</td>\n",
       "      <td>No</td>\n",
       "      <td>13</td>\n",
       "      <td>2</td>\n",
       "      <td>1</td>\n",
       "      <td>18</td>\n",
       "      <td>3</td>\n",
       "      <td>4</td>\n",
       "      <td>13</td>\n",
       "      <td>7</td>\n",
       "      <td>7</td>\n",
       "    </tr>\n",
       "    <tr>\n",
       "      <th>3</th>\n",
       "      <td>0</td>\n",
       "      <td>46</td>\n",
       "      <td>Travel_Rarely</td>\n",
       "      <td>Sales</td>\n",
       "      <td>2.0</td>\n",
       "      <td>3</td>\n",
       "      <td>Marketing</td>\n",
       "      <td>1204</td>\n",
       "      <td>3</td>\n",
       "      <td>Female</td>\n",
       "      <td>...</td>\n",
       "      <td>No</td>\n",
       "      <td>23</td>\n",
       "      <td>1</td>\n",
       "      <td>0</td>\n",
       "      <td>28</td>\n",
       "      <td>2</td>\n",
       "      <td>3</td>\n",
       "      <td>26</td>\n",
       "      <td>15</td>\n",
       "      <td>9</td>\n",
       "    </tr>\n",
       "    <tr>\n",
       "      <th>4</th>\n",
       "      <td>0</td>\n",
       "      <td>39</td>\n",
       "      <td>Travel_Frequently</td>\n",
       "      <td>Sales</td>\n",
       "      <td>NaN</td>\n",
       "      <td>3</td>\n",
       "      <td>Life Sciences</td>\n",
       "      <td>1812</td>\n",
       "      <td>3</td>\n",
       "      <td>Male</td>\n",
       "      <td>...</td>\n",
       "      <td>No</td>\n",
       "      <td>18</td>\n",
       "      <td>4</td>\n",
       "      <td>1</td>\n",
       "      <td>7</td>\n",
       "      <td>6</td>\n",
       "      <td>3</td>\n",
       "      <td>2</td>\n",
       "      <td>1</td>\n",
       "      <td>2</td>\n",
       "    </tr>\n",
       "  </tbody>\n",
       "</table>\n",
       "<p>5 rows × 26 columns</p>\n",
       "</div>"
      ],
      "text/plain": [
       "   Attrition  Age     BusinessTravel              Department  \\\n",
       "0          0   33      Travel_Rarely  Research & Development   \n",
       "1          0   35  Travel_Frequently  Research & Development   \n",
       "2          0   42      Travel_Rarely  Research & Development   \n",
       "3          0   46      Travel_Rarely                   Sales   \n",
       "4          0   39  Travel_Frequently                   Sales   \n",
       "\n",
       "   DistanceFromHome  Education EducationField  EmployeeNumber  \\\n",
       "0               7.0          3        Medical             817   \n",
       "1              18.0          2  Life Sciences            1412   \n",
       "2               6.0          3        Medical            1911   \n",
       "3               2.0          3      Marketing            1204   \n",
       "4               NaN          3  Life Sciences            1812   \n",
       "\n",
       "   EnvironmentSatisfaction  Gender  ...  OverTime PercentSalaryHike  \\\n",
       "0                        3    Male  ...        No                11   \n",
       "1                        3    Male  ...        No                11   \n",
       "2                        3    Male  ...        No                13   \n",
       "3                        3  Female  ...        No                23   \n",
       "4                        3    Male  ...        No                18   \n",
       "\n",
       "   RelationshipSatisfaction StockOptionLevel  TotalWorkingYears  \\\n",
       "0                         4                0                 14   \n",
       "1                         3                0                 10   \n",
       "2                         2                1                 18   \n",
       "3                         1                0                 28   \n",
       "4                         4                1                  7   \n",
       "\n",
       "   TrainingTimesLastYear WorkLifeBalance  YearsAtCompany  YearsInCurrentRole  \\\n",
       "0                      3               4              13                   9   \n",
       "1                      2               3               2                   2   \n",
       "2                      3               4              13                   7   \n",
       "3                      2               3              26                  15   \n",
       "4                      6               3               2                   1   \n",
       "\n",
       "   YearsWithCurrManager  \n",
       "0                     7  \n",
       "1                     2  \n",
       "2                     7  \n",
       "3                     9  \n",
       "4                     2  \n",
       "\n",
       "[5 rows x 26 columns]"
      ]
     },
     "execution_count": 87,
     "metadata": {},
     "output_type": "execute_result"
    }
   ],
   "source": [
    "df.head()"
   ]
  },
  {
   "cell_type": "code",
   "execution_count": 97,
   "metadata": {},
   "outputs": [
    {
     "data": {
      "text/html": [
       "<div>\n",
       "<style scoped>\n",
       "    .dataframe tbody tr th:only-of-type {\n",
       "        vertical-align: middle;\n",
       "    }\n",
       "\n",
       "    .dataframe tbody tr th {\n",
       "        vertical-align: top;\n",
       "    }\n",
       "\n",
       "    .dataframe thead th {\n",
       "        text-align: right;\n",
       "    }\n",
       "</style>\n",
       "<table border=\"1\" class=\"dataframe\">\n",
       "  <thead>\n",
       "    <tr style=\"text-align: right;\">\n",
       "      <th></th>\n",
       "      <th>MonthlyIncome</th>\n",
       "      <th>Department</th>\n",
       "    </tr>\n",
       "  </thead>\n",
       "  <tbody>\n",
       "    <tr>\n",
       "      <th>27</th>\n",
       "      <td>1393</td>\n",
       "      <td>Research &amp; Development</td>\n",
       "    </tr>\n",
       "    <tr>\n",
       "      <th>29</th>\n",
       "      <td>2933</td>\n",
       "      <td>Research &amp; Development</td>\n",
       "    </tr>\n",
       "    <tr>\n",
       "      <th>93</th>\n",
       "      <td>1569</td>\n",
       "      <td>Sales</td>\n",
       "    </tr>\n",
       "    <tr>\n",
       "      <th>95</th>\n",
       "      <td>1009</td>\n",
       "      <td>Research &amp; Development</td>\n",
       "    </tr>\n",
       "    <tr>\n",
       "      <th>100</th>\n",
       "      <td>2515</td>\n",
       "      <td>Research &amp; Development</td>\n",
       "    </tr>\n",
       "    <tr>\n",
       "      <th>...</th>\n",
       "      <td>...</td>\n",
       "      <td>...</td>\n",
       "    </tr>\n",
       "    <tr>\n",
       "      <th>1194</th>\n",
       "      <td>1790</td>\n",
       "      <td>Sales</td>\n",
       "    </tr>\n",
       "    <tr>\n",
       "      <th>1204</th>\n",
       "      <td>2564</td>\n",
       "      <td>Human Resources</td>\n",
       "    </tr>\n",
       "    <tr>\n",
       "      <th>1216</th>\n",
       "      <td>1859</td>\n",
       "      <td>Research &amp; Development</td>\n",
       "    </tr>\n",
       "    <tr>\n",
       "      <th>1227</th>\n",
       "      <td>2853</td>\n",
       "      <td>Research &amp; Development</td>\n",
       "    </tr>\n",
       "    <tr>\n",
       "      <th>1230</th>\n",
       "      <td>2121</td>\n",
       "      <td>Sales</td>\n",
       "    </tr>\n",
       "  </tbody>\n",
       "</table>\n",
       "<p>80 rows × 2 columns</p>\n",
       "</div>"
      ],
      "text/plain": [
       "      MonthlyIncome              Department\n",
       "27             1393  Research & Development\n",
       "29             2933  Research & Development\n",
       "93             1569                   Sales\n",
       "95             1009  Research & Development\n",
       "100            2515  Research & Development\n",
       "...             ...                     ...\n",
       "1194           1790                   Sales\n",
       "1204           2564         Human Resources\n",
       "1216           1859  Research & Development\n",
       "1227           2853  Research & Development\n",
       "1230           2121                   Sales\n",
       "\n",
       "[80 rows x 2 columns]"
      ]
     },
     "execution_count": 97,
     "metadata": {},
     "output_type": "execute_result"
    }
   ],
   "source": [
    "junior=df.loc[df['TotalWorkingYears'].between(0,1)][['MonthlyIncome','Department']]\n",
    "junior"
   ]
  },
  {
   "cell_type": "code",
   "execution_count": 101,
   "metadata": {},
   "outputs": [
    {
     "data": {
      "text/plain": [
       "<AxesSubplot:xlabel='Department', ylabel='count'>"
      ]
     },
     "execution_count": 101,
     "metadata": {},
     "output_type": "execute_result"
    },
    {
     "data": {
      "image/png": "[encoded data removed]",
      "text/plain": [
       "<Figure size 432x288 with 1 Axes>"
      ]
     },
     "metadata": {
      "needs_background": "light"
     },
     "output_type": "display_data"
    }
   ],
   "source": [
    "sns.countplot(data=df, x='Department')"
   ]
  },
  {
   "cell_type": "code",
   "execution_count": 103,
   "metadata": {},
   "outputs": [
    {
     "data": {
      "text/plain": [
       "<AxesSubplot:xlabel='Department', ylabel='MonthlyIncome'>"
      ]
     },
     "execution_count": 103,
     "metadata": {},
     "output_type": "execute_result"
    },
    {
     "data": {
      "image/png": "[encoded data removed]",
      "text/plain": [
       "<Figure size 432x288 with 1 Axes>"
      ]
     },
     "metadata": {
      "needs_background": "light"
     },
     "output_type": "display_data"
    }
   ],
   "source": [
    "sns.barplot(x=\"Department\", y=\"MonthlyIncome\", data = junior)\n"
   ]
  },
  {
   "cell_type": "markdown",
   "metadata": {},
   "source": [
    "> 0~1년차 부서 중 판매 부서의 수입이 가장 적음. 판매 부서의 수입에 대한 개선이 필요해 보임"
   ]
  },
  {
   "cell_type": "markdown",
   "metadata": {},
   "source": [
    "---"
   ]
  },
  {
   "cell_type": "markdown",
   "metadata": {},
   "source": [
    "# 인사 프로그램 제안"
   ]
  },
  {
   "cell_type": "markdown",
   "metadata": {},
   "source": [
    "#### 1. 채용 과정 개선\n",
    "- 신입들 사이에서는 본인이 예상한 일과 실제 업무의 차이로 인한 이직도 발생한다. \n",
    "- 채용공고에서 직무에 대한 정확한 정보를 제공함으로써 실제 지원자가 입사해서 어떤 환경에서 어떤 일을 수행해야 하는지 명확하게 알려준다.\n",
    "\n",
    "#### 2. 조직문화 적응\n",
    "- 연차가 낮은 사람들이 많이 이탈하는 경향을 보인다. 0-1년 차는 회사에 아직 적응하는 단계라고 볼 수 있을 것이다.\n",
    "- 조직과 개인, 동료 간의 유대감을 높이는 과정을 통해 이직률을 감소시킬 수 있을 것이다.\n",
    "\n",
    "예시)\n",
    ">사내 멘토링 프로그램을 구축해서 팀원들과의 유대감을 높인다.\n",
    "\n",
    "> 입사 초기에 오리엔테이션 등을 그룹으로 진행, 회사의 일원이 되어가는 초기 프로세스를 단계별로 구축하고 명확한 정보와 플랜을 제공한다. \n",
    "\n",
    "#### 3. 근무 시간 조정\n",
    "- 유연근무,재택근무 등의 도입을 통해 직원들의 업무 집중도를 높인다. \n",
    "- 남는 시간에는 자기계발이나 휴식을 할 수 있으므로 워라밸에 대한 불만이 줄어들 것이다.\n",
    "\n",
    "#### 4. 성과에 대한 보상\n",
    "- 나이가 어릴수록 이직할 확률이 높아지는 것을 확인 할 수 있었다.\n",
    "- 젊은 세대는 공정과 형평성을 중요시 한다.\n"
   ]
  },
  {
   "cell_type": "markdown",
   "metadata": {},
   "source": [
    "예시)\n",
    "> 공정한 인사평가 제도를 구축하고 보상에 대한 합리적인 프로세스를 마련해야 한다.\n",
    "\n",
    "> 직원의 능력에 따라 합리적인 성과급을 제공한다.\n",
    "\n",
    "> 자신이 하는 일이 얼마나 회사에 기여하였는지 알 수 있도록 하고,  성취할 수 있는 목표를 꾸준히 제공하는 것이 필요하다. \n",
    "\n",
    "> 비전을 제시하고 회사의 미래를 함께하고 싶다는 생각을 하게 만드는 것이 중요할 것이다.\n",
    "\n",
    "#### 5. 커뮤니케이션을 통한 이직 원인 파악\n",
    "- 퇴사의사가 있다면, 인사팀과의 상담을 진행하고 원인을 파악한다.\n",
    "- 만일 직무에 대한 불만이 있다면 직원의 퍼포먼스나 적성등을 파악하고, 가능하다면 TO가 있는 다른 부서로 가는 것을 제안한다.\n",
    "\n",
    "#### 6. 판매 부서를 위한 인사 프로그램\n",
    "- 판매 부서의 월급 인상 또는 복지 개선이 이루어져야 한다.\n",
    "\n",
    "예시\n",
    "> 고객과 마찰이 많은 판매부서의 업무 강도를 줄임\n",
    "\n",
    "> 업무로 인해 발생하는 통신비 / 교통비를 적극 지원\n",
    "\n",
    "> 이동 시간도 업무 시간에 포함하여 별도의 휴게시간 보장\n",
    "\n",
    "> 업무상 재택근무가 불가하니 연차나 유연 근무제를 적극 권장\n",
    "\n",
    "> 개인 성장을 도모할 수 있는 개인역량 강화 지원 확대\n",
    "\n",
    "> 업무상의 과부하로 인해 발생하는 직업병에 대비해 건강보험 및 산재보험에 신경을 써야 함"
   ]
  }
 ],
 "metadata": {
  "colab": {
   "collapsed_sections": [
    "4UMjF0sTkr-4",
    "F_Mugk3f_y3X",
    "UVjP9xEt2pVn",
    "CfOiGI1D2pne"
   ],
   "name": "과제1. 직원 이직 분석_이변량분석.ipynb",
   "provenance": [],
   "toc_visible": true
  },
  "interpreter": {
   "hash": "7e75508efe3816014572632e6ee96cf5874a505de6805a504551adb36a48c87e"
  },
  "kernelspec": {
   "display_name": "Python 3 (ipykernel)",
   "language": "python",
   "name": "python3"
  },
  "language_info": {
   "codemirror_mode": {
    "name": "ipython",
    "version": 3
   },
   "file_extension": ".py",
   "mimetype": "text/x-python",
   "name": "python",
   "nbconvert_exporter": "python",
   "pygments_lexer": "ipython3",
   "version": "3.9.7"
  }
 },
 "nbformat": 4,
 "nbformat_minor": 1
}
